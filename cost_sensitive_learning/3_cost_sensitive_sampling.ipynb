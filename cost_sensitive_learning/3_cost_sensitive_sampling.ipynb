{
 "cells": [
  {
   "cell_type": "code",
   "execution_count": 1,
   "id": "60e8cb92-8fde-45ae-82e1-19265454d5d3",
   "metadata": {},
   "outputs": [],
   "source": [
    "import numpy as np\n",
    "import pandas as pd\n",
    "import seaborn as sns\n",
    "from sklearn.linear_model import LogisticRegression\n",
    "\n",
    "from lib.creditcard_fraud_dataset import get_train_test_dfs, X_COLS"
   ]
  },
  {
   "cell_type": "markdown",
   "id": "baa1c123",
   "metadata": {},
   "source": [
    "# 3. Cost-sensitive sampling\n",
    "\n",
    "In the previous notebook, we just wanted to get the same number of positives (fraudulent transactions) and negatives (non-fraudulent transactions). However, we could also choose the number of positives and negatives **that takes the costs into account**.\n",
    "\n",
    "We will resample data such that the positive-negative ratio is equal to:\n",
    "\n",
    "$$\n",
    "r_{cs} = \\frac{|N^+|}{|N^-|}\\cdot\\frac{C_{FN}}{C_{FP}},\n",
    "$$\n",
    "\n",
    "with $|N^+|$ and $|N^-|$ the original number of positive, resp. negative, classes and $C_{FN}$, $C_{FP}$ the cost of false negative and false positive, respectively.\n",
    "\n",
    "Note that the costs for a false negative and false positive classification vary for each transaction, so each transaction yields a different ratio. To obtain a global ratio, we will compute the **average all record-specific ratios**."
   ]
  },
  {
   "cell_type": "markdown",
   "id": "cf450fdd",
   "metadata": {},
   "source": [
    "## 3.1 Train"
   ]
  },
  {
   "cell_type": "code",
   "execution_count": 2,
   "id": "dbefbc68-6033-4ab0-a461-687106b9e836",
   "metadata": {},
   "outputs": [],
   "source": [
    "df_train, df_test = get_train_test_dfs()"
   ]
  },
  {
   "cell_type": "markdown",
   "id": "ae3a4c44-c14f-4f7e-9204-98faf068fad0",
   "metadata": {},
   "source": [
    "### 3.1.1 Run training *without* balancing\n",
    "\n",
    "First, we'll run a training with the original (unbalanced) dataset."
   ]
  },
  {
   "cell_type": "code",
   "execution_count": 3,
   "id": "1596cc6c-152e-4ca0-afb7-51bc09070295",
   "metadata": {
    "tags": []
   },
   "outputs": [],
   "source": [
    "X_train = df_train[X_COLS]\n",
    "y_train = df_train['Class']"
   ]
  },
  {
   "cell_type": "code",
   "execution_count": 4,
   "id": "1b1962aa-47fe-4568-8179-42f2ffb7742e",
   "metadata": {
    "tags": []
   },
   "outputs": [
    {
     "data": {
      "text/plain": [
       "LogisticRegression(max_iter=500)"
      ]
     },
     "execution_count": 4,
     "metadata": {},
     "output_type": "execute_result"
    }
   ],
   "source": [
    "# Create a logistic regression classifier\n",
    "clf_no_cs = LogisticRegression(max_iter=500)\n",
    "\n",
    "# Train it on X_train and y_train\n",
    "clf_no_cs.fit(X_train, y_train)"
   ]
  },
  {
   "cell_type": "markdown",
   "id": "6002e42b-20c5-4b59-9674-bb616666f144",
   "metadata": {},
   "source": [
    "### 3.1.2 Run training *with* balancing\n",
    "\n",
    "Next, we will balance the dataset by using **the same number of negatives and positives**. More specifically, we will **subsample the number of negatives** until it is equal to the number of positives.\n",
    "\n",
    "To start, let's first compute the number of fraudulent transactions."
   ]
  },
  {
   "cell_type": "code",
   "execution_count": 5,
   "id": "6f036569",
   "metadata": {},
   "outputs": [],
   "source": [
    "def get_cost_sensitive_sampling_ratios(df_train):\n",
    "    \"\"\"\n",
    "    Return the cost-sensitive sampling ratio of each record.\n",
    "    \n",
    "    Args:\n",
    "        df_train: The training dataframe. It should contain the columns\n",
    "            \"Class\", \"C_FN\" and \"C_FP\" with the class, false negative cost\n",
    "            and false positive cost, respectively.\n",
    "    \"\"\"\n",
    "    num_fraud = df_train['Class'].sum()\n",
    "    num_no_fraud = len(df_train) - num_fraud\n",
    "\n",
    "    return (df_train['C_FN'] / df_train['C_FP']) * (num_fraud / num_no_fraud)"
   ]
  },
  {
   "cell_type": "markdown",
   "id": "48eb8b48-85ed-4de6-a653-d0e1f4eb2b4c",
   "metadata": {},
   "source": [
    "To balance the dataset, we  will do the same as in the previous notebook, but will now use the **cost-sensitive positive-negative ratio** to determine the number of non-fraudulent transactions to sample."
   ]
  },
  {
   "cell_type": "code",
   "execution_count": 6,
   "id": "0063cc1e-6158-4674-9d1d-5cf8dbf27ca3",
   "metadata": {
    "tags": []
   },
   "outputs": [],
   "source": [
    "# Define X_fraud\n",
    "is_fraud = y_train == 1\n",
    "X_fraud = X_train[is_fraud]"
   ]
  },
  {
   "cell_type": "code",
   "execution_count": 7,
   "id": "920d0a6d-836e-4783-a379-fc313cc87117",
   "metadata": {
    "tags": []
   },
   "outputs": [],
   "source": [
    "# Compute cost-sensitive positive-negative ratio\n",
    "record_spec_r_cs = get_cost_sensitive_sampling_ratios(df_train)\n",
    "global_r_cs = record_spec_r_cs.mean()\n",
    "\n",
    "# Compute number of non-fraudulent transactions to sample\n",
    "num_fraud = len(X_fraud)\n",
    "num_no_fraud_sample = int(num_fraud / global_r_cs)"
   ]
  },
  {
   "cell_type": "code",
   "execution_count": 8,
   "id": "bea5d34e-a65c-4656-9daa-afc049be8ca4",
   "metadata": {
    "tags": []
   },
   "outputs": [],
   "source": [
    "# Define X_no_fraud by sampling from all non-fraudulent rows\n",
    "no_fraud = y_train == 0\n",
    "X_no_fraud = X_train[no_fraud]\n",
    "X_no_fraud = X_no_fraud.sample(n=num_no_fraud_sample)"
   ]
  },
  {
   "cell_type": "code",
   "execution_count": 9,
   "id": "c1a7ce30-438c-4d27-a20a-2837a893bc39",
   "metadata": {
    "tags": []
   },
   "outputs": [],
   "source": [
    "X_cs = pd.concat([X_fraud, X_no_fraud])\n",
    "y_cs = np.concatenate([np.ones(len(X_fraud)),\n",
    "                       np.zeros(len(X_no_fraud))])"
   ]
  },
  {
   "cell_type": "code",
   "execution_count": 10,
   "id": "7a77b79d-6493-4297-97a8-79c64b42a4d3",
   "metadata": {
    "tags": []
   },
   "outputs": [
    {
     "data": {
      "text/plain": [
       "LogisticRegression(max_iter=500)"
      ]
     },
     "execution_count": 10,
     "metadata": {},
     "output_type": "execute_result"
    }
   ],
   "source": [
    "# Train the classifier\n",
    "clf_cs = LogisticRegression(max_iter=500)\n",
    "clf_cs.fit(X_cs, y_cs)"
   ]
  },
  {
   "cell_type": "markdown",
   "id": "fc217302",
   "metadata": {},
   "source": [
    "## 3.2 Evaluate"
   ]
  },
  {
   "cell_type": "code",
   "execution_count": 11,
   "id": "28ae8391-28f4-421a-b57c-1dbef5a86a5e",
   "metadata": {
    "tags": []
   },
   "outputs": [],
   "source": [
    "X_test = df_test[X_COLS]   # Model inputs\n",
    "y_test = df_test['Class']  # Expected outputs"
   ]
  },
  {
   "cell_type": "code",
   "execution_count": 12,
   "id": "1edfc265",
   "metadata": {},
   "outputs": [],
   "source": [
    "# Predictions of classifier without cost-sensitive sampling\n",
    "y_pred_no_cs = clf_no_cs.predict(X_test)\n",
    "\n",
    "# Predictions of classifier with cost-sensitive sampling\n",
    "y_pred_cs = clf_cs.predict(X_test)"
   ]
  },
  {
   "cell_type": "code",
   "execution_count": 13,
   "id": "9d449297-e958-4232-9e5f-e006eaa058ce",
   "metadata": {
    "tags": []
   },
   "outputs": [],
   "source": [
    "from lib.cs_eval import evaluate_pred\n",
    "\n",
    "# Get the transaction amounts\n",
    "amounts = df_test['Amount']\n",
    "\n",
    "# Compute metrics for each classifier\n",
    "eval_metrics_no_cs = evaluate_pred(y_test, y_pred_no_cs, amounts)\n",
    "eval_metrics_cs    = evaluate_pred(y_test, y_pred_cs,    amounts)"
   ]
  },
  {
   "cell_type": "code",
   "execution_count": 14,
   "id": "a77f87a8",
   "metadata": {},
   "outputs": [],
   "source": [
    "df = pd.DataFrame([\n",
    "    {\n",
    "        'Method': 'Without cost-sensitive sampling',\n",
    "        **eval_metrics_no_cs\n",
    "    },\n",
    "    {\n",
    "        'Method': 'With cost-sensitive sampling',\n",
    "        **eval_metrics_cs\n",
    "    }\n",
    "])"
   ]
  },
  {
   "cell_type": "code",
   "execution_count": 15,
   "id": "262a8ce5",
   "metadata": {},
   "outputs": [
    {
     "data": {
      "text/html": [
       "<div>\n",
       "<style scoped>\n",
       "    .dataframe tbody tr th:only-of-type {\n",
       "        vertical-align: middle;\n",
       "    }\n",
       "\n",
       "    .dataframe tbody tr th {\n",
       "        vertical-align: top;\n",
       "    }\n",
       "\n",
       "    .dataframe thead th {\n",
       "        text-align: right;\n",
       "    }\n",
       "</style>\n",
       "<table border=\"1\" class=\"dataframe\">\n",
       "  <thead>\n",
       "    <tr style=\"text-align: right;\">\n",
       "      <th></th>\n",
       "      <th>Method</th>\n",
       "      <th>Cost Precision</th>\n",
       "      <th>Cost Recall</th>\n",
       "      <th>TP Amount</th>\n",
       "      <th>FP Amount</th>\n",
       "      <th>FN Amount</th>\n",
       "      <th>Net Recovered Amount</th>\n",
       "    </tr>\n",
       "  </thead>\n",
       "  <tbody>\n",
       "    <tr>\n",
       "      <th>0</th>\n",
       "      <td>Without cost-sensitive sampling</td>\n",
       "      <td>0.997766</td>\n",
       "      <td>0.514306</td>\n",
       "      <td>16075.45</td>\n",
       "      <td>36.0</td>\n",
       "      <td>15181.12</td>\n",
       "      <td>858.33</td>\n",
       "    </tr>\n",
       "    <tr>\n",
       "      <th>1</th>\n",
       "      <td>With cost-sensitive sampling</td>\n",
       "      <td>0.978036</td>\n",
       "      <td>0.800632</td>\n",
       "      <td>25025.00</td>\n",
       "      <td>562.0</td>\n",
       "      <td>6231.57</td>\n",
       "      <td>18231.43</td>\n",
       "    </tr>\n",
       "  </tbody>\n",
       "</table>\n",
       "</div>"
      ],
      "text/plain": [
       "                            Method  Cost Precision  Cost Recall  TP Amount  \\\n",
       "0  Without cost-sensitive sampling        0.997766     0.514306   16075.45   \n",
       "1     With cost-sensitive sampling        0.978036     0.800632   25025.00   \n",
       "\n",
       "   FP Amount  FN Amount  Net Recovered Amount  \n",
       "0       36.0   15181.12                858.33  \n",
       "1      562.0    6231.57              18231.43  "
      ]
     },
     "execution_count": 15,
     "metadata": {},
     "output_type": "execute_result"
    }
   ],
   "source": [
    "df"
   ]
  },
  {
   "cell_type": "code",
   "execution_count": 16,
   "id": "d3b860fa",
   "metadata": {},
   "outputs": [
    {
     "data": {
      "text/plain": [
       "<AxesSubplot:xlabel='Method', ylabel='Cost Recall'>"
      ]
     },
     "execution_count": 16,
     "metadata": {},
     "output_type": "execute_result"
    },
    {
     "data": {
      "image/png": "[encoded data removed]",
      "text/plain": [
       "<Figure size 640x480 with 1 Axes>"
      ]
     },
     "metadata": {},
     "output_type": "display_data"
    }
   ],
   "source": [
    "sns.barplot(data=df, x='Method', y='Cost Recall')"
   ]
  },
  {
   "cell_type": "code",
   "execution_count": 17,
   "id": "42de15be",
   "metadata": {},
   "outputs": [
    {
     "data": {
      "text/plain": [
       "<AxesSubplot:xlabel='Method', ylabel='Cost Precision'>"
      ]
     },
     "execution_count": 17,
     "metadata": {},
     "output_type": "execute_result"
    },
    {
     "data": {
      "image/png": "[encoded data removed]",
      "text/plain": [
       "<Figure size 640x480 with 1 Axes>"
      ]
     },
     "metadata": {},
     "output_type": "display_data"
    }
   ],
   "source": [
    "sns.barplot(data=df, x='Method', y='Cost Precision')"
   ]
  },
  {
   "cell_type": "code",
   "execution_count": null,
   "id": "02f21918",
   "metadata": {},
   "outputs": [],
   "source": []
  }
 ],
 "metadata": {
  "kernelspec": {
   "display_name": "Python 3 (ipykernel)",
   "language": "python",
   "name": "python3"
  },
  "language_info": {
   "codemirror_mode": {
    "name": "ipython",
    "version": 3
   },
   "file_extension": ".py",
   "mimetype": "text/x-python",
   "name": "python",
   "nbconvert_exporter": "python",
   "pygments_lexer": "ipython3",
   "version": "3.10.6"
  }
 },
 "nbformat": 4,
 "nbformat_minor": 5
}
