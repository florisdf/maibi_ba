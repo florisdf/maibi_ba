{
 "cells": [
  {
   "cell_type": "code",
   "execution_count": 1,
   "id": "0701ebc8",
   "metadata": {},
   "outputs": [
    {
     "name": "stderr",
     "output_type": "stream",
     "text": [
      "Registered S3 methods overwritten by 'ggplot2':\n",
      "  method         from \n",
      "  [.quosures     rlang\n",
      "  c.quosures     rlang\n",
      "  print.quosures rlang\n",
      "Package version: 3.2.0\n",
      "Unicode version: 13.0\n",
      "ICU version: 69.1\n",
      "Parallel computing: 24 of 24 threads used.\n",
      "See https://quanteda.io for tutorials and examples.\n"
     ]
    }
   ],
   "source": [
    "library(\"sentometrics\")\n",
    "library(\"quanteda\")"
   ]
  },
  {
   "cell_type": "markdown",
   "id": "28503886",
   "metadata": {},
   "source": [
    "# Step 0: Create a corpus\n",
    "\n",
    "To get started, we need a corpus of documents. In this notebook, we will use a set of news articles from The Wall Street Journal and The Washington Post published between 1995 and 2014."
   ]
  },
  {
   "cell_type": "code",
   "execution_count": 2,
   "id": "9dace361",
   "metadata": {},
   "outputs": [],
   "source": [
    "data(\"usnews\", package=\"sentometrics\")"
   ]
  },
  {
   "cell_type": "markdown",
   "id": "27a65a4a",
   "metadata": {},
   "source": [
    "As we can see, data already contains a tabular structure (more specifically, it is a `data.frame`) and has some columns containing metadata. The columns `wsj` and `wapo` indicate the paper in which the article was pusblished. The columns `economy` and `noneconomy` indicate whether or not the article was related to economy."
   ]
  },
  {
   "cell_type": "code",
   "execution_count": 3,
   "id": "8f8552c0",
   "metadata": {
    "scrolled": false
   },
   "outputs": [
    {
     "data": {
      "text/html": [
       "<table>\n",
       "<thead><tr><th scope=col>id</th><th scope=col>date</th><th scope=col>wsj</th><th scope=col>wapo</th><th scope=col>economy</th><th scope=col>noneconomy</th></tr></thead>\n",
       "<tbody>\n",
       "\t<tr><td>830981846 </td><td>1995-01-02</td><td>0         </td><td>1         </td><td>1         </td><td>0         </td></tr>\n",
       "\t<tr><td>842617067 </td><td>1995-01-05</td><td>1         </td><td>0         </td><td>0         </td><td>1         </td></tr>\n",
       "\t<tr><td>830982165 </td><td>1995-01-05</td><td>0         </td><td>1         </td><td>0         </td><td>1         </td></tr>\n",
       "\t<tr><td>830982389 </td><td>1995-01-08</td><td>0         </td><td>1         </td><td>0         </td><td>1         </td></tr>\n",
       "\t<tr><td>842615996 </td><td>1995-01-09</td><td>1         </td><td>0         </td><td>0         </td><td>1         </td></tr>\n",
       "\t<tr><td>830982368 </td><td>1995-01-09</td><td>0         </td><td>1         </td><td>1         </td><td>0         </td></tr>\n",
       "</tbody>\n",
       "</table>\n"
      ],
      "text/latex": [
       "\\begin{tabular}{r|llllll}\n",
       " id & date & wsj & wapo & economy & noneconomy\\\\\n",
       "\\hline\n",
       "\t 830981846  & 1995-01-02 & 0          & 1          & 1          & 0         \\\\\n",
       "\t 842617067  & 1995-01-05 & 1          & 0          & 0          & 1         \\\\\n",
       "\t 830982165  & 1995-01-05 & 0          & 1          & 0          & 1         \\\\\n",
       "\t 830982389  & 1995-01-08 & 0          & 1          & 0          & 1         \\\\\n",
       "\t 842615996  & 1995-01-09 & 1          & 0          & 0          & 1         \\\\\n",
       "\t 830982368  & 1995-01-09 & 0          & 1          & 1          & 0         \\\\\n",
       "\\end{tabular}\n"
      ],
      "text/markdown": [
       "\n",
       "| id | date | wsj | wapo | economy | noneconomy |\n",
       "|---|---|---|---|---|---|\n",
       "| 830981846  | 1995-01-02 | 0          | 1          | 1          | 0          |\n",
       "| 842617067  | 1995-01-05 | 1          | 0          | 0          | 1          |\n",
       "| 830982165  | 1995-01-05 | 0          | 1          | 0          | 1          |\n",
       "| 830982389  | 1995-01-08 | 0          | 1          | 0          | 1          |\n",
       "| 842615996  | 1995-01-09 | 1          | 0          | 0          | 1          |\n",
       "| 830982368  | 1995-01-09 | 0          | 1          | 1          | 0          |\n",
       "\n"
      ],
      "text/plain": [
       "  id        date       wsj wapo economy noneconomy\n",
       "1 830981846 1995-01-02 0   1    1       0         \n",
       "2 842617067 1995-01-05 1   0    0       1         \n",
       "3 830982165 1995-01-05 0   1    0       1         \n",
       "4 830982389 1995-01-08 0   1    0       1         \n",
       "5 842615996 1995-01-09 1   0    0       1         \n",
       "6 830982368 1995-01-09 0   1    1       0         "
      ]
     },
     "metadata": {},
     "output_type": "display_data"
    }
   ],
   "source": [
    "head(usnews[, -3])"
   ]
  },
  {
   "cell_type": "code",
   "execution_count": 4,
   "id": "15d677dd",
   "metadata": {},
   "outputs": [
    {
     "data": {
      "text/html": [
       "'Dow Jones Newswires NEW YORK -- Mortgage rates rose in the past week after Friday\\'s employment report reinforced the perception that the economy is on solid ground, said Freddie Mac in its weekly survey. The average for 30-year fixed mortgage rates for the week ended yesterday, rose to 5.85 from 5.79 a week earlier and 5.41 a year ago. The average for 15-year fixed-rate mortgages this week was 5.38, up from 5.33 a week ago and the year-ago 4.69. The rate for five-year Treasury-indexed hybrid adjustable-rate mortgages, was 5.22, up from the previous week\\'s average of 5.17. There is no historical information for last year since Freddie Mac began tracking this mortgage rate at the start of 2005.'"
      ],
      "text/latex": [
       "'Dow Jones Newswires NEW YORK -- Mortgage rates rose in the past week after Friday\\textbackslash{}'s employment report reinforced the perception that the economy is on solid ground, said Freddie Mac in its weekly survey. The average for 30-year fixed mortgage rates for the week ended yesterday, rose to 5.85 from 5.79 a week earlier and 5.41 a year ago. The average for 15-year fixed-rate mortgages this week was 5.38, up from 5.33 a week ago and the year-ago 4.69. The rate for five-year Treasury-indexed hybrid adjustable-rate mortgages, was 5.22, up from the previous week\\textbackslash{}'s average of 5.17. There is no historical information for last year since Freddie Mac began tracking this mortgage rate at the start of 2005.'"
      ],
      "text/markdown": [
       "'Dow Jones Newswires NEW YORK -- Mortgage rates rose in the past week after Friday\\'s employment report reinforced the perception that the economy is on solid ground, said Freddie Mac in its weekly survey. The average for 30-year fixed mortgage rates for the week ended yesterday, rose to 5.85 from 5.79 a week earlier and 5.41 a year ago. The average for 15-year fixed-rate mortgages this week was 5.38, up from 5.33 a week ago and the year-ago 4.69. The rate for five-year Treasury-indexed hybrid adjustable-rate mortgages, was 5.22, up from the previous week\\'s average of 5.17. There is no historical information for last year since Freddie Mac began tracking this mortgage rate at the start of 2005.'"
      ],
      "text/plain": [
       "[1] \"Dow Jones Newswires NEW YORK -- Mortgage rates rose in the past week after Friday's employment report reinforced the perception that the economy is on solid ground, said Freddie Mac in its weekly survey. The average for 30-year fixed mortgage rates for the week ended yesterday, rose to 5.85 from 5.79 a week earlier and 5.41 a year ago. The average for 15-year fixed-rate mortgages this week was 5.38, up from 5.33 a week ago and the year-ago 4.69. The rate for five-year Treasury-indexed hybrid adjustable-rate mortgages, was 5.22, up from the previous week's average of 5.17. There is no historical information for last year since Freddie Mac began tracking this mortgage rate at the start of 2005.\""
      ]
     },
     "metadata": {},
     "output_type": "display_data"
    }
   ],
   "source": [
    "usnews[[\"texts\"]][2029]"
   ]
  },
  {
   "cell_type": "markdown",
   "id": "4e5d0cb1",
   "metadata": {},
   "source": [
    "To make use of the functionalities provided by the `sentometrics` package, we convert the built-in corpus into a `sento_corpus` object."
   ]
  },
  {
   "cell_type": "code",
   "execution_count": 5,
   "id": "5739c1f1",
   "metadata": {},
   "outputs": [],
   "source": [
    "uscorpus <- sento_corpus(usnews)"
   ]
  },
  {
   "cell_type": "code",
   "execution_count": 6,
   "id": "5a8e8e0c",
   "metadata": {},
   "outputs": [
    {
     "data": {
      "text/html": [
       "<ol class=list-inline>\n",
       "\t<li>'sento_corpus'</li>\n",
       "\t<li>'corpus'</li>\n",
       "\t<li>'character'</li>\n",
       "</ol>\n"
      ],
      "text/latex": [
       "\\begin{enumerate*}\n",
       "\\item 'sento\\_corpus'\n",
       "\\item 'corpus'\n",
       "\\item 'character'\n",
       "\\end{enumerate*}\n"
      ],
      "text/markdown": [
       "1. 'sento_corpus'\n",
       "2. 'corpus'\n",
       "3. 'character'\n",
       "\n",
       "\n"
      ],
      "text/plain": [
       "[1] \"sento_corpus\" \"corpus\"       \"character\"   "
      ]
     },
     "metadata": {},
     "output_type": "display_data"
    }
   ],
   "source": [
    "class(uscorpus)"
   ]
  },
  {
   "cell_type": "code",
   "execution_count": 7,
   "id": "cb51632c",
   "metadata": {},
   "outputs": [
    {
     "data": {
      "text/html": [
       "'character'"
      ],
      "text/latex": [
       "'character'"
      ],
      "text/markdown": [
       "'character'"
      ],
      "text/plain": [
       "[1] \"character\""
      ]
     },
     "metadata": {},
     "output_type": "display_data"
    }
   ],
   "source": [
    "typeof(uscorpus)"
   ]
  },
  {
   "cell_type": "markdown",
   "id": "8c735438",
   "metadata": {},
   "source": [
    "# Step 1: Add features to each document\n",
    "\n",
    "The first step in sentiment analysis is to add extra features to each document. For example, we can check for the presence of certain words or match the words in the articles with a regular expression (regex)."
   ]
  },
  {
   "cell_type": "code",
   "execution_count": 8,
   "id": "b61e1161",
   "metadata": {},
   "outputs": [],
   "source": [
    "uncertainty_words <- c(\"uncertainty\", \"distrust\")\n",
    "election_regex <- \"\\\\bRepublic[s]?\\\\b|\\\\bDemocrat[s]?\\\\b|\\\\belection\\\\b\""
   ]
  },
  {
   "cell_type": "markdown",
   "id": "81c22d58",
   "metadata": {},
   "source": [
    "We can add the features to our `sento_corpus` object with the function `add_features()`. It takes in an `keywords` argument which is a named list that contains the keyword(s) for each feature."
   ]
  },
  {
   "cell_type": "code",
   "execution_count": 9,
   "id": "e5dd4545",
   "metadata": {},
   "outputs": [],
   "source": [
    "keywords <- list(uncertainty = uncertainty_words, election = election_regex)"
   ]
  },
  {
   "cell_type": "code",
   "execution_count": 10,
   "id": "0d045526",
   "metadata": {},
   "outputs": [
    {
     "data": {
      "text/html": [
       "<dl>\n",
       "\t<dt>$uncertainty</dt>\n",
       "\t\t<dd><ol class=list-inline>\n",
       "\t<li>'uncertainty'</li>\n",
       "\t<li>'distrust'</li>\n",
       "</ol>\n",
       "</dd>\n",
       "\t<dt>$election</dt>\n",
       "\t\t<dd>'\\\\bRepublic[s]?\\\\b|\\\\bDemocrat[s]?\\\\b|\\\\belection\\\\b'</dd>\n",
       "</dl>\n"
      ],
      "text/latex": [
       "\\begin{description}\n",
       "\\item[\\$uncertainty] \\begin{enumerate*}\n",
       "\\item 'uncertainty'\n",
       "\\item 'distrust'\n",
       "\\end{enumerate*}\n",
       "\n",
       "\\item[\\$election] '\\textbackslash{}\\textbackslash{}bRepublic{[}s{]}?\\textbackslash{}\\textbackslash{}b\\textbar{}\\textbackslash{}\\textbackslash{}bDemocrat{[}s{]}?\\textbackslash{}\\textbackslash{}b\\textbar{}\\textbackslash{}\\textbackslash{}belection\\textbackslash{}\\textbackslash{}b'\n",
       "\\end{description}\n"
      ],
      "text/markdown": [
       "$uncertainty\n",
       ":   1. 'uncertainty'\n",
       "2. 'distrust'\n",
       "\n",
       "\n",
       "\n",
       "$election\n",
       ":   '\\\\bRepublic[s]?\\\\b|\\\\bDemocrat[s]?\\\\b|\\\\belection\\\\b'\n",
       "\n",
       "\n"
      ],
      "text/plain": [
       "$uncertainty\n",
       "[1] \"uncertainty\" \"distrust\"   \n",
       "\n",
       "$election\n",
       "[1] \"\\\\bRepublic[s]?\\\\b|\\\\bDemocrat[s]?\\\\b|\\\\belection\\\\b\"\n"
      ]
     },
     "metadata": {},
     "output_type": "display_data"
    }
   ],
   "source": [
    "keywords"
   ]
  },
  {
   "cell_type": "code",
   "execution_count": 11,
   "id": "d6080f5c",
   "metadata": {},
   "outputs": [],
   "source": [
    "uscorpus <- add_features(uscorpus,\n",
    "                         keywords = keywords,\n",
    "                         do.binary = TRUE, do.regex = c(FALSE, TRUE))"
   ]
  },
  {
   "cell_type": "markdown",
   "id": "158d9626",
   "metadata": {},
   "source": [
    "We can list the variables (which includes the features, but also the date) of each document in out corpus with the method `docvars()`."
   ]
  },
  {
   "cell_type": "code",
   "execution_count": 12,
   "id": "4dd9ed71",
   "metadata": {
    "scrolled": true
   },
   "outputs": [
    {
     "data": {
      "text/html": [
       "<table>\n",
       "<thead><tr><th scope=col>date</th><th scope=col>wsj</th><th scope=col>wapo</th><th scope=col>economy</th><th scope=col>noneconomy</th><th scope=col>uncertainty</th><th scope=col>election</th></tr></thead>\n",
       "<tbody>\n",
       "\t<tr><td>1995-01-02</td><td>0         </td><td>1         </td><td>1         </td><td>0         </td><td>0         </td><td>0         </td></tr>\n",
       "\t<tr><td>1995-01-05</td><td>1         </td><td>0         </td><td>0         </td><td>1         </td><td>0         </td><td>0         </td></tr>\n",
       "\t<tr><td>1995-01-05</td><td>0         </td><td>1         </td><td>0         </td><td>1         </td><td>0         </td><td>0         </td></tr>\n",
       "\t<tr><td>1995-01-08</td><td>0         </td><td>1         </td><td>0         </td><td>1         </td><td>0         </td><td>0         </td></tr>\n",
       "\t<tr><td>1995-01-09</td><td>1         </td><td>0         </td><td>0         </td><td>1         </td><td>0         </td><td>0         </td></tr>\n",
       "\t<tr><td>1995-01-09</td><td>0         </td><td>1         </td><td>1         </td><td>0         </td><td>0         </td><td>0         </td></tr>\n",
       "\t<tr><td>1995-01-10</td><td>1         </td><td>0         </td><td>1         </td><td>0         </td><td>0         </td><td>0         </td></tr>\n",
       "\t<tr><td>1995-01-10</td><td>0         </td><td>1         </td><td>0         </td><td>1         </td><td>0         </td><td>0         </td></tr>\n",
       "\t<tr><td>1995-01-11</td><td>1         </td><td>0         </td><td>0         </td><td>1         </td><td>0         </td><td>0         </td></tr>\n",
       "\t<tr><td>1995-01-16</td><td>1         </td><td>0         </td><td>0         </td><td>1         </td><td>0         </td><td>0         </td></tr>\n",
       "\t<tr><td>1995-01-18</td><td>0         </td><td>1         </td><td>0         </td><td>1         </td><td>0         </td><td>0         </td></tr>\n",
       "\t<tr><td>1995-01-19</td><td>1         </td><td>0         </td><td>1         </td><td>0         </td><td>0         </td><td>0         </td></tr>\n",
       "\t<tr><td>1995-01-19</td><td>0         </td><td>1         </td><td>0         </td><td>1         </td><td>0         </td><td>0         </td></tr>\n",
       "\t<tr><td>1995-01-19</td><td>0         </td><td>1         </td><td>0         </td><td>1         </td><td>0         </td><td>0         </td></tr>\n",
       "\t<tr><td>1995-01-20</td><td>1         </td><td>0         </td><td>1         </td><td>0         </td><td>0         </td><td>0         </td></tr>\n",
       "\t<tr><td>1995-01-20</td><td>1         </td><td>0         </td><td>0         </td><td>1         </td><td>0         </td><td>0         </td></tr>\n",
       "\t<tr><td>1995-01-20</td><td>0         </td><td>1         </td><td>1         </td><td>0         </td><td>0         </td><td>1         </td></tr>\n",
       "\t<tr><td>1995-01-25</td><td>1         </td><td>0         </td><td>0         </td><td>1         </td><td>1         </td><td>0         </td></tr>\n",
       "\t<tr><td>1995-01-26</td><td>0         </td><td>1         </td><td>0         </td><td>1         </td><td>0         </td><td>0         </td></tr>\n",
       "\t<tr><td>1995-01-26</td><td>0         </td><td>1         </td><td>0         </td><td>1         </td><td>0         </td><td>0         </td></tr>\n",
       "\t<tr><td>1995-01-31</td><td>0         </td><td>1         </td><td>0         </td><td>1         </td><td>0         </td><td>0         </td></tr>\n",
       "\t<tr><td>1995-02-02</td><td>1         </td><td>0         </td><td>1         </td><td>0         </td><td>0         </td><td>0         </td></tr>\n",
       "\t<tr><td>1995-02-02</td><td>1         </td><td>0         </td><td>0         </td><td>1         </td><td>0         </td><td>0         </td></tr>\n",
       "\t<tr><td>1995-02-02</td><td>1         </td><td>0         </td><td>1         </td><td>0         </td><td>0         </td><td>0         </td></tr>\n",
       "\t<tr><td>1995-02-04</td><td>0         </td><td>1         </td><td>0         </td><td>1         </td><td>0         </td><td>0         </td></tr>\n",
       "\t<tr><td>1995-02-06</td><td>1         </td><td>0         </td><td>1         </td><td>0         </td><td>0         </td><td>0         </td></tr>\n",
       "\t<tr><td>1995-02-08</td><td>0         </td><td>1         </td><td>0         </td><td>1         </td><td>0         </td><td>0         </td></tr>\n",
       "\t<tr><td>1995-02-09</td><td>0         </td><td>1         </td><td>0         </td><td>1         </td><td>0         </td><td>0         </td></tr>\n",
       "\t<tr><td>1995-02-10</td><td>1         </td><td>0         </td><td>1         </td><td>0         </td><td>0         </td><td>0         </td></tr>\n",
       "\t<tr><td>1995-02-10</td><td>1         </td><td>0         </td><td>0         </td><td>1         </td><td>0         </td><td>0         </td></tr>\n",
       "\t<tr><td>...</td><td>...</td><td>...</td><td>...</td><td>...</td><td>...</td><td>...</td></tr>\n",
       "\t<tr><td>2014-11-01</td><td>1         </td><td>0         </td><td>0         </td><td>1         </td><td>0         </td><td>0         </td></tr>\n",
       "\t<tr><td>2014-11-04</td><td>1         </td><td>0         </td><td>0         </td><td>1         </td><td>0         </td><td>1         </td></tr>\n",
       "\t<tr><td>2014-11-12</td><td>1         </td><td>0         </td><td>1         </td><td>0         </td><td>0         </td><td>0         </td></tr>\n",
       "\t<tr><td>2014-11-12</td><td>1         </td><td>0         </td><td>0         </td><td>1         </td><td>0         </td><td>0         </td></tr>\n",
       "\t<tr><td>2014-11-14</td><td>1         </td><td>0         </td><td>1         </td><td>0         </td><td>0         </td><td>0         </td></tr>\n",
       "\t<tr><td>2014-11-19</td><td>1         </td><td>0         </td><td>0         </td><td>1         </td><td>0         </td><td>0         </td></tr>\n",
       "\t<tr><td>2014-11-20</td><td>1         </td><td>0         </td><td>1         </td><td>0         </td><td>0         </td><td>0         </td></tr>\n",
       "\t<tr><td>2014-11-20</td><td>1         </td><td>0         </td><td>0         </td><td>1         </td><td>0         </td><td>0         </td></tr>\n",
       "\t<tr><td>2014-11-20</td><td>1         </td><td>0         </td><td>0         </td><td>1         </td><td>0         </td><td>0         </td></tr>\n",
       "\t<tr><td>2014-11-23</td><td>1         </td><td>0         </td><td>1         </td><td>0         </td><td>0         </td><td>0         </td></tr>\n",
       "\t<tr><td>2014-11-24</td><td>1         </td><td>0         </td><td>0         </td><td>1         </td><td>0         </td><td>0         </td></tr>\n",
       "\t<tr><td>2014-11-25</td><td>1         </td><td>0         </td><td>0         </td><td>1         </td><td>0         </td><td>0         </td></tr>\n",
       "\t<tr><td>2014-11-25</td><td>1         </td><td>0         </td><td>0         </td><td>1         </td><td>0         </td><td>0         </td></tr>\n",
       "\t<tr><td>2014-11-28</td><td>1         </td><td>0         </td><td>0         </td><td>1         </td><td>0         </td><td>0         </td></tr>\n",
       "\t<tr><td>2014-11-28</td><td>1         </td><td>0         </td><td>0         </td><td>1         </td><td>0         </td><td>0         </td></tr>\n",
       "\t<tr><td>2014-12-02</td><td>1         </td><td>0         </td><td>0         </td><td>1         </td><td>0         </td><td>0         </td></tr>\n",
       "\t<tr><td>2014-12-03</td><td>1         </td><td>0         </td><td>1         </td><td>0         </td><td>0         </td><td>0         </td></tr>\n",
       "\t<tr><td>2014-12-06</td><td>1         </td><td>0         </td><td>1         </td><td>0         </td><td>0         </td><td>0         </td></tr>\n",
       "\t<tr><td>2014-12-11</td><td>1         </td><td>0         </td><td>0         </td><td>1         </td><td>0         </td><td>0         </td></tr>\n",
       "\t<tr><td>2014-12-11</td><td>1         </td><td>0         </td><td>1         </td><td>0         </td><td>0         </td><td>0         </td></tr>\n",
       "\t<tr><td>2014-12-16</td><td>1         </td><td>0         </td><td>0         </td><td>1         </td><td>0         </td><td>0         </td></tr>\n",
       "\t<tr><td>2014-12-17</td><td>1         </td><td>0         </td><td>1         </td><td>0         </td><td>0         </td><td>0         </td></tr>\n",
       "\t<tr><td>2014-12-21</td><td>1         </td><td>0         </td><td>1         </td><td>0         </td><td>0         </td><td>0         </td></tr>\n",
       "\t<tr><td>2014-12-22</td><td>1         </td><td>0         </td><td>0         </td><td>1         </td><td>0         </td><td>0         </td></tr>\n",
       "\t<tr><td>2014-12-22</td><td>1         </td><td>0         </td><td>1         </td><td>0         </td><td>0         </td><td>0         </td></tr>\n",
       "\t<tr><td>2014-12-23</td><td>1         </td><td>0         </td><td>0         </td><td>1         </td><td>0         </td><td>0         </td></tr>\n",
       "\t<tr><td>2014-12-23</td><td>1         </td><td>0         </td><td>0         </td><td>1         </td><td>0         </td><td>0         </td></tr>\n",
       "\t<tr><td>2014-12-24</td><td>1         </td><td>0         </td><td>1         </td><td>0         </td><td>0         </td><td>0         </td></tr>\n",
       "\t<tr><td>2014-12-26</td><td>1         </td><td>0         </td><td>0         </td><td>1         </td><td>0         </td><td>0         </td></tr>\n",
       "\t<tr><td>2014-12-31</td><td>1         </td><td>0         </td><td>0         </td><td>1         </td><td>0         </td><td>0         </td></tr>\n",
       "</tbody>\n",
       "</table>\n"
      ],
      "text/latex": [
       "\\begin{tabular}{r|lllllll}\n",
       " date & wsj & wapo & economy & noneconomy & uncertainty & election\\\\\n",
       "\\hline\n",
       "\t 1995-01-02 & 0          & 1          & 1          & 0          & 0          & 0         \\\\\n",
       "\t 1995-01-05 & 1          & 0          & 0          & 1          & 0          & 0         \\\\\n",
       "\t 1995-01-05 & 0          & 1          & 0          & 1          & 0          & 0         \\\\\n",
       "\t 1995-01-08 & 0          & 1          & 0          & 1          & 0          & 0         \\\\\n",
       "\t 1995-01-09 & 1          & 0          & 0          & 1          & 0          & 0         \\\\\n",
       "\t 1995-01-09 & 0          & 1          & 1          & 0          & 0          & 0         \\\\\n",
       "\t 1995-01-10 & 1          & 0          & 1          & 0          & 0          & 0         \\\\\n",
       "\t 1995-01-10 & 0          & 1          & 0          & 1          & 0          & 0         \\\\\n",
       "\t 1995-01-11 & 1          & 0          & 0          & 1          & 0          & 0         \\\\\n",
       "\t 1995-01-16 & 1          & 0          & 0          & 1          & 0          & 0         \\\\\n",
       "\t 1995-01-18 & 0          & 1          & 0          & 1          & 0          & 0         \\\\\n",
       "\t 1995-01-19 & 1          & 0          & 1          & 0          & 0          & 0         \\\\\n",
       "\t 1995-01-19 & 0          & 1          & 0          & 1          & 0          & 0         \\\\\n",
       "\t 1995-01-19 & 0          & 1          & 0          & 1          & 0          & 0         \\\\\n",
       "\t 1995-01-20 & 1          & 0          & 1          & 0          & 0          & 0         \\\\\n",
       "\t 1995-01-20 & 1          & 0          & 0          & 1          & 0          & 0         \\\\\n",
       "\t 1995-01-20 & 0          & 1          & 1          & 0          & 0          & 1         \\\\\n",
       "\t 1995-01-25 & 1          & 0          & 0          & 1          & 1          & 0         \\\\\n",
       "\t 1995-01-26 & 0          & 1          & 0          & 1          & 0          & 0         \\\\\n",
       "\t 1995-01-26 & 0          & 1          & 0          & 1          & 0          & 0         \\\\\n",
       "\t 1995-01-31 & 0          & 1          & 0          & 1          & 0          & 0         \\\\\n",
       "\t 1995-02-02 & 1          & 0          & 1          & 0          & 0          & 0         \\\\\n",
       "\t 1995-02-02 & 1          & 0          & 0          & 1          & 0          & 0         \\\\\n",
       "\t 1995-02-02 & 1          & 0          & 1          & 0          & 0          & 0         \\\\\n",
       "\t 1995-02-04 & 0          & 1          & 0          & 1          & 0          & 0         \\\\\n",
       "\t 1995-02-06 & 1          & 0          & 1          & 0          & 0          & 0         \\\\\n",
       "\t 1995-02-08 & 0          & 1          & 0          & 1          & 0          & 0         \\\\\n",
       "\t 1995-02-09 & 0          & 1          & 0          & 1          & 0          & 0         \\\\\n",
       "\t 1995-02-10 & 1          & 0          & 1          & 0          & 0          & 0         \\\\\n",
       "\t 1995-02-10 & 1          & 0          & 0          & 1          & 0          & 0         \\\\\n",
       "\t ... & ... & ... & ... & ... & ... & ...\\\\\n",
       "\t 2014-11-01 & 1          & 0          & 0          & 1          & 0          & 0         \\\\\n",
       "\t 2014-11-04 & 1          & 0          & 0          & 1          & 0          & 1         \\\\\n",
       "\t 2014-11-12 & 1          & 0          & 1          & 0          & 0          & 0         \\\\\n",
       "\t 2014-11-12 & 1          & 0          & 0          & 1          & 0          & 0         \\\\\n",
       "\t 2014-11-14 & 1          & 0          & 1          & 0          & 0          & 0         \\\\\n",
       "\t 2014-11-19 & 1          & 0          & 0          & 1          & 0          & 0         \\\\\n",
       "\t 2014-11-20 & 1          & 0          & 1          & 0          & 0          & 0         \\\\\n",
       "\t 2014-11-20 & 1          & 0          & 0          & 1          & 0          & 0         \\\\\n",
       "\t 2014-11-20 & 1          & 0          & 0          & 1          & 0          & 0         \\\\\n",
       "\t 2014-11-23 & 1          & 0          & 1          & 0          & 0          & 0         \\\\\n",
       "\t 2014-11-24 & 1          & 0          & 0          & 1          & 0          & 0         \\\\\n",
       "\t 2014-11-25 & 1          & 0          & 0          & 1          & 0          & 0         \\\\\n",
       "\t 2014-11-25 & 1          & 0          & 0          & 1          & 0          & 0         \\\\\n",
       "\t 2014-11-28 & 1          & 0          & 0          & 1          & 0          & 0         \\\\\n",
       "\t 2014-11-28 & 1          & 0          & 0          & 1          & 0          & 0         \\\\\n",
       "\t 2014-12-02 & 1          & 0          & 0          & 1          & 0          & 0         \\\\\n",
       "\t 2014-12-03 & 1          & 0          & 1          & 0          & 0          & 0         \\\\\n",
       "\t 2014-12-06 & 1          & 0          & 1          & 0          & 0          & 0         \\\\\n",
       "\t 2014-12-11 & 1          & 0          & 0          & 1          & 0          & 0         \\\\\n",
       "\t 2014-12-11 & 1          & 0          & 1          & 0          & 0          & 0         \\\\\n",
       "\t 2014-12-16 & 1          & 0          & 0          & 1          & 0          & 0         \\\\\n",
       "\t 2014-12-17 & 1          & 0          & 1          & 0          & 0          & 0         \\\\\n",
       "\t 2014-12-21 & 1          & 0          & 1          & 0          & 0          & 0         \\\\\n",
       "\t 2014-12-22 & 1          & 0          & 0          & 1          & 0          & 0         \\\\\n",
       "\t 2014-12-22 & 1          & 0          & 1          & 0          & 0          & 0         \\\\\n",
       "\t 2014-12-23 & 1          & 0          & 0          & 1          & 0          & 0         \\\\\n",
       "\t 2014-12-23 & 1          & 0          & 0          & 1          & 0          & 0         \\\\\n",
       "\t 2014-12-24 & 1          & 0          & 1          & 0          & 0          & 0         \\\\\n",
       "\t 2014-12-26 & 1          & 0          & 0          & 1          & 0          & 0         \\\\\n",
       "\t 2014-12-31 & 1          & 0          & 0          & 1          & 0          & 0         \\\\\n",
       "\\end{tabular}\n"
      ],
      "text/markdown": [
       "\n",
       "| date | wsj | wapo | economy | noneconomy | uncertainty | election |\n",
       "|---|---|---|---|---|---|---|\n",
       "| 1995-01-02 | 0          | 1          | 1          | 0          | 0          | 0          |\n",
       "| 1995-01-05 | 1          | 0          | 0          | 1          | 0          | 0          |\n",
       "| 1995-01-05 | 0          | 1          | 0          | 1          | 0          | 0          |\n",
       "| 1995-01-08 | 0          | 1          | 0          | 1          | 0          | 0          |\n",
       "| 1995-01-09 | 1          | 0          | 0          | 1          | 0          | 0          |\n",
       "| 1995-01-09 | 0          | 1          | 1          | 0          | 0          | 0          |\n",
       "| 1995-01-10 | 1          | 0          | 1          | 0          | 0          | 0          |\n",
       "| 1995-01-10 | 0          | 1          | 0          | 1          | 0          | 0          |\n",
       "| 1995-01-11 | 1          | 0          | 0          | 1          | 0          | 0          |\n",
       "| 1995-01-16 | 1          | 0          | 0          | 1          | 0          | 0          |\n",
       "| 1995-01-18 | 0          | 1          | 0          | 1          | 0          | 0          |\n",
       "| 1995-01-19 | 1          | 0          | 1          | 0          | 0          | 0          |\n",
       "| 1995-01-19 | 0          | 1          | 0          | 1          | 0          | 0          |\n",
       "| 1995-01-19 | 0          | 1          | 0          | 1          | 0          | 0          |\n",
       "| 1995-01-20 | 1          | 0          | 1          | 0          | 0          | 0          |\n",
       "| 1995-01-20 | 1          | 0          | 0          | 1          | 0          | 0          |\n",
       "| 1995-01-20 | 0          | 1          | 1          | 0          | 0          | 1          |\n",
       "| 1995-01-25 | 1          | 0          | 0          | 1          | 1          | 0          |\n",
       "| 1995-01-26 | 0          | 1          | 0          | 1          | 0          | 0          |\n",
       "| 1995-01-26 | 0          | 1          | 0          | 1          | 0          | 0          |\n",
       "| 1995-01-31 | 0          | 1          | 0          | 1          | 0          | 0          |\n",
       "| 1995-02-02 | 1          | 0          | 1          | 0          | 0          | 0          |\n",
       "| 1995-02-02 | 1          | 0          | 0          | 1          | 0          | 0          |\n",
       "| 1995-02-02 | 1          | 0          | 1          | 0          | 0          | 0          |\n",
       "| 1995-02-04 | 0          | 1          | 0          | 1          | 0          | 0          |\n",
       "| 1995-02-06 | 1          | 0          | 1          | 0          | 0          | 0          |\n",
       "| 1995-02-08 | 0          | 1          | 0          | 1          | 0          | 0          |\n",
       "| 1995-02-09 | 0          | 1          | 0          | 1          | 0          | 0          |\n",
       "| 1995-02-10 | 1          | 0          | 1          | 0          | 0          | 0          |\n",
       "| 1995-02-10 | 1          | 0          | 0          | 1          | 0          | 0          |\n",
       "| ... | ... | ... | ... | ... | ... | ... |\n",
       "| 2014-11-01 | 1          | 0          | 0          | 1          | 0          | 0          |\n",
       "| 2014-11-04 | 1          | 0          | 0          | 1          | 0          | 1          |\n",
       "| 2014-11-12 | 1          | 0          | 1          | 0          | 0          | 0          |\n",
       "| 2014-11-12 | 1          | 0          | 0          | 1          | 0          | 0          |\n",
       "| 2014-11-14 | 1          | 0          | 1          | 0          | 0          | 0          |\n",
       "| 2014-11-19 | 1          | 0          | 0          | 1          | 0          | 0          |\n",
       "| 2014-11-20 | 1          | 0          | 1          | 0          | 0          | 0          |\n",
       "| 2014-11-20 | 1          | 0          | 0          | 1          | 0          | 0          |\n",
       "| 2014-11-20 | 1          | 0          | 0          | 1          | 0          | 0          |\n",
       "| 2014-11-23 | 1          | 0          | 1          | 0          | 0          | 0          |\n",
       "| 2014-11-24 | 1          | 0          | 0          | 1          | 0          | 0          |\n",
       "| 2014-11-25 | 1          | 0          | 0          | 1          | 0          | 0          |\n",
       "| 2014-11-25 | 1          | 0          | 0          | 1          | 0          | 0          |\n",
       "| 2014-11-28 | 1          | 0          | 0          | 1          | 0          | 0          |\n",
       "| 2014-11-28 | 1          | 0          | 0          | 1          | 0          | 0          |\n",
       "| 2014-12-02 | 1          | 0          | 0          | 1          | 0          | 0          |\n",
       "| 2014-12-03 | 1          | 0          | 1          | 0          | 0          | 0          |\n",
       "| 2014-12-06 | 1          | 0          | 1          | 0          | 0          | 0          |\n",
       "| 2014-12-11 | 1          | 0          | 0          | 1          | 0          | 0          |\n",
       "| 2014-12-11 | 1          | 0          | 1          | 0          | 0          | 0          |\n",
       "| 2014-12-16 | 1          | 0          | 0          | 1          | 0          | 0          |\n",
       "| 2014-12-17 | 1          | 0          | 1          | 0          | 0          | 0          |\n",
       "| 2014-12-21 | 1          | 0          | 1          | 0          | 0          | 0          |\n",
       "| 2014-12-22 | 1          | 0          | 0          | 1          | 0          | 0          |\n",
       "| 2014-12-22 | 1          | 0          | 1          | 0          | 0          | 0          |\n",
       "| 2014-12-23 | 1          | 0          | 0          | 1          | 0          | 0          |\n",
       "| 2014-12-23 | 1          | 0          | 0          | 1          | 0          | 0          |\n",
       "| 2014-12-24 | 1          | 0          | 1          | 0          | 0          | 0          |\n",
       "| 2014-12-26 | 1          | 0          | 0          | 1          | 0          | 0          |\n",
       "| 2014-12-31 | 1          | 0          | 0          | 1          | 0          | 0          |\n",
       "\n"
      ],
      "text/plain": [
       "     date       wsj wapo economy noneconomy uncertainty election\n",
       "1    1995-01-02 0   1    1       0          0           0       \n",
       "2    1995-01-05 1   0    0       1          0           0       \n",
       "3    1995-01-05 0   1    0       1          0           0       \n",
       "4    1995-01-08 0   1    0       1          0           0       \n",
       "5    1995-01-09 1   0    0       1          0           0       \n",
       "6    1995-01-09 0   1    1       0          0           0       \n",
       "7    1995-01-10 1   0    1       0          0           0       \n",
       "8    1995-01-10 0   1    0       1          0           0       \n",
       "9    1995-01-11 1   0    0       1          0           0       \n",
       "10   1995-01-16 1   0    0       1          0           0       \n",
       "11   1995-01-18 0   1    0       1          0           0       \n",
       "12   1995-01-19 1   0    1       0          0           0       \n",
       "13   1995-01-19 0   1    0       1          0           0       \n",
       "14   1995-01-19 0   1    0       1          0           0       \n",
       "15   1995-01-20 1   0    1       0          0           0       \n",
       "16   1995-01-20 1   0    0       1          0           0       \n",
       "17   1995-01-20 0   1    1       0          0           1       \n",
       "18   1995-01-25 1   0    0       1          1           0       \n",
       "19   1995-01-26 0   1    0       1          0           0       \n",
       "20   1995-01-26 0   1    0       1          0           0       \n",
       "21   1995-01-31 0   1    0       1          0           0       \n",
       "22   1995-02-02 1   0    1       0          0           0       \n",
       "23   1995-02-02 1   0    0       1          0           0       \n",
       "24   1995-02-02 1   0    1       0          0           0       \n",
       "25   1995-02-04 0   1    0       1          0           0       \n",
       "26   1995-02-06 1   0    1       0          0           0       \n",
       "27   1995-02-08 0   1    0       1          0           0       \n",
       "28   1995-02-09 0   1    0       1          0           0       \n",
       "29   1995-02-10 1   0    1       0          0           0       \n",
       "30   1995-02-10 1   0    0       1          0           0       \n",
       "...  ...        ... ...  ...     ...        ...         ...     \n",
       "4116 2014-11-01 1   0    0       1          0           0       \n",
       "4117 2014-11-04 1   0    0       1          0           1       \n",
       "4118 2014-11-12 1   0    1       0          0           0       \n",
       "4119 2014-11-12 1   0    0       1          0           0       \n",
       "4120 2014-11-14 1   0    1       0          0           0       \n",
       "4121 2014-11-19 1   0    0       1          0           0       \n",
       "4122 2014-11-20 1   0    1       0          0           0       \n",
       "4123 2014-11-20 1   0    0       1          0           0       \n",
       "4124 2014-11-20 1   0    0       1          0           0       \n",
       "4125 2014-11-23 1   0    1       0          0           0       \n",
       "4126 2014-11-24 1   0    0       1          0           0       \n",
       "4127 2014-11-25 1   0    0       1          0           0       \n",
       "4128 2014-11-25 1   0    0       1          0           0       \n",
       "4129 2014-11-28 1   0    0       1          0           0       \n",
       "4130 2014-11-28 1   0    0       1          0           0       \n",
       "4131 2014-12-02 1   0    0       1          0           0       \n",
       "4132 2014-12-03 1   0    1       0          0           0       \n",
       "4133 2014-12-06 1   0    1       0          0           0       \n",
       "4134 2014-12-11 1   0    0       1          0           0       \n",
       "4135 2014-12-11 1   0    1       0          0           0       \n",
       "4136 2014-12-16 1   0    0       1          0           0       \n",
       "4137 2014-12-17 1   0    1       0          0           0       \n",
       "4138 2014-12-21 1   0    1       0          0           0       \n",
       "4139 2014-12-22 1   0    0       1          0           0       \n",
       "4140 2014-12-22 1   0    1       0          0           0       \n",
       "4141 2014-12-23 1   0    0       1          0           0       \n",
       "4142 2014-12-23 1   0    0       1          0           0       \n",
       "4143 2014-12-24 1   0    1       0          0           0       \n",
       "4144 2014-12-26 1   0    0       1          0           0       \n",
       "4145 2014-12-31 1   0    0       1          0           0       "
      ]
     },
     "metadata": {},
     "output_type": "display_data"
    }
   ],
   "source": [
    "docvars(uscorpus)"
   ]
  },
  {
   "cell_type": "markdown",
   "id": "60ef2b9d",
   "metadata": {},
   "source": [
    "## Removing features\n",
    "\n",
    "If we want to delete the manually created features `uncertainty` and `election`, we set the corresponding columns to `NULL`."
   ]
  },
  {
   "cell_type": "code",
   "execution_count": 13,
   "id": "b24eb03b",
   "metadata": {},
   "outputs": [],
   "source": [
    "docvars(uscorpus, c(\"uncertainty\", \"election\")) <- NULL"
   ]
  },
  {
   "cell_type": "code",
   "execution_count": 14,
   "id": "507aa15e",
   "metadata": {
    "scrolled": true
   },
   "outputs": [
    {
     "data": {
      "text/html": [
       "<table>\n",
       "<thead><tr><th scope=col>date</th><th scope=col>wsj</th><th scope=col>wapo</th><th scope=col>economy</th><th scope=col>noneconomy</th></tr></thead>\n",
       "<tbody>\n",
       "\t<tr><td>1995-01-02</td><td>0         </td><td>1         </td><td>1         </td><td>0         </td></tr>\n",
       "\t<tr><td>1995-01-05</td><td>1         </td><td>0         </td><td>0         </td><td>1         </td></tr>\n",
       "\t<tr><td>1995-01-05</td><td>0         </td><td>1         </td><td>0         </td><td>1         </td></tr>\n",
       "\t<tr><td>1995-01-08</td><td>0         </td><td>1         </td><td>0         </td><td>1         </td></tr>\n",
       "\t<tr><td>1995-01-09</td><td>1         </td><td>0         </td><td>0         </td><td>1         </td></tr>\n",
       "\t<tr><td>1995-01-09</td><td>0         </td><td>1         </td><td>1         </td><td>0         </td></tr>\n",
       "\t<tr><td>1995-01-10</td><td>1         </td><td>0         </td><td>1         </td><td>0         </td></tr>\n",
       "\t<tr><td>1995-01-10</td><td>0         </td><td>1         </td><td>0         </td><td>1         </td></tr>\n",
       "\t<tr><td>1995-01-11</td><td>1         </td><td>0         </td><td>0         </td><td>1         </td></tr>\n",
       "\t<tr><td>1995-01-16</td><td>1         </td><td>0         </td><td>0         </td><td>1         </td></tr>\n",
       "\t<tr><td>1995-01-18</td><td>0         </td><td>1         </td><td>0         </td><td>1         </td></tr>\n",
       "\t<tr><td>1995-01-19</td><td>1         </td><td>0         </td><td>1         </td><td>0         </td></tr>\n",
       "\t<tr><td>1995-01-19</td><td>0         </td><td>1         </td><td>0         </td><td>1         </td></tr>\n",
       "\t<tr><td>1995-01-19</td><td>0         </td><td>1         </td><td>0         </td><td>1         </td></tr>\n",
       "\t<tr><td>1995-01-20</td><td>1         </td><td>0         </td><td>1         </td><td>0         </td></tr>\n",
       "\t<tr><td>1995-01-20</td><td>1         </td><td>0         </td><td>0         </td><td>1         </td></tr>\n",
       "\t<tr><td>1995-01-20</td><td>0         </td><td>1         </td><td>1         </td><td>0         </td></tr>\n",
       "\t<tr><td>1995-01-25</td><td>1         </td><td>0         </td><td>0         </td><td>1         </td></tr>\n",
       "\t<tr><td>1995-01-26</td><td>0         </td><td>1         </td><td>0         </td><td>1         </td></tr>\n",
       "\t<tr><td>1995-01-26</td><td>0         </td><td>1         </td><td>0         </td><td>1         </td></tr>\n",
       "\t<tr><td>1995-01-31</td><td>0         </td><td>1         </td><td>0         </td><td>1         </td></tr>\n",
       "\t<tr><td>1995-02-02</td><td>1         </td><td>0         </td><td>1         </td><td>0         </td></tr>\n",
       "\t<tr><td>1995-02-02</td><td>1         </td><td>0         </td><td>0         </td><td>1         </td></tr>\n",
       "\t<tr><td>1995-02-02</td><td>1         </td><td>0         </td><td>1         </td><td>0         </td></tr>\n",
       "\t<tr><td>1995-02-04</td><td>0         </td><td>1         </td><td>0         </td><td>1         </td></tr>\n",
       "\t<tr><td>1995-02-06</td><td>1         </td><td>0         </td><td>1         </td><td>0         </td></tr>\n",
       "\t<tr><td>1995-02-08</td><td>0         </td><td>1         </td><td>0         </td><td>1         </td></tr>\n",
       "\t<tr><td>1995-02-09</td><td>0         </td><td>1         </td><td>0         </td><td>1         </td></tr>\n",
       "\t<tr><td>1995-02-10</td><td>1         </td><td>0         </td><td>1         </td><td>0         </td></tr>\n",
       "\t<tr><td>1995-02-10</td><td>1         </td><td>0         </td><td>0         </td><td>1         </td></tr>\n",
       "\t<tr><td>...</td><td>...</td><td>...</td><td>...</td><td>...</td></tr>\n",
       "\t<tr><td>2014-11-01</td><td>1         </td><td>0         </td><td>0         </td><td>1         </td></tr>\n",
       "\t<tr><td>2014-11-04</td><td>1         </td><td>0         </td><td>0         </td><td>1         </td></tr>\n",
       "\t<tr><td>2014-11-12</td><td>1         </td><td>0         </td><td>1         </td><td>0         </td></tr>\n",
       "\t<tr><td>2014-11-12</td><td>1         </td><td>0         </td><td>0         </td><td>1         </td></tr>\n",
       "\t<tr><td>2014-11-14</td><td>1         </td><td>0         </td><td>1         </td><td>0         </td></tr>\n",
       "\t<tr><td>2014-11-19</td><td>1         </td><td>0         </td><td>0         </td><td>1         </td></tr>\n",
       "\t<tr><td>2014-11-20</td><td>1         </td><td>0         </td><td>1         </td><td>0         </td></tr>\n",
       "\t<tr><td>2014-11-20</td><td>1         </td><td>0         </td><td>0         </td><td>1         </td></tr>\n",
       "\t<tr><td>2014-11-20</td><td>1         </td><td>0         </td><td>0         </td><td>1         </td></tr>\n",
       "\t<tr><td>2014-11-23</td><td>1         </td><td>0         </td><td>1         </td><td>0         </td></tr>\n",
       "\t<tr><td>2014-11-24</td><td>1         </td><td>0         </td><td>0         </td><td>1         </td></tr>\n",
       "\t<tr><td>2014-11-25</td><td>1         </td><td>0         </td><td>0         </td><td>1         </td></tr>\n",
       "\t<tr><td>2014-11-25</td><td>1         </td><td>0         </td><td>0         </td><td>1         </td></tr>\n",
       "\t<tr><td>2014-11-28</td><td>1         </td><td>0         </td><td>0         </td><td>1         </td></tr>\n",
       "\t<tr><td>2014-11-28</td><td>1         </td><td>0         </td><td>0         </td><td>1         </td></tr>\n",
       "\t<tr><td>2014-12-02</td><td>1         </td><td>0         </td><td>0         </td><td>1         </td></tr>\n",
       "\t<tr><td>2014-12-03</td><td>1         </td><td>0         </td><td>1         </td><td>0         </td></tr>\n",
       "\t<tr><td>2014-12-06</td><td>1         </td><td>0         </td><td>1         </td><td>0         </td></tr>\n",
       "\t<tr><td>2014-12-11</td><td>1         </td><td>0         </td><td>0         </td><td>1         </td></tr>\n",
       "\t<tr><td>2014-12-11</td><td>1         </td><td>0         </td><td>1         </td><td>0         </td></tr>\n",
       "\t<tr><td>2014-12-16</td><td>1         </td><td>0         </td><td>0         </td><td>1         </td></tr>\n",
       "\t<tr><td>2014-12-17</td><td>1         </td><td>0         </td><td>1         </td><td>0         </td></tr>\n",
       "\t<tr><td>2014-12-21</td><td>1         </td><td>0         </td><td>1         </td><td>0         </td></tr>\n",
       "\t<tr><td>2014-12-22</td><td>1         </td><td>0         </td><td>0         </td><td>1         </td></tr>\n",
       "\t<tr><td>2014-12-22</td><td>1         </td><td>0         </td><td>1         </td><td>0         </td></tr>\n",
       "\t<tr><td>2014-12-23</td><td>1         </td><td>0         </td><td>0         </td><td>1         </td></tr>\n",
       "\t<tr><td>2014-12-23</td><td>1         </td><td>0         </td><td>0         </td><td>1         </td></tr>\n",
       "\t<tr><td>2014-12-24</td><td>1         </td><td>0         </td><td>1         </td><td>0         </td></tr>\n",
       "\t<tr><td>2014-12-26</td><td>1         </td><td>0         </td><td>0         </td><td>1         </td></tr>\n",
       "\t<tr><td>2014-12-31</td><td>1         </td><td>0         </td><td>0         </td><td>1         </td></tr>\n",
       "</tbody>\n",
       "</table>\n"
      ],
      "text/latex": [
       "\\begin{tabular}{r|lllll}\n",
       " date & wsj & wapo & economy & noneconomy\\\\\n",
       "\\hline\n",
       "\t 1995-01-02 & 0          & 1          & 1          & 0         \\\\\n",
       "\t 1995-01-05 & 1          & 0          & 0          & 1         \\\\\n",
       "\t 1995-01-05 & 0          & 1          & 0          & 1         \\\\\n",
       "\t 1995-01-08 & 0          & 1          & 0          & 1         \\\\\n",
       "\t 1995-01-09 & 1          & 0          & 0          & 1         \\\\\n",
       "\t 1995-01-09 & 0          & 1          & 1          & 0         \\\\\n",
       "\t 1995-01-10 & 1          & 0          & 1          & 0         \\\\\n",
       "\t 1995-01-10 & 0          & 1          & 0          & 1         \\\\\n",
       "\t 1995-01-11 & 1          & 0          & 0          & 1         \\\\\n",
       "\t 1995-01-16 & 1          & 0          & 0          & 1         \\\\\n",
       "\t 1995-01-18 & 0          & 1          & 0          & 1         \\\\\n",
       "\t 1995-01-19 & 1          & 0          & 1          & 0         \\\\\n",
       "\t 1995-01-19 & 0          & 1          & 0          & 1         \\\\\n",
       "\t 1995-01-19 & 0          & 1          & 0          & 1         \\\\\n",
       "\t 1995-01-20 & 1          & 0          & 1          & 0         \\\\\n",
       "\t 1995-01-20 & 1          & 0          & 0          & 1         \\\\\n",
       "\t 1995-01-20 & 0          & 1          & 1          & 0         \\\\\n",
       "\t 1995-01-25 & 1          & 0          & 0          & 1         \\\\\n",
       "\t 1995-01-26 & 0          & 1          & 0          & 1         \\\\\n",
       "\t 1995-01-26 & 0          & 1          & 0          & 1         \\\\\n",
       "\t 1995-01-31 & 0          & 1          & 0          & 1         \\\\\n",
       "\t 1995-02-02 & 1          & 0          & 1          & 0         \\\\\n",
       "\t 1995-02-02 & 1          & 0          & 0          & 1         \\\\\n",
       "\t 1995-02-02 & 1          & 0          & 1          & 0         \\\\\n",
       "\t 1995-02-04 & 0          & 1          & 0          & 1         \\\\\n",
       "\t 1995-02-06 & 1          & 0          & 1          & 0         \\\\\n",
       "\t 1995-02-08 & 0          & 1          & 0          & 1         \\\\\n",
       "\t 1995-02-09 & 0          & 1          & 0          & 1         \\\\\n",
       "\t 1995-02-10 & 1          & 0          & 1          & 0         \\\\\n",
       "\t 1995-02-10 & 1          & 0          & 0          & 1         \\\\\n",
       "\t ... & ... & ... & ... & ...\\\\\n",
       "\t 2014-11-01 & 1          & 0          & 0          & 1         \\\\\n",
       "\t 2014-11-04 & 1          & 0          & 0          & 1         \\\\\n",
       "\t 2014-11-12 & 1          & 0          & 1          & 0         \\\\\n",
       "\t 2014-11-12 & 1          & 0          & 0          & 1         \\\\\n",
       "\t 2014-11-14 & 1          & 0          & 1          & 0         \\\\\n",
       "\t 2014-11-19 & 1          & 0          & 0          & 1         \\\\\n",
       "\t 2014-11-20 & 1          & 0          & 1          & 0         \\\\\n",
       "\t 2014-11-20 & 1          & 0          & 0          & 1         \\\\\n",
       "\t 2014-11-20 & 1          & 0          & 0          & 1         \\\\\n",
       "\t 2014-11-23 & 1          & 0          & 1          & 0         \\\\\n",
       "\t 2014-11-24 & 1          & 0          & 0          & 1         \\\\\n",
       "\t 2014-11-25 & 1          & 0          & 0          & 1         \\\\\n",
       "\t 2014-11-25 & 1          & 0          & 0          & 1         \\\\\n",
       "\t 2014-11-28 & 1          & 0          & 0          & 1         \\\\\n",
       "\t 2014-11-28 & 1          & 0          & 0          & 1         \\\\\n",
       "\t 2014-12-02 & 1          & 0          & 0          & 1         \\\\\n",
       "\t 2014-12-03 & 1          & 0          & 1          & 0         \\\\\n",
       "\t 2014-12-06 & 1          & 0          & 1          & 0         \\\\\n",
       "\t 2014-12-11 & 1          & 0          & 0          & 1         \\\\\n",
       "\t 2014-12-11 & 1          & 0          & 1          & 0         \\\\\n",
       "\t 2014-12-16 & 1          & 0          & 0          & 1         \\\\\n",
       "\t 2014-12-17 & 1          & 0          & 1          & 0         \\\\\n",
       "\t 2014-12-21 & 1          & 0          & 1          & 0         \\\\\n",
       "\t 2014-12-22 & 1          & 0          & 0          & 1         \\\\\n",
       "\t 2014-12-22 & 1          & 0          & 1          & 0         \\\\\n",
       "\t 2014-12-23 & 1          & 0          & 0          & 1         \\\\\n",
       "\t 2014-12-23 & 1          & 0          & 0          & 1         \\\\\n",
       "\t 2014-12-24 & 1          & 0          & 1          & 0         \\\\\n",
       "\t 2014-12-26 & 1          & 0          & 0          & 1         \\\\\n",
       "\t 2014-12-31 & 1          & 0          & 0          & 1         \\\\\n",
       "\\end{tabular}\n"
      ],
      "text/markdown": [
       "\n",
       "| date | wsj | wapo | economy | noneconomy |\n",
       "|---|---|---|---|---|\n",
       "| 1995-01-02 | 0          | 1          | 1          | 0          |\n",
       "| 1995-01-05 | 1          | 0          | 0          | 1          |\n",
       "| 1995-01-05 | 0          | 1          | 0          | 1          |\n",
       "| 1995-01-08 | 0          | 1          | 0          | 1          |\n",
       "| 1995-01-09 | 1          | 0          | 0          | 1          |\n",
       "| 1995-01-09 | 0          | 1          | 1          | 0          |\n",
       "| 1995-01-10 | 1          | 0          | 1          | 0          |\n",
       "| 1995-01-10 | 0          | 1          | 0          | 1          |\n",
       "| 1995-01-11 | 1          | 0          | 0          | 1          |\n",
       "| 1995-01-16 | 1          | 0          | 0          | 1          |\n",
       "| 1995-01-18 | 0          | 1          | 0          | 1          |\n",
       "| 1995-01-19 | 1          | 0          | 1          | 0          |\n",
       "| 1995-01-19 | 0          | 1          | 0          | 1          |\n",
       "| 1995-01-19 | 0          | 1          | 0          | 1          |\n",
       "| 1995-01-20 | 1          | 0          | 1          | 0          |\n",
       "| 1995-01-20 | 1          | 0          | 0          | 1          |\n",
       "| 1995-01-20 | 0          | 1          | 1          | 0          |\n",
       "| 1995-01-25 | 1          | 0          | 0          | 1          |\n",
       "| 1995-01-26 | 0          | 1          | 0          | 1          |\n",
       "| 1995-01-26 | 0          | 1          | 0          | 1          |\n",
       "| 1995-01-31 | 0          | 1          | 0          | 1          |\n",
       "| 1995-02-02 | 1          | 0          | 1          | 0          |\n",
       "| 1995-02-02 | 1          | 0          | 0          | 1          |\n",
       "| 1995-02-02 | 1          | 0          | 1          | 0          |\n",
       "| 1995-02-04 | 0          | 1          | 0          | 1          |\n",
       "| 1995-02-06 | 1          | 0          | 1          | 0          |\n",
       "| 1995-02-08 | 0          | 1          | 0          | 1          |\n",
       "| 1995-02-09 | 0          | 1          | 0          | 1          |\n",
       "| 1995-02-10 | 1          | 0          | 1          | 0          |\n",
       "| 1995-02-10 | 1          | 0          | 0          | 1          |\n",
       "| ... | ... | ... | ... | ... |\n",
       "| 2014-11-01 | 1          | 0          | 0          | 1          |\n",
       "| 2014-11-04 | 1          | 0          | 0          | 1          |\n",
       "| 2014-11-12 | 1          | 0          | 1          | 0          |\n",
       "| 2014-11-12 | 1          | 0          | 0          | 1          |\n",
       "| 2014-11-14 | 1          | 0          | 1          | 0          |\n",
       "| 2014-11-19 | 1          | 0          | 0          | 1          |\n",
       "| 2014-11-20 | 1          | 0          | 1          | 0          |\n",
       "| 2014-11-20 | 1          | 0          | 0          | 1          |\n",
       "| 2014-11-20 | 1          | 0          | 0          | 1          |\n",
       "| 2014-11-23 | 1          | 0          | 1          | 0          |\n",
       "| 2014-11-24 | 1          | 0          | 0          | 1          |\n",
       "| 2014-11-25 | 1          | 0          | 0          | 1          |\n",
       "| 2014-11-25 | 1          | 0          | 0          | 1          |\n",
       "| 2014-11-28 | 1          | 0          | 0          | 1          |\n",
       "| 2014-11-28 | 1          | 0          | 0          | 1          |\n",
       "| 2014-12-02 | 1          | 0          | 0          | 1          |\n",
       "| 2014-12-03 | 1          | 0          | 1          | 0          |\n",
       "| 2014-12-06 | 1          | 0          | 1          | 0          |\n",
       "| 2014-12-11 | 1          | 0          | 0          | 1          |\n",
       "| 2014-12-11 | 1          | 0          | 1          | 0          |\n",
       "| 2014-12-16 | 1          | 0          | 0          | 1          |\n",
       "| 2014-12-17 | 1          | 0          | 1          | 0          |\n",
       "| 2014-12-21 | 1          | 0          | 1          | 0          |\n",
       "| 2014-12-22 | 1          | 0          | 0          | 1          |\n",
       "| 2014-12-22 | 1          | 0          | 1          | 0          |\n",
       "| 2014-12-23 | 1          | 0          | 0          | 1          |\n",
       "| 2014-12-23 | 1          | 0          | 0          | 1          |\n",
       "| 2014-12-24 | 1          | 0          | 1          | 0          |\n",
       "| 2014-12-26 | 1          | 0          | 0          | 1          |\n",
       "| 2014-12-31 | 1          | 0          | 0          | 1          |\n",
       "\n"
      ],
      "text/plain": [
       "     date       wsj wapo economy noneconomy\n",
       "1    1995-01-02 0   1    1       0         \n",
       "2    1995-01-05 1   0    0       1         \n",
       "3    1995-01-05 0   1    0       1         \n",
       "4    1995-01-08 0   1    0       1         \n",
       "5    1995-01-09 1   0    0       1         \n",
       "6    1995-01-09 0   1    1       0         \n",
       "7    1995-01-10 1   0    1       0         \n",
       "8    1995-01-10 0   1    0       1         \n",
       "9    1995-01-11 1   0    0       1         \n",
       "10   1995-01-16 1   0    0       1         \n",
       "11   1995-01-18 0   1    0       1         \n",
       "12   1995-01-19 1   0    1       0         \n",
       "13   1995-01-19 0   1    0       1         \n",
       "14   1995-01-19 0   1    0       1         \n",
       "15   1995-01-20 1   0    1       0         \n",
       "16   1995-01-20 1   0    0       1         \n",
       "17   1995-01-20 0   1    1       0         \n",
       "18   1995-01-25 1   0    0       1         \n",
       "19   1995-01-26 0   1    0       1         \n",
       "20   1995-01-26 0   1    0       1         \n",
       "21   1995-01-31 0   1    0       1         \n",
       "22   1995-02-02 1   0    1       0         \n",
       "23   1995-02-02 1   0    0       1         \n",
       "24   1995-02-02 1   0    1       0         \n",
       "25   1995-02-04 0   1    0       1         \n",
       "26   1995-02-06 1   0    1       0         \n",
       "27   1995-02-08 0   1    0       1         \n",
       "28   1995-02-09 0   1    0       1         \n",
       "29   1995-02-10 1   0    1       0         \n",
       "30   1995-02-10 1   0    0       1         \n",
       "...  ...        ... ...  ...     ...       \n",
       "4116 2014-11-01 1   0    0       1         \n",
       "4117 2014-11-04 1   0    0       1         \n",
       "4118 2014-11-12 1   0    1       0         \n",
       "4119 2014-11-12 1   0    0       1         \n",
       "4120 2014-11-14 1   0    1       0         \n",
       "4121 2014-11-19 1   0    0       1         \n",
       "4122 2014-11-20 1   0    1       0         \n",
       "4123 2014-11-20 1   0    0       1         \n",
       "4124 2014-11-20 1   0    0       1         \n",
       "4125 2014-11-23 1   0    1       0         \n",
       "4126 2014-11-24 1   0    0       1         \n",
       "4127 2014-11-25 1   0    0       1         \n",
       "4128 2014-11-25 1   0    0       1         \n",
       "4129 2014-11-28 1   0    0       1         \n",
       "4130 2014-11-28 1   0    0       1         \n",
       "4131 2014-12-02 1   0    0       1         \n",
       "4132 2014-12-03 1   0    1       0         \n",
       "4133 2014-12-06 1   0    1       0         \n",
       "4134 2014-12-11 1   0    0       1         \n",
       "4135 2014-12-11 1   0    1       0         \n",
       "4136 2014-12-16 1   0    0       1         \n",
       "4137 2014-12-17 1   0    1       0         \n",
       "4138 2014-12-21 1   0    1       0         \n",
       "4139 2014-12-22 1   0    0       1         \n",
       "4140 2014-12-22 1   0    1       0         \n",
       "4141 2014-12-23 1   0    0       1         \n",
       "4142 2014-12-23 1   0    0       1         \n",
       "4143 2014-12-24 1   0    1       0         \n",
       "4144 2014-12-26 1   0    0       1         \n",
       "4145 2014-12-31 1   0    0       1         "
      ]
     },
     "metadata": {},
     "output_type": "display_data"
    }
   ],
   "source": [
    "docvars(uscorpus)"
   ]
  },
  {
   "cell_type": "markdown",
   "id": "189c9962",
   "metadata": {},
   "source": [
    "# Step 2: Sentiment computation\n",
    "\n",
    "The most important step of sentiment analysis is of course the computation of sentiment. On a high level, `sentometrics` simply computes how often positive and negative words (or word combinations) occur in a document. The value of words is contained in the *lexicon*. `sentometrics` provides three methods to compute sentiment:\n",
    "\n",
    "1. A **unigrams** approach: The most straightforward method, where computed sentiment is simply a (weighted) sum of all detected word scores as they appear in the lexicon.\n",
    "2. A **valence-shifting bigrams** approach: The impact of the word appearing before the detected word is evaluated as well. A common example is “not good”, which under the default approach would get a score of 1 (“good”), but now ends up, for example, having a score of −1 due to the presence of the negator “not”. For this method, we need a lexicon and a list of valence shifters (like \"not\").\n",
    "3. A **valence-shifting clusters** approach: Valence shifters can also appear in positions other than right before a certain word. We implement this layer of complexity by searching for valence shifters (and other sentiment-bearing words) in a cluster of at maximum four words before and two words after a detected polarized word. For this method, we need a lexicon and a list of valence shifters."
   ]
  },
  {
   "cell_type": "code",
   "execution_count": 15,
   "id": "54aea994",
   "metadata": {},
   "outputs": [],
   "source": [
    "library(\"lexicon\")  # Contains a lot of useful lexicons"
   ]
  },
  {
   "cell_type": "markdown",
   "id": "ad795c75",
   "metadata": {},
   "source": [
    "## Sentiment computation with unigrams"
   ]
  },
  {
   "cell_type": "code",
   "execution_count": 16,
   "id": "76ffe3a3",
   "metadata": {},
   "outputs": [],
   "source": [
    "lex_unigram <- sento_lexicons(list(NRC = hash_sentiment_nrc))\n",
    "\n",
    "sent_unigram <- compute_sentiment(uscorpus, lex_unigram)"
   ]
  },
  {
   "cell_type": "markdown",
   "id": "8a6bca2a",
   "metadata": {},
   "source": [
    "Note that sentiment values are multiplied with the feature values that were already present."
   ]
  },
  {
   "cell_type": "code",
   "execution_count": 17,
   "id": "ee8be5a1",
   "metadata": {
    "scrolled": true
   },
   "outputs": [
    {
     "data": {
      "text/html": [
       "<table>\n",
       "<thead><tr><th scope=col>id</th><th scope=col>date</th><th scope=col>word_count</th><th scope=col>NRC--wsj</th><th scope=col>NRC--wapo</th><th scope=col>NRC--economy</th><th scope=col>NRC--noneconomy</th></tr></thead>\n",
       "<tbody>\n",
       "\t<tr><td>830981846   </td><td>1995-01-02  </td><td>213         </td><td> 0.000000000</td><td>-0.023474178</td><td>-0.02347418 </td><td> 0.000000000</td></tr>\n",
       "\t<tr><td>842617067   </td><td>1995-01-05  </td><td>110         </td><td> 0.000000000</td><td> 0.000000000</td><td> 0.00000000 </td><td> 0.000000000</td></tr>\n",
       "\t<tr><td>830982165   </td><td>1995-01-05  </td><td>202         </td><td> 0.000000000</td><td>-0.009900990</td><td> 0.00000000 </td><td>-0.009900990</td></tr>\n",
       "\t<tr><td>830982389   </td><td>1995-01-08  </td><td>153         </td><td> 0.000000000</td><td> 0.019607843</td><td> 0.00000000 </td><td> 0.019607843</td></tr>\n",
       "\t<tr><td>842615996   </td><td>1995-01-09  </td><td>245         </td><td> 0.024489796</td><td> 0.000000000</td><td> 0.00000000 </td><td> 0.024489796</td></tr>\n",
       "\t<tr><td>830982368   </td><td>1995-01-09  </td><td>212         </td><td> 0.000000000</td><td> 0.033018868</td><td> 0.03301887 </td><td> 0.000000000</td></tr>\n",
       "\t<tr><td>842614176   </td><td>1995-01-10  </td><td>164         </td><td> 0.012195122</td><td> 0.000000000</td><td> 0.01219512 </td><td> 0.000000000</td></tr>\n",
       "\t<tr><td>830985635   </td><td>1995-01-10  </td><td>216         </td><td> 0.000000000</td><td> 0.041666667</td><td> 0.00000000 </td><td> 0.041666667</td></tr>\n",
       "\t<tr><td>842617154   </td><td>1995-01-11  </td><td> 97         </td><td>-0.072164948</td><td> 0.000000000</td><td> 0.00000000 </td><td>-0.072164948</td></tr>\n",
       "\t<tr><td>842616780   </td><td>1995-01-16  </td><td>283         </td><td> 0.014134276</td><td> 0.000000000</td><td> 0.00000000 </td><td> 0.014134276</td></tr>\n",
       "\t<tr><td>830983888   </td><td>1995-01-18  </td><td>224         </td><td> 0.000000000</td><td>-0.017857143</td><td> 0.00000000 </td><td>-0.017857143</td></tr>\n",
       "\t<tr><td>842613628   </td><td>1995-01-19  </td><td>192         </td><td> 0.015625000</td><td> 0.000000000</td><td> 0.01562500 </td><td> 0.000000000</td></tr>\n",
       "\t<tr><td>830984614   </td><td>1995-01-19  </td><td>299         </td><td> 0.000000000</td><td>-0.006688963</td><td> 0.00000000 </td><td>-0.006688963</td></tr>\n",
       "\t<tr><td>830985188   </td><td>1995-01-19  </td><td>254         </td><td> 0.000000000</td><td> 0.062992126</td><td> 0.00000000 </td><td> 0.062992126</td></tr>\n",
       "\t<tr><td>842613577   </td><td>1995-01-20  </td><td> 96         </td><td>-0.010416667</td><td> 0.000000000</td><td>-0.01041667 </td><td> 0.000000000</td></tr>\n",
       "\t<tr><td>842616897   </td><td>1995-01-20  </td><td>232         </td><td> 0.004310345</td><td> 0.000000000</td><td> 0.00000000 </td><td> 0.004310345</td></tr>\n",
       "\t<tr><td>830981849   </td><td>1995-01-20  </td><td>274         </td><td> 0.000000000</td><td> 0.018248175</td><td> 0.01824818 </td><td> 0.000000000</td></tr>\n",
       "\t<tr><td>842614083   </td><td>1995-01-25  </td><td>184         </td><td> 0.032608696</td><td> 0.000000000</td><td> 0.00000000 </td><td> 0.032608696</td></tr>\n",
       "\t<tr><td>830983263   </td><td>1995-01-26  </td><td>205         </td><td> 0.000000000</td><td> 0.034146341</td><td> 0.00000000 </td><td> 0.034146341</td></tr>\n",
       "\t<tr><td>830984589   </td><td>1995-01-26  </td><td>249         </td><td> 0.000000000</td><td> 0.040160643</td><td> 0.00000000 </td><td> 0.040160643</td></tr>\n",
       "\t<tr><td>830981676   </td><td>1995-01-31  </td><td>218         </td><td> 0.000000000</td><td> 0.041284404</td><td> 0.00000000 </td><td> 0.041284404</td></tr>\n",
       "\t<tr><td>842613472   </td><td>1995-02-02  </td><td>189         </td><td> 0.047619048</td><td> 0.000000000</td><td> 0.04761905 </td><td> 0.000000000</td></tr>\n",
       "\t<tr><td>842614094   </td><td>1995-02-02  </td><td>282         </td><td> 0.003546099</td><td> 0.000000000</td><td> 0.00000000 </td><td> 0.003546099</td></tr>\n",
       "\t<tr><td>842616047   </td><td>1995-02-02  </td><td>244         </td><td> 0.012295082</td><td> 0.000000000</td><td> 0.01229508 </td><td> 0.000000000</td></tr>\n",
       "\t<tr><td>830982289   </td><td>1995-02-04  </td><td>194         </td><td> 0.000000000</td><td> 0.056701031</td><td> 0.00000000 </td><td> 0.056701031</td></tr>\n",
       "\t<tr><td>842613564   </td><td>1995-02-06  </td><td>174         </td><td> 0.057471264</td><td> 0.000000000</td><td> 0.05747126 </td><td> 0.000000000</td></tr>\n",
       "\t<tr><td>830984458   </td><td>1995-02-08  </td><td>210         </td><td> 0.000000000</td><td> 0.080952381</td><td> 0.00000000 </td><td> 0.080952381</td></tr>\n",
       "\t<tr><td>830982315   </td><td>1995-02-09  </td><td>235         </td><td> 0.000000000</td><td> 0.059574468</td><td> 0.00000000 </td><td> 0.059574468</td></tr>\n",
       "\t<tr><td>842614445   </td><td>1995-02-10  </td><td>313         </td><td> 0.031948882</td><td> 0.000000000</td><td> 0.03194888 </td><td> 0.000000000</td></tr>\n",
       "\t<tr><td>842615524   </td><td>1995-02-10  </td><td>186         </td><td> 0.053763441</td><td> 0.000000000</td><td> 0.00000000 </td><td> 0.053763441</td></tr>\n",
       "\t<tr><td>...</td><td>...</td><td>...</td><td>...</td><td>...</td><td>...</td><td>...</td></tr>\n",
       "\t<tr><td>842616366   </td><td>2014-11-01  </td><td>144         </td><td> 0.006944444</td><td>0           </td><td> 0.000000000</td><td> 0.006944444</td></tr>\n",
       "\t<tr><td>842614608   </td><td>2014-11-04  </td><td>214         </td><td>-0.023364486</td><td>0           </td><td> 0.000000000</td><td>-0.023364486</td></tr>\n",
       "\t<tr><td>842616917   </td><td>2014-11-12  </td><td>248         </td><td> 0.004032258</td><td>0           </td><td> 0.004032258</td><td> 0.000000000</td></tr>\n",
       "\t<tr><td>842617403   </td><td>2014-11-12  </td><td>185         </td><td> 0.027027027</td><td>0           </td><td> 0.000000000</td><td> 0.027027027</td></tr>\n",
       "\t<tr><td>842613947   </td><td>2014-11-14  </td><td>138         </td><td>-0.057971014</td><td>0           </td><td>-0.057971014</td><td> 0.000000000</td></tr>\n",
       "\t<tr><td>842614717   </td><td>2014-11-19  </td><td>206         </td><td> 0.043689320</td><td>0           </td><td> 0.000000000</td><td> 0.043689320</td></tr>\n",
       "\t<tr><td>842613609   </td><td>2014-11-20  </td><td>314         </td><td> 0.035031847</td><td>0           </td><td> 0.035031847</td><td> 0.000000000</td></tr>\n",
       "\t<tr><td>842615664   </td><td>2014-11-20  </td><td>266         </td><td> 0.015037594</td><td>0           </td><td> 0.000000000</td><td> 0.015037594</td></tr>\n",
       "\t<tr><td>842615803   </td><td>2014-11-20  </td><td>192         </td><td> 0.005208333</td><td>0           </td><td> 0.000000000</td><td> 0.005208333</td></tr>\n",
       "\t<tr><td>842614147   </td><td>2014-11-23  </td><td>204         </td><td>-0.039215686</td><td>0           </td><td>-0.039215686</td><td> 0.000000000</td></tr>\n",
       "\t<tr><td>842614622   </td><td>2014-11-24  </td><td>182         </td><td> 0.043956044</td><td>0           </td><td> 0.000000000</td><td> 0.043956044</td></tr>\n",
       "\t<tr><td>842613825   </td><td>2014-11-25  </td><td>225         </td><td>-0.008888889</td><td>0           </td><td> 0.000000000</td><td>-0.008888889</td></tr>\n",
       "\t<tr><td>842614791   </td><td>2014-11-25  </td><td>268         </td><td>-0.003731343</td><td>0           </td><td> 0.000000000</td><td>-0.003731343</td></tr>\n",
       "\t<tr><td>842616018   </td><td>2014-11-28  </td><td>247         </td><td> 0.020242915</td><td>0           </td><td> 0.000000000</td><td> 0.020242915</td></tr>\n",
       "\t<tr><td>842616178   </td><td>2014-11-28  </td><td>189         </td><td> 0.068783069</td><td>0           </td><td> 0.000000000</td><td> 0.068783069</td></tr>\n",
       "\t<tr><td>842616907   </td><td>2014-12-02  </td><td>315         </td><td> 0.019047619</td><td>0           </td><td> 0.000000000</td><td> 0.019047619</td></tr>\n",
       "\t<tr><td>842615293   </td><td>2014-12-03  </td><td>103         </td><td> 0.009708738</td><td>0           </td><td> 0.009708738</td><td> 0.000000000</td></tr>\n",
       "\t<tr><td>842616979   </td><td>2014-12-06  </td><td>171         </td><td> 0.064327485</td><td>0           </td><td> 0.064327485</td><td> 0.000000000</td></tr>\n",
       "\t<tr><td>842614692   </td><td>2014-12-11  </td><td>138         </td><td> 0.000000000</td><td>0           </td><td> 0.000000000</td><td> 0.000000000</td></tr>\n",
       "\t<tr><td>842616113   </td><td>2014-12-11  </td><td>159         </td><td>-0.018867925</td><td>0           </td><td>-0.018867925</td><td> 0.000000000</td></tr>\n",
       "\t<tr><td>842614681   </td><td>2014-12-16  </td><td>182         </td><td> 0.005494505</td><td>0           </td><td> 0.000000000</td><td> 0.005494505</td></tr>\n",
       "\t<tr><td>842614823   </td><td>2014-12-17  </td><td>171         </td><td>-0.029239766</td><td>0           </td><td>-0.029239766</td><td> 0.000000000</td></tr>\n",
       "\t<tr><td>842617407   </td><td>2014-12-21  </td><td>181         </td><td> 0.038674033</td><td>0           </td><td> 0.038674033</td><td> 0.000000000</td></tr>\n",
       "\t<tr><td>842614252   </td><td>2014-12-22  </td><td>176         </td><td> 0.017045455</td><td>0           </td><td> 0.000000000</td><td> 0.017045455</td></tr>\n",
       "\t<tr><td>842616931   </td><td>2014-12-22  </td><td>116         </td><td>-0.043103448</td><td>0           </td><td>-0.043103448</td><td> 0.000000000</td></tr>\n",
       "\t<tr><td>842613758   </td><td>2014-12-23  </td><td>191         </td><td> 0.052356021</td><td>0           </td><td> 0.000000000</td><td> 0.052356021</td></tr>\n",
       "\t<tr><td>842615135   </td><td>2014-12-23  </td><td>147         </td><td> 0.068027211</td><td>0           </td><td> 0.000000000</td><td> 0.068027211</td></tr>\n",
       "\t<tr><td>842617266   </td><td>2014-12-24  </td><td>182         </td><td> 0.054945055</td><td>0           </td><td> 0.054945055</td><td> 0.000000000</td></tr>\n",
       "\t<tr><td>842614354   </td><td>2014-12-26  </td><td>168         </td><td> 0.065476190</td><td>0           </td><td> 0.000000000</td><td> 0.065476190</td></tr>\n",
       "\t<tr><td>842616130   </td><td>2014-12-31  </td><td>181         </td><td> 0.060773481</td><td>0           </td><td> 0.000000000</td><td> 0.060773481</td></tr>\n",
       "</tbody>\n",
       "</table>\n"
      ],
      "text/latex": [
       "\\begin{tabular}{r|lllllll}\n",
       " id & date & word\\_count & NRC--wsj & NRC--wapo & NRC--economy & NRC--noneconomy\\\\\n",
       "\\hline\n",
       "\t 830981846    & 1995-01-02   & 213          &  0.000000000 & -0.023474178 & -0.02347418  &  0.000000000\\\\\n",
       "\t 842617067    & 1995-01-05   & 110          &  0.000000000 &  0.000000000 &  0.00000000  &  0.000000000\\\\\n",
       "\t 830982165    & 1995-01-05   & 202          &  0.000000000 & -0.009900990 &  0.00000000  & -0.009900990\\\\\n",
       "\t 830982389    & 1995-01-08   & 153          &  0.000000000 &  0.019607843 &  0.00000000  &  0.019607843\\\\\n",
       "\t 842615996    & 1995-01-09   & 245          &  0.024489796 &  0.000000000 &  0.00000000  &  0.024489796\\\\\n",
       "\t 830982368    & 1995-01-09   & 212          &  0.000000000 &  0.033018868 &  0.03301887  &  0.000000000\\\\\n",
       "\t 842614176    & 1995-01-10   & 164          &  0.012195122 &  0.000000000 &  0.01219512  &  0.000000000\\\\\n",
       "\t 830985635    & 1995-01-10   & 216          &  0.000000000 &  0.041666667 &  0.00000000  &  0.041666667\\\\\n",
       "\t 842617154    & 1995-01-11   &  97          & -0.072164948 &  0.000000000 &  0.00000000  & -0.072164948\\\\\n",
       "\t 842616780    & 1995-01-16   & 283          &  0.014134276 &  0.000000000 &  0.00000000  &  0.014134276\\\\\n",
       "\t 830983888    & 1995-01-18   & 224          &  0.000000000 & -0.017857143 &  0.00000000  & -0.017857143\\\\\n",
       "\t 842613628    & 1995-01-19   & 192          &  0.015625000 &  0.000000000 &  0.01562500  &  0.000000000\\\\\n",
       "\t 830984614    & 1995-01-19   & 299          &  0.000000000 & -0.006688963 &  0.00000000  & -0.006688963\\\\\n",
       "\t 830985188    & 1995-01-19   & 254          &  0.000000000 &  0.062992126 &  0.00000000  &  0.062992126\\\\\n",
       "\t 842613577    & 1995-01-20   &  96          & -0.010416667 &  0.000000000 & -0.01041667  &  0.000000000\\\\\n",
       "\t 842616897    & 1995-01-20   & 232          &  0.004310345 &  0.000000000 &  0.00000000  &  0.004310345\\\\\n",
       "\t 830981849    & 1995-01-20   & 274          &  0.000000000 &  0.018248175 &  0.01824818  &  0.000000000\\\\\n",
       "\t 842614083    & 1995-01-25   & 184          &  0.032608696 &  0.000000000 &  0.00000000  &  0.032608696\\\\\n",
       "\t 830983263    & 1995-01-26   & 205          &  0.000000000 &  0.034146341 &  0.00000000  &  0.034146341\\\\\n",
       "\t 830984589    & 1995-01-26   & 249          &  0.000000000 &  0.040160643 &  0.00000000  &  0.040160643\\\\\n",
       "\t 830981676    & 1995-01-31   & 218          &  0.000000000 &  0.041284404 &  0.00000000  &  0.041284404\\\\\n",
       "\t 842613472    & 1995-02-02   & 189          &  0.047619048 &  0.000000000 &  0.04761905  &  0.000000000\\\\\n",
       "\t 842614094    & 1995-02-02   & 282          &  0.003546099 &  0.000000000 &  0.00000000  &  0.003546099\\\\\n",
       "\t 842616047    & 1995-02-02   & 244          &  0.012295082 &  0.000000000 &  0.01229508  &  0.000000000\\\\\n",
       "\t 830982289    & 1995-02-04   & 194          &  0.000000000 &  0.056701031 &  0.00000000  &  0.056701031\\\\\n",
       "\t 842613564    & 1995-02-06   & 174          &  0.057471264 &  0.000000000 &  0.05747126  &  0.000000000\\\\\n",
       "\t 830984458    & 1995-02-08   & 210          &  0.000000000 &  0.080952381 &  0.00000000  &  0.080952381\\\\\n",
       "\t 830982315    & 1995-02-09   & 235          &  0.000000000 &  0.059574468 &  0.00000000  &  0.059574468\\\\\n",
       "\t 842614445    & 1995-02-10   & 313          &  0.031948882 &  0.000000000 &  0.03194888  &  0.000000000\\\\\n",
       "\t 842615524    & 1995-02-10   & 186          &  0.053763441 &  0.000000000 &  0.00000000  &  0.053763441\\\\\n",
       "\t ... & ... & ... & ... & ... & ... & ...\\\\\n",
       "\t 842616366    & 2014-11-01   & 144          &  0.006944444 & 0            &  0.000000000 &  0.006944444\\\\\n",
       "\t 842614608    & 2014-11-04   & 214          & -0.023364486 & 0            &  0.000000000 & -0.023364486\\\\\n",
       "\t 842616917    & 2014-11-12   & 248          &  0.004032258 & 0            &  0.004032258 &  0.000000000\\\\\n",
       "\t 842617403    & 2014-11-12   & 185          &  0.027027027 & 0            &  0.000000000 &  0.027027027\\\\\n",
       "\t 842613947    & 2014-11-14   & 138          & -0.057971014 & 0            & -0.057971014 &  0.000000000\\\\\n",
       "\t 842614717    & 2014-11-19   & 206          &  0.043689320 & 0            &  0.000000000 &  0.043689320\\\\\n",
       "\t 842613609    & 2014-11-20   & 314          &  0.035031847 & 0            &  0.035031847 &  0.000000000\\\\\n",
       "\t 842615664    & 2014-11-20   & 266          &  0.015037594 & 0            &  0.000000000 &  0.015037594\\\\\n",
       "\t 842615803    & 2014-11-20   & 192          &  0.005208333 & 0            &  0.000000000 &  0.005208333\\\\\n",
       "\t 842614147    & 2014-11-23   & 204          & -0.039215686 & 0            & -0.039215686 &  0.000000000\\\\\n",
       "\t 842614622    & 2014-11-24   & 182          &  0.043956044 & 0            &  0.000000000 &  0.043956044\\\\\n",
       "\t 842613825    & 2014-11-25   & 225          & -0.008888889 & 0            &  0.000000000 & -0.008888889\\\\\n",
       "\t 842614791    & 2014-11-25   & 268          & -0.003731343 & 0            &  0.000000000 & -0.003731343\\\\\n",
       "\t 842616018    & 2014-11-28   & 247          &  0.020242915 & 0            &  0.000000000 &  0.020242915\\\\\n",
       "\t 842616178    & 2014-11-28   & 189          &  0.068783069 & 0            &  0.000000000 &  0.068783069\\\\\n",
       "\t 842616907    & 2014-12-02   & 315          &  0.019047619 & 0            &  0.000000000 &  0.019047619\\\\\n",
       "\t 842615293    & 2014-12-03   & 103          &  0.009708738 & 0            &  0.009708738 &  0.000000000\\\\\n",
       "\t 842616979    & 2014-12-06   & 171          &  0.064327485 & 0            &  0.064327485 &  0.000000000\\\\\n",
       "\t 842614692    & 2014-12-11   & 138          &  0.000000000 & 0            &  0.000000000 &  0.000000000\\\\\n",
       "\t 842616113    & 2014-12-11   & 159          & -0.018867925 & 0            & -0.018867925 &  0.000000000\\\\\n",
       "\t 842614681    & 2014-12-16   & 182          &  0.005494505 & 0            &  0.000000000 &  0.005494505\\\\\n",
       "\t 842614823    & 2014-12-17   & 171          & -0.029239766 & 0            & -0.029239766 &  0.000000000\\\\\n",
       "\t 842617407    & 2014-12-21   & 181          &  0.038674033 & 0            &  0.038674033 &  0.000000000\\\\\n",
       "\t 842614252    & 2014-12-22   & 176          &  0.017045455 & 0            &  0.000000000 &  0.017045455\\\\\n",
       "\t 842616931    & 2014-12-22   & 116          & -0.043103448 & 0            & -0.043103448 &  0.000000000\\\\\n",
       "\t 842613758    & 2014-12-23   & 191          &  0.052356021 & 0            &  0.000000000 &  0.052356021\\\\\n",
       "\t 842615135    & 2014-12-23   & 147          &  0.068027211 & 0            &  0.000000000 &  0.068027211\\\\\n",
       "\t 842617266    & 2014-12-24   & 182          &  0.054945055 & 0            &  0.054945055 &  0.000000000\\\\\n",
       "\t 842614354    & 2014-12-26   & 168          &  0.065476190 & 0            &  0.000000000 &  0.065476190\\\\\n",
       "\t 842616130    & 2014-12-31   & 181          &  0.060773481 & 0            &  0.000000000 &  0.060773481\\\\\n",
       "\\end{tabular}\n"
      ],
      "text/markdown": [
       "\n",
       "| id | date | word_count | NRC--wsj | NRC--wapo | NRC--economy | NRC--noneconomy |\n",
       "|---|---|---|---|---|---|---|\n",
       "| 830981846    | 1995-01-02   | 213          |  0.000000000 | -0.023474178 | -0.02347418  |  0.000000000 |\n",
       "| 842617067    | 1995-01-05   | 110          |  0.000000000 |  0.000000000 |  0.00000000  |  0.000000000 |\n",
       "| 830982165    | 1995-01-05   | 202          |  0.000000000 | -0.009900990 |  0.00000000  | -0.009900990 |\n",
       "| 830982389    | 1995-01-08   | 153          |  0.000000000 |  0.019607843 |  0.00000000  |  0.019607843 |\n",
       "| 842615996    | 1995-01-09   | 245          |  0.024489796 |  0.000000000 |  0.00000000  |  0.024489796 |\n",
       "| 830982368    | 1995-01-09   | 212          |  0.000000000 |  0.033018868 |  0.03301887  |  0.000000000 |\n",
       "| 842614176    | 1995-01-10   | 164          |  0.012195122 |  0.000000000 |  0.01219512  |  0.000000000 |\n",
       "| 830985635    | 1995-01-10   | 216          |  0.000000000 |  0.041666667 |  0.00000000  |  0.041666667 |\n",
       "| 842617154    | 1995-01-11   |  97          | -0.072164948 |  0.000000000 |  0.00000000  | -0.072164948 |\n",
       "| 842616780    | 1995-01-16   | 283          |  0.014134276 |  0.000000000 |  0.00000000  |  0.014134276 |\n",
       "| 830983888    | 1995-01-18   | 224          |  0.000000000 | -0.017857143 |  0.00000000  | -0.017857143 |\n",
       "| 842613628    | 1995-01-19   | 192          |  0.015625000 |  0.000000000 |  0.01562500  |  0.000000000 |\n",
       "| 830984614    | 1995-01-19   | 299          |  0.000000000 | -0.006688963 |  0.00000000  | -0.006688963 |\n",
       "| 830985188    | 1995-01-19   | 254          |  0.000000000 |  0.062992126 |  0.00000000  |  0.062992126 |\n",
       "| 842613577    | 1995-01-20   |  96          | -0.010416667 |  0.000000000 | -0.01041667  |  0.000000000 |\n",
       "| 842616897    | 1995-01-20   | 232          |  0.004310345 |  0.000000000 |  0.00000000  |  0.004310345 |\n",
       "| 830981849    | 1995-01-20   | 274          |  0.000000000 |  0.018248175 |  0.01824818  |  0.000000000 |\n",
       "| 842614083    | 1995-01-25   | 184          |  0.032608696 |  0.000000000 |  0.00000000  |  0.032608696 |\n",
       "| 830983263    | 1995-01-26   | 205          |  0.000000000 |  0.034146341 |  0.00000000  |  0.034146341 |\n",
       "| 830984589    | 1995-01-26   | 249          |  0.000000000 |  0.040160643 |  0.00000000  |  0.040160643 |\n",
       "| 830981676    | 1995-01-31   | 218          |  0.000000000 |  0.041284404 |  0.00000000  |  0.041284404 |\n",
       "| 842613472    | 1995-02-02   | 189          |  0.047619048 |  0.000000000 |  0.04761905  |  0.000000000 |\n",
       "| 842614094    | 1995-02-02   | 282          |  0.003546099 |  0.000000000 |  0.00000000  |  0.003546099 |\n",
       "| 842616047    | 1995-02-02   | 244          |  0.012295082 |  0.000000000 |  0.01229508  |  0.000000000 |\n",
       "| 830982289    | 1995-02-04   | 194          |  0.000000000 |  0.056701031 |  0.00000000  |  0.056701031 |\n",
       "| 842613564    | 1995-02-06   | 174          |  0.057471264 |  0.000000000 |  0.05747126  |  0.000000000 |\n",
       "| 830984458    | 1995-02-08   | 210          |  0.000000000 |  0.080952381 |  0.00000000  |  0.080952381 |\n",
       "| 830982315    | 1995-02-09   | 235          |  0.000000000 |  0.059574468 |  0.00000000  |  0.059574468 |\n",
       "| 842614445    | 1995-02-10   | 313          |  0.031948882 |  0.000000000 |  0.03194888  |  0.000000000 |\n",
       "| 842615524    | 1995-02-10   | 186          |  0.053763441 |  0.000000000 |  0.00000000  |  0.053763441 |\n",
       "| ... | ... | ... | ... | ... | ... | ... |\n",
       "| 842616366    | 2014-11-01   | 144          |  0.006944444 | 0            |  0.000000000 |  0.006944444 |\n",
       "| 842614608    | 2014-11-04   | 214          | -0.023364486 | 0            |  0.000000000 | -0.023364486 |\n",
       "| 842616917    | 2014-11-12   | 248          |  0.004032258 | 0            |  0.004032258 |  0.000000000 |\n",
       "| 842617403    | 2014-11-12   | 185          |  0.027027027 | 0            |  0.000000000 |  0.027027027 |\n",
       "| 842613947    | 2014-11-14   | 138          | -0.057971014 | 0            | -0.057971014 |  0.000000000 |\n",
       "| 842614717    | 2014-11-19   | 206          |  0.043689320 | 0            |  0.000000000 |  0.043689320 |\n",
       "| 842613609    | 2014-11-20   | 314          |  0.035031847 | 0            |  0.035031847 |  0.000000000 |\n",
       "| 842615664    | 2014-11-20   | 266          |  0.015037594 | 0            |  0.000000000 |  0.015037594 |\n",
       "| 842615803    | 2014-11-20   | 192          |  0.005208333 | 0            |  0.000000000 |  0.005208333 |\n",
       "| 842614147    | 2014-11-23   | 204          | -0.039215686 | 0            | -0.039215686 |  0.000000000 |\n",
       "| 842614622    | 2014-11-24   | 182          |  0.043956044 | 0            |  0.000000000 |  0.043956044 |\n",
       "| 842613825    | 2014-11-25   | 225          | -0.008888889 | 0            |  0.000000000 | -0.008888889 |\n",
       "| 842614791    | 2014-11-25   | 268          | -0.003731343 | 0            |  0.000000000 | -0.003731343 |\n",
       "| 842616018    | 2014-11-28   | 247          |  0.020242915 | 0            |  0.000000000 |  0.020242915 |\n",
       "| 842616178    | 2014-11-28   | 189          |  0.068783069 | 0            |  0.000000000 |  0.068783069 |\n",
       "| 842616907    | 2014-12-02   | 315          |  0.019047619 | 0            |  0.000000000 |  0.019047619 |\n",
       "| 842615293    | 2014-12-03   | 103          |  0.009708738 | 0            |  0.009708738 |  0.000000000 |\n",
       "| 842616979    | 2014-12-06   | 171          |  0.064327485 | 0            |  0.064327485 |  0.000000000 |\n",
       "| 842614692    | 2014-12-11   | 138          |  0.000000000 | 0            |  0.000000000 |  0.000000000 |\n",
       "| 842616113    | 2014-12-11   | 159          | -0.018867925 | 0            | -0.018867925 |  0.000000000 |\n",
       "| 842614681    | 2014-12-16   | 182          |  0.005494505 | 0            |  0.000000000 |  0.005494505 |\n",
       "| 842614823    | 2014-12-17   | 171          | -0.029239766 | 0            | -0.029239766 |  0.000000000 |\n",
       "| 842617407    | 2014-12-21   | 181          |  0.038674033 | 0            |  0.038674033 |  0.000000000 |\n",
       "| 842614252    | 2014-12-22   | 176          |  0.017045455 | 0            |  0.000000000 |  0.017045455 |\n",
       "| 842616931    | 2014-12-22   | 116          | -0.043103448 | 0            | -0.043103448 |  0.000000000 |\n",
       "| 842613758    | 2014-12-23   | 191          |  0.052356021 | 0            |  0.000000000 |  0.052356021 |\n",
       "| 842615135    | 2014-12-23   | 147          |  0.068027211 | 0            |  0.000000000 |  0.068027211 |\n",
       "| 842617266    | 2014-12-24   | 182          |  0.054945055 | 0            |  0.054945055 |  0.000000000 |\n",
       "| 842614354    | 2014-12-26   | 168          |  0.065476190 | 0            |  0.000000000 |  0.065476190 |\n",
       "| 842616130    | 2014-12-31   | 181          |  0.060773481 | 0            |  0.000000000 |  0.060773481 |\n",
       "\n"
      ],
      "text/plain": [
       "     id        date       word_count NRC--wsj     NRC--wapo    NRC--economy\n",
       "1    830981846 1995-01-02 213         0.000000000 -0.023474178 -0.02347418 \n",
       "2    842617067 1995-01-05 110         0.000000000  0.000000000  0.00000000 \n",
       "3    830982165 1995-01-05 202         0.000000000 -0.009900990  0.00000000 \n",
       "4    830982389 1995-01-08 153         0.000000000  0.019607843  0.00000000 \n",
       "5    842615996 1995-01-09 245         0.024489796  0.000000000  0.00000000 \n",
       "6    830982368 1995-01-09 212         0.000000000  0.033018868  0.03301887 \n",
       "7    842614176 1995-01-10 164         0.012195122  0.000000000  0.01219512 \n",
       "8    830985635 1995-01-10 216         0.000000000  0.041666667  0.00000000 \n",
       "9    842617154 1995-01-11  97        -0.072164948  0.000000000  0.00000000 \n",
       "10   842616780 1995-01-16 283         0.014134276  0.000000000  0.00000000 \n",
       "11   830983888 1995-01-18 224         0.000000000 -0.017857143  0.00000000 \n",
       "12   842613628 1995-01-19 192         0.015625000  0.000000000  0.01562500 \n",
       "13   830984614 1995-01-19 299         0.000000000 -0.006688963  0.00000000 \n",
       "14   830985188 1995-01-19 254         0.000000000  0.062992126  0.00000000 \n",
       "15   842613577 1995-01-20  96        -0.010416667  0.000000000 -0.01041667 \n",
       "16   842616897 1995-01-20 232         0.004310345  0.000000000  0.00000000 \n",
       "17   830981849 1995-01-20 274         0.000000000  0.018248175  0.01824818 \n",
       "18   842614083 1995-01-25 184         0.032608696  0.000000000  0.00000000 \n",
       "19   830983263 1995-01-26 205         0.000000000  0.034146341  0.00000000 \n",
       "20   830984589 1995-01-26 249         0.000000000  0.040160643  0.00000000 \n",
       "21   830981676 1995-01-31 218         0.000000000  0.041284404  0.00000000 \n",
       "22   842613472 1995-02-02 189         0.047619048  0.000000000  0.04761905 \n",
       "23   842614094 1995-02-02 282         0.003546099  0.000000000  0.00000000 \n",
       "24   842616047 1995-02-02 244         0.012295082  0.000000000  0.01229508 \n",
       "25   830982289 1995-02-04 194         0.000000000  0.056701031  0.00000000 \n",
       "26   842613564 1995-02-06 174         0.057471264  0.000000000  0.05747126 \n",
       "27   830984458 1995-02-08 210         0.000000000  0.080952381  0.00000000 \n",
       "28   830982315 1995-02-09 235         0.000000000  0.059574468  0.00000000 \n",
       "29   842614445 1995-02-10 313         0.031948882  0.000000000  0.03194888 \n",
       "30   842615524 1995-02-10 186         0.053763441  0.000000000  0.00000000 \n",
       "...  ...       ...        ...        ...          ...          ...         \n",
       "4116 842616366 2014-11-01 144         0.006944444 0             0.000000000\n",
       "4117 842614608 2014-11-04 214        -0.023364486 0             0.000000000\n",
       "4118 842616917 2014-11-12 248         0.004032258 0             0.004032258\n",
       "4119 842617403 2014-11-12 185         0.027027027 0             0.000000000\n",
       "4120 842613947 2014-11-14 138        -0.057971014 0            -0.057971014\n",
       "4121 842614717 2014-11-19 206         0.043689320 0             0.000000000\n",
       "4122 842613609 2014-11-20 314         0.035031847 0             0.035031847\n",
       "4123 842615664 2014-11-20 266         0.015037594 0             0.000000000\n",
       "4124 842615803 2014-11-20 192         0.005208333 0             0.000000000\n",
       "4125 842614147 2014-11-23 204        -0.039215686 0            -0.039215686\n",
       "4126 842614622 2014-11-24 182         0.043956044 0             0.000000000\n",
       "4127 842613825 2014-11-25 225        -0.008888889 0             0.000000000\n",
       "4128 842614791 2014-11-25 268        -0.003731343 0             0.000000000\n",
       "4129 842616018 2014-11-28 247         0.020242915 0             0.000000000\n",
       "4130 842616178 2014-11-28 189         0.068783069 0             0.000000000\n",
       "4131 842616907 2014-12-02 315         0.019047619 0             0.000000000\n",
       "4132 842615293 2014-12-03 103         0.009708738 0             0.009708738\n",
       "4133 842616979 2014-12-06 171         0.064327485 0             0.064327485\n",
       "4134 842614692 2014-12-11 138         0.000000000 0             0.000000000\n",
       "4135 842616113 2014-12-11 159        -0.018867925 0            -0.018867925\n",
       "4136 842614681 2014-12-16 182         0.005494505 0             0.000000000\n",
       "4137 842614823 2014-12-17 171        -0.029239766 0            -0.029239766\n",
       "4138 842617407 2014-12-21 181         0.038674033 0             0.038674033\n",
       "4139 842614252 2014-12-22 176         0.017045455 0             0.000000000\n",
       "4140 842616931 2014-12-22 116        -0.043103448 0            -0.043103448\n",
       "4141 842613758 2014-12-23 191         0.052356021 0             0.000000000\n",
       "4142 842615135 2014-12-23 147         0.068027211 0             0.000000000\n",
       "4143 842617266 2014-12-24 182         0.054945055 0             0.054945055\n",
       "4144 842614354 2014-12-26 168         0.065476190 0             0.000000000\n",
       "4145 842616130 2014-12-31 181         0.060773481 0             0.000000000\n",
       "     NRC--noneconomy\n",
       "1     0.000000000   \n",
       "2     0.000000000   \n",
       "3    -0.009900990   \n",
       "4     0.019607843   \n",
       "5     0.024489796   \n",
       "6     0.000000000   \n",
       "7     0.000000000   \n",
       "8     0.041666667   \n",
       "9    -0.072164948   \n",
       "10    0.014134276   \n",
       "11   -0.017857143   \n",
       "12    0.000000000   \n",
       "13   -0.006688963   \n",
       "14    0.062992126   \n",
       "15    0.000000000   \n",
       "16    0.004310345   \n",
       "17    0.000000000   \n",
       "18    0.032608696   \n",
       "19    0.034146341   \n",
       "20    0.040160643   \n",
       "21    0.041284404   \n",
       "22    0.000000000   \n",
       "23    0.003546099   \n",
       "24    0.000000000   \n",
       "25    0.056701031   \n",
       "26    0.000000000   \n",
       "27    0.080952381   \n",
       "28    0.059574468   \n",
       "29    0.000000000   \n",
       "30    0.053763441   \n",
       "...  ...            \n",
       "4116  0.006944444   \n",
       "4117 -0.023364486   \n",
       "4118  0.000000000   \n",
       "4119  0.027027027   \n",
       "4120  0.000000000   \n",
       "4121  0.043689320   \n",
       "4122  0.000000000   \n",
       "4123  0.015037594   \n",
       "4124  0.005208333   \n",
       "4125  0.000000000   \n",
       "4126  0.043956044   \n",
       "4127 -0.008888889   \n",
       "4128 -0.003731343   \n",
       "4129  0.020242915   \n",
       "4130  0.068783069   \n",
       "4131  0.019047619   \n",
       "4132  0.000000000   \n",
       "4133  0.000000000   \n",
       "4134  0.000000000   \n",
       "4135  0.000000000   \n",
       "4136  0.005494505   \n",
       "4137  0.000000000   \n",
       "4138  0.000000000   \n",
       "4139  0.017045455   \n",
       "4140  0.000000000   \n",
       "4141  0.052356021   \n",
       "4142  0.068027211   \n",
       "4143  0.000000000   \n",
       "4144  0.065476190   \n",
       "4145  0.060773481   "
      ]
     },
     "metadata": {},
     "output_type": "display_data"
    }
   ],
   "source": [
    "sent_unigram"
   ]
  },
  {
   "cell_type": "markdown",
   "id": "7927c1fc",
   "metadata": {},
   "source": [
    "## Sentiment computation with valence-shifting bigrams\n",
    "\n",
    "`list_valence_shifters` from the `sentometris` package contains a list of valence shifters in multiple languages. For English, use `list_valence_shifters[[\"en\"]]`. The column `x` contains the words themselves. `y` is the valence shifter to use for valence-shifting bigrams, and `t` is the  valence shifter to use for valence-shifting clusters."
   ]
  },
  {
   "cell_type": "code",
   "execution_count": 18,
   "id": "b4412aae",
   "metadata": {},
   "outputs": [],
   "source": [
    "lex_bigram <- sento_lexicons(list(NRC = hash_sentiment_nrc),\n",
    "                             list_valence_shifters[[\"en\"]][, c(\"x\", \"y\")])\n",
    "\n",
    "sent_bigram <- compute_sentiment(uscorpus, lex_bigram)"
   ]
  },
  {
   "cell_type": "markdown",
   "id": "3c9fcca6",
   "metadata": {},
   "source": [
    "## Sentiment computation with valence-shifting clusters\n",
    "\n",
    "Note that we now select columns `\"x\"` and `\"t\"` instead of `\"x\"` and `\"y\"`."
   ]
  },
  {
   "cell_type": "code",
   "execution_count": 19,
   "id": "50ed3c88",
   "metadata": {},
   "outputs": [],
   "source": [
    "lex_cluster <- sento_lexicons(list(NRC = hash_sentiment_nrc),\n",
    "                              list_valence_shifters[[\"en\"]][, c(\"x\", \"t\")])\n",
    "\n",
    "sent_cluster <- compute_sentiment(uscorpus, lex_cluster)"
   ]
  },
  {
   "cell_type": "markdown",
   "id": "022e0eb0",
   "metadata": {},
   "source": [
    "## Plot the outputs of the different sentiment calculation approaches"
   ]
  },
  {
   "cell_type": "code",
   "execution_count": 20,
   "id": "bfb0e8e0",
   "metadata": {
    "scrolled": false
   },
   "outputs": [
    {
     "data": {
      "image/png": "[encoded data removed]",
      "text/plain": [
       "plot without title"
      ]
     },
     "metadata": {},
     "output_type": "display_data"
    }
   ],
   "source": [
    "s <- cbind(simple = sent_unigram[[\"NRC--economy\"]][1:200],\n",
    "           valence = sent_bigram[[\"NRC--economy\"]][1:200],\n",
    "           cluster = sent_cluster[[\"NRC--economy\"]][1:200])\n",
    "\n",
    "matplot(s, type = \"l\", lty = 1, ylab = \"Sentiment\", xlab = \"Text\")\n",
    "legend(\"topright\", col = 1:3, legend = colnames(s), lty = 1, cex = 0.7, bty = \"n\")"
   ]
  },
  {
   "cell_type": "markdown",
   "id": "363afae2",
   "metadata": {},
   "source": [
    "# Step 3: Index aggregation\n",
    "\n",
    "In this step, we aggregate the individual sentiment scores to obtain various representative time series. Two main aggregations are performed. The first, across-document, collapses all sentiment scores across documents within the same frequency (e.g., day or month, as defined by `by`) into one score. The second, across-time, smooths the newly aggregated sentiment scores over time.\n",
    "\n",
    "* `howDocs`: This argument defines how sentiment is aggregated across all documents at the same date (or frequency). The option `\"proportional\"` gives higher weights to documents with more words, relative to the document population at a given date.\n",
    "* `howTime`: This argument defines how sentiment is aggregated across dates, to smoothen the time series and to acknowledge that sentiment at a given point is at least partly based on sentiment and information from the past. The `\"equal_weight\"` option is similar to a simple weighted moving average.\n",
    "* `lag`: how far to go back in time for aggregating across dates."
   ]
  },
  {
   "cell_type": "code",
   "execution_count": 21,
   "id": "c40ed6b8",
   "metadata": {},
   "outputs": [],
   "source": [
    "ctr <- ctr_agg(\n",
    "    howDocs = \"proportional\",\n",
    "    howTime = \"equal_weight\",\n",
    "    by = \"month\",\n",
    "    lag = 6\n",
    ")\n",
    "\n",
    "measures <- aggregate(sent_cluster, ctr)"
   ]
  },
  {
   "cell_type": "code",
   "execution_count": 22,
   "id": "234372c7",
   "metadata": {},
   "outputs": [
    {
     "data": {
      "image/png": "[encoded data removed]",
      "text/plain": [
       "plot without title"
      ]
     },
     "metadata": {},
     "output_type": "display_data"
    }
   ],
   "source": [
    "plot(measures, \"lexicons\")"
   ]
  },
  {
   "cell_type": "markdown",
   "id": "f8bd54ae",
   "metadata": {},
   "source": [
    "# Step 4: Modeling\n",
    "\n",
    "Once we have computed sentiment measures, we can use these as input for a model that can predict some value of interest. When our corpus would consist of movie reviews, for example, we could build a model that predicts the revenue of the movie based on the sentiment measures of the reviews. In the following notebook, we will see an example of predicting the CBOE Volatility Index (VIX) from sentiment measures of the US news papers we have used here."
   ]
  }
 ],
 "metadata": {
  "kernelspec": {
   "display_name": "R",
   "language": "R",
   "name": "ir"
  },
  "language_info": {
   "codemirror_mode": "r",
   "file_extension": ".r",
   "mimetype": "text/x-r-source",
   "name": "R",
   "pygments_lexer": "r",
   "version": "3.6.1"
  }
 },
 "nbformat": 4,
 "nbformat_minor": 5
}
