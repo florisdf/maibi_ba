{
 "cells": [
  {
   "cell_type": "markdown",
   "id": "f29e9f26",
   "metadata": {},
   "source": [
    "# AdaBoost with cost-sensitive weight initialization\n",
    "\n",
    "AdaBoost is an ensemble of *weak* classifiers. Each of these weak classifiers is trained on a weighted version of the original dataset, where samples that are poorly classified by the ensemble of the previous classifiers are weighted more than others. For the initial classifier, all samples are weighted equally.\n",
    "\n",
    "An easy way to make the ensemble cost-sensitive is to use the **misclassification costs as initial sample weights**."
   ]
  },
  {
   "cell_type": "code",
   "execution_count": null,
   "id": "e8ad7df2",
   "metadata": {},
   "outputs": [],
   "source": [
    "from lib.creditcard_fraud_dataset import get_train_test_dfs\n",
    "\n",
    "df_train, df_test = get_train_test_dfs()"
   ]
  },
  {
   "cell_type": "markdown",
   "id": "d8511579",
   "metadata": {},
   "source": [
    "## Train"
   ]
  },
  {
   "cell_type": "code",
   "execution_count": null,
   "id": "d3e49f81",
   "metadata": {},
   "outputs": [],
   "source": [
    "from lib.cs_train import train_clf\n",
    "from sklearn.ensemble import AdaBoostClassifier\n",
    "\n",
    "\n",
    "clf_ada_weighted = train_clf(\n",
    "    df_train,\n",
    "    Classifier=AdaBoostClassifier,\n",
    "    sample_weight=df_train['C_misclf']\n",
    ")\n",
    "\n",
    "clf_ada_unweighted = train_clf(\n",
    "    df_train,\n",
    "    Classifier=AdaBoostClassifier,\n",
    ")"
   ]
  },
  {
   "cell_type": "markdown",
   "id": "cf751309",
   "metadata": {},
   "source": [
    "## Evaluate"
   ]
  },
  {
   "cell_type": "code",
   "execution_count": null,
   "id": "034be968",
   "metadata": {},
   "outputs": [],
   "source": [
    "from lib.cs_eval import evaluate_clf\n",
    "\n",
    "eval_metrics_weighted = evaluate_clf(clf_ada_weighted, df_test)\n",
    "eval_metrics_unweighted = evaluate_clf(clf_ada_unweighted, df_test)"
   ]
  },
  {
   "cell_type": "code",
   "execution_count": null,
   "id": "f8664530",
   "metadata": {},
   "outputs": [],
   "source": [
    "import pandas as pd\n",
    "\n",
    "df = pd.DataFrame([\n",
    "    {\n",
    "        'method': 'AdaBoost, CS Weighted',\n",
    "        **eval_metrics_weighted\n",
    "    },\n",
    "    {\n",
    "        'method': 'AdaBoost baseline',\n",
    "        **eval_metrics_unweighted\n",
    "    }\n",
    "])"
   ]
  },
  {
   "cell_type": "code",
   "execution_count": null,
   "id": "ca9597e2",
   "metadata": {},
   "outputs": [],
   "source": [
    "df"
   ]
  },
  {
   "cell_type": "code",
   "execution_count": null,
   "id": "a18d52c8",
   "metadata": {},
   "outputs": [],
   "source": [
    "import seaborn as sns\n",
    "import matplotlib.pyplot as plt\n",
    "\n",
    "sns.barplot(data=df, x='method', y='cost_recall')\n",
    "plt.title('Cost Recall')"
   ]
  },
  {
   "cell_type": "code",
   "execution_count": null,
   "id": "6e60fe07",
   "metadata": {},
   "outputs": [],
   "source": [
    "sns.barplot(data=df, x='method', y='cost_precision')\n",
    "plt.title('Cost Precision')"
   ]
  },
  {
   "cell_type": "code",
   "execution_count": null,
   "id": "ec12ab0c",
   "metadata": {},
   "outputs": [],
   "source": []
  }
 ],
 "metadata": {
  "kernelspec": {
   "display_name": "Python 3 (ipykernel)",
   "language": "python",
   "name": "python3"
  },
  "language_info": {
   "codemirror_mode": {
    "name": "ipython",
    "version": 3
   },
   "file_extension": ".py",
   "mimetype": "text/x-python",
   "name": "python",
   "nbconvert_exporter": "python",
   "pygments_lexer": "ipython3",
   "version": "3.9.7"
  }
 },
 "nbformat": 4,
 "nbformat_minor": 5
}
