{
 "cells": [
  {
   "cell_type": "markdown",
   "id": "67b4008e",
   "metadata": {},
   "source": [
    "Sources:\n",
    "- https://machinelearningmastery.com/cost-sensitive-learning-for-imbalanced-classification/\n",
    "- https://www.kaggle.com/code/janiobachmann/credit-fraud-dealing-with-imbalanced-datasets"
   ]
  },
  {
   "cell_type": "code",
   "execution_count": 1,
   "id": "e9f40bbf",
   "metadata": {},
   "outputs": [],
   "source": [
    "from itertools import product\n",
    "import matplotlib.pyplot as plt\n",
    "import seaborn as sns\n",
    "from tqdm.notebook import tqdm\n",
    "\n",
    "from lib.creditcard_fraud_dataset import get_train_test_dfs\n",
    "from lib.cs_train import train_clf\n",
    "from lib.cs_eval import evaluate_clf"
   ]
  },
  {
   "cell_type": "code",
   "execution_count": 2,
   "id": "0abe8f98",
   "metadata": {},
   "outputs": [
    {
     "data": {
      "text/plain": [
       "Text(0.5, 1.0, 'Class Distributions \\n (0: No Fraud || 1: Fraud)')"
      ]
     },
     "execution_count": 2,
     "metadata": {},
     "output_type": "execute_result"
    },
    {
     "data": {
      "image/png": "[encoded data removed]",
      "text/plain": [
       "<Figure size 432x288 with 1 Axes>"
      ]
     },
     "metadata": {
      "needs_background": "light"
     },
     "output_type": "display_data"
    }
   ],
   "source": [
    "df_trainval, df_test = get_train_test_dfs()\n",
    "\n",
    "sns.countplot(x='Class', data=df_trainval)\n",
    "plt.title('Class Distributions \\n (0: No Fraud || 1: Fraud)', fontsize=14)"
   ]
  },
  {
   "cell_type": "markdown",
   "id": "6e07d353",
   "metadata": {},
   "source": [
    "## Cost matrix\n",
    "\n",
    "Remember the **confusion matrix** of a binary classifier:\n",
    "\n",
    "|                    | Actual Negative | Actual Positive |\n",
    "|--------------------|-----------------|-----------------|\n",
    "| Predicted Negative | TN              | FN              |\n",
    "| Predicted Positive | FP              | TP              |\n",
    "\n",
    "\n",
    "In many applications, the cost of false positive predictions is not the same as the cost of false negative predictions. We can try to assign a cost to each cell of the confusion matrix. As such, we obtain the **cost matrix**:\n",
    "\n",
    "|                    | Actual Negative | Actual Positive |\n",
    "|--------------------|-----------------|-----------------|\n",
    "| Predicted Negative | $C_{TN}$        | $C_{FN}$        |\n",
    "| Predicted Positive | $C_{FP}$        | $C_{TP}$        |\n",
    "\n",
    "Often, $C_{TN} = C_{TP} = 0$, so this reduces to:\n",
    "\n",
    "|                    | Actual Negative | Actual Positive |\n",
    "|--------------------|-----------------|-----------------|\n",
    "| Predicted Negative | $0$             | $C_{FN}$        |\n",
    "| Predicted Positive | $C_{FP}$        | $0$             |\n",
    "\n",
    "We can define the total cost of a classifier using this framework as the **cost-weighted sum of the False Negatives and False Positives**:\n",
    "\n",
    "$$\n",
    "\\text{Total Cost} = C_{FN} \\cdot \\text{FN} + C_{FP} \\cdot \\text{FP}\n",
    "$$\n",
    "\n",
    "This is the value that we seek to minimize in cost-sensitive learning."
   ]
  },
  {
   "cell_type": "code",
   "execution_count": 3,
   "id": "def3f5e0",
   "metadata": {},
   "outputs": [],
   "source": [
    "methods = {}"
   ]
  },
  {
   "cell_type": "code",
   "execution_count": 4,
   "id": "a33c1f17",
   "metadata": {},
   "outputs": [],
   "source": [
    "methods.update({\n",
    "    'Class Unbalanced, Sample Unweighted': {\n",
    "        'train': lambda df_train: dict(\n",
    "            class_weight=None,\n",
    "            sample_weight=None,\n",
    "        ),\n",
    "        'test': lambda df_test: dict()\n",
    "    },\n",
    "    'Class Balanced, Sample Unweighted': {\n",
    "        'train': lambda df_train: dict(\n",
    "            class_weight='balanced',\n",
    "            sample_weight=None,\n",
    "        ),\n",
    "        'test': lambda df_test: dict()\n",
    "    },\n",
    "    'Class Unbalanced, Sample Weighted': {\n",
    "        'train': lambda df_train: dict(\n",
    "            class_weight=None,\n",
    "            sample_weight=df_train['C_misclf'],\n",
    "        ),\n",
    "        'test': lambda df_test: dict()\n",
    "    },\n",
    "    'Class Balanced, Sample Weighted': {\n",
    "        'train': lambda df_train: dict(\n",
    "            class_weight='balanced',\n",
    "            sample_weight=df_train['C_misclf'],\n",
    "        ),\n",
    "        'test': lambda df_test: dict()\n",
    "    },\n",
    "})"
   ]
  },
  {
   "cell_type": "markdown",
   "id": "7b726249",
   "metadata": {},
   "source": [
    "# Balance dataset by subsampling"
   ]
  },
  {
   "cell_type": "code",
   "execution_count": 5,
   "id": "768cef49",
   "metadata": {},
   "outputs": [],
   "source": [
    "methods.update({\n",
    "    'Subsampled negatives, Sample Weighted': {\n",
    "        'train': lambda df_train: dict(\n",
    "            n_neg=df_train['Class'].sum(),\n",
    "            sample_weight=df_train['C_misclf']\n",
    "        ),\n",
    "        'test': lambda df_test: dict()\n",
    "    },\n",
    "    'Subsampled negatives, Sample Unweighted': {\n",
    "        'train': lambda df_train: dict(\n",
    "            n_neg=df_train['Class'].sum(),\n",
    "            sample_weight=None\n",
    "        ),\n",
    "        'test': lambda df_test: dict()\n",
    "    }\n",
    "})"
   ]
  },
  {
   "cell_type": "markdown",
   "id": "c81fa501",
   "metadata": {},
   "source": [
    "# Using cost-sensitive threshold\n",
    "\n",
    "Only classify $P_{+}$ as positive if\n",
    "\n",
    "$$\n",
    "P_{+} > \\frac{C_{FP}}{C_{FP} + C_{FN}}\n",
    "$$\n",
    "\n",
    "Test out with balanced and unbalanced classes."
   ]
  },
  {
   "cell_type": "code",
   "execution_count": 6,
   "id": "f75ccd31",
   "metadata": {},
   "outputs": [],
   "source": [
    "def get_cs_threshs(df):\n",
    "    return df['C_FP'] / (df['C_FP'] + df['C_FN'])\n",
    "\n",
    "\n",
    "methods.update({\n",
    "    \"CS thresh, Class Unbalanced\": {\n",
    "        'train': lambda df_train: dict(class_weight='unbalanced'),\n",
    "        'test': lambda df_test: dict(thresh=get_cs_threshs(df_test)),\n",
    "    },\n",
    "    \"CS thresh, Class Balanced\": {\n",
    "        'train': lambda df_train: dict(class_weight=None),\n",
    "        'test': lambda df_test: dict(thresh=get_cs_threshs(df_test)),\n",
    "    }\n",
    "})"
   ]
  },
  {
   "cell_type": "markdown",
   "id": "2afd9b32",
   "metadata": {},
   "source": [
    "# Using cost-sensitive sampling\n",
    "\n",
    "Resample data such that the positive-negative ratio is equal to:\n",
    "\n",
    "$$\n",
    "r_{cs} = \\frac{|N^+|}{|N^-|}\\cdot\\frac{C_{FN}}{C_{FP}},\n",
    "$$\n",
    "\n",
    "with $|N^+|$ and $|N^-|$ the original number of positive, resp. negative, classes."
   ]
  },
  {
   "cell_type": "code",
   "execution_count": 7,
   "id": "f347647e",
   "metadata": {},
   "outputs": [],
   "source": [
    "def get_cost_sensitive_sampling_ratios(df_train):\n",
    "    n_pos = df_train['Class'].sum()\n",
    "    n_neg = len(df_train) - n_pos\n",
    "\n",
    "    return (df_train['C_FN'] / df_train['C_FP']) * (n_pos / n_neg)\n",
    "\n",
    "\n",
    "methods.update({\n",
    "    'Cost-sensitive sampling': {\n",
    "        'train': lambda df_train: dict(\n",
    "            n_neg=int(df_train['Class'].sum() / get_cost_sensitive_sampling_ratios(df_train).mean())\n",
    "        ),\n",
    "        'test': lambda df_test: dict(),\n",
    "    }\n",
    "})"
   ]
  },
  {
   "cell_type": "markdown",
   "id": "99e5497f",
   "metadata": {},
   "source": [
    "# Evaluation\n",
    "\n",
    "We compute the percentage of the sum of the amounts of all fraudulent transactions that the model saved by correctly detecting fraud."
   ]
  },
  {
   "cell_type": "code",
   "execution_count": 8,
   "id": "cb302b7b",
   "metadata": {
    "scrolled": true
   },
   "outputs": [
    {
     "data": {
      "application/vnd.jupyter.widget-view+json": {
       "model_id": "77078cd5af014043ad617ac30e69a318",
       "version_major": 2,
       "version_minor": 0
      },
      "text/plain": [
       "0it [00:00, ?it/s]"
      ]
     },
     "metadata": {},
     "output_type": "display_data"
    },
    {
     "data": {
      "application/vnd.jupyter.widget-view+json": {
       "model_id": "5c4e55e2f8d748b29134f9a2148cf3df",
       "version_major": 2,
       "version_minor": 0
      },
      "text/plain": [
       "  0%|          | 0/9 [00:00<?, ?it/s]"
      ]
     },
     "metadata": {},
     "output_type": "display_data"
    },
    {
     "data": {
      "application/vnd.jupyter.widget-view+json": {
       "model_id": "42e6d9b256d144758bc72a33d840e128",
       "version_major": 2,
       "version_minor": 0
      },
      "text/plain": [
       "  0%|          | 0/9 [00:00<?, ?it/s]"
      ]
     },
     "metadata": {},
     "output_type": "display_data"
    },
    {
     "name": "stderr",
     "output_type": "stream",
     "text": [
      "/home/fdf/miniconda3/envs/sentometrics/lib/python3.9/site-packages/sklearn/linear_model/_logistic.py:814: ConvergenceWarning: lbfgs failed to converge (status=1):\n",
      "STOP: TOTAL NO. of ITERATIONS REACHED LIMIT.\n",
      "\n",
      "Increase the number of iterations (max_iter) or scale the data as shown in:\n",
      "    https://scikit-learn.org/stable/modules/preprocessing.html\n",
      "Please also refer to the documentation for alternative solver options:\n",
      "    https://scikit-learn.org/stable/modules/linear_model.html#logistic-regression\n",
      "  n_iter_i = _check_optimize_result(\n"
     ]
    },
    {
     "data": {
      "application/vnd.jupyter.widget-view+json": {
       "model_id": "b0e6793d0acc464d8daa1117032064cd",
       "version_major": 2,
       "version_minor": 0
      },
      "text/plain": [
       "  0%|          | 0/9 [00:00<?, ?it/s]"
      ]
     },
     "metadata": {},
     "output_type": "display_data"
    },
    {
     "data": {
      "application/vnd.jupyter.widget-view+json": {
       "model_id": "6785f9c4ce8d4fb988d9a3af59463ce3",
       "version_major": 2,
       "version_minor": 0
      },
      "text/plain": [
       "  0%|          | 0/9 [00:00<?, ?it/s]"
      ]
     },
     "metadata": {},
     "output_type": "display_data"
    },
    {
     "name": "stderr",
     "output_type": "stream",
     "text": [
      "/home/fdf/miniconda3/envs/sentometrics/lib/python3.9/site-packages/sklearn/linear_model/_logistic.py:814: ConvergenceWarning: lbfgs failed to converge (status=1):\n",
      "STOP: TOTAL NO. of ITERATIONS REACHED LIMIT.\n",
      "\n",
      "Increase the number of iterations (max_iter) or scale the data as shown in:\n",
      "    https://scikit-learn.org/stable/modules/preprocessing.html\n",
      "Please also refer to the documentation for alternative solver options:\n",
      "    https://scikit-learn.org/stable/modules/linear_model.html#logistic-regression\n",
      "  n_iter_i = _check_optimize_result(\n",
      "/home/fdf/miniconda3/envs/sentometrics/lib/python3.9/site-packages/sklearn/linear_model/_logistic.py:814: ConvergenceWarning: lbfgs failed to converge (status=1):\n",
      "STOP: TOTAL NO. of ITERATIONS REACHED LIMIT.\n",
      "\n",
      "Increase the number of iterations (max_iter) or scale the data as shown in:\n",
      "    https://scikit-learn.org/stable/modules/preprocessing.html\n",
      "Please also refer to the documentation for alternative solver options:\n",
      "    https://scikit-learn.org/stable/modules/linear_model.html#logistic-regression\n",
      "  n_iter_i = _check_optimize_result(\n"
     ]
    },
    {
     "data": {
      "application/vnd.jupyter.widget-view+json": {
       "model_id": "9a893383583a4528950469d0fd4afcf0",
       "version_major": 2,
       "version_minor": 0
      },
      "text/plain": [
       "  0%|          | 0/9 [00:00<?, ?it/s]"
      ]
     },
     "metadata": {},
     "output_type": "display_data"
    },
    {
     "name": "stderr",
     "output_type": "stream",
     "text": [
      "/home/fdf/miniconda3/envs/sentometrics/lib/python3.9/site-packages/sklearn/linear_model/_logistic.py:814: ConvergenceWarning: lbfgs failed to converge (status=1):\n",
      "STOP: TOTAL NO. of ITERATIONS REACHED LIMIT.\n",
      "\n",
      "Increase the number of iterations (max_iter) or scale the data as shown in:\n",
      "    https://scikit-learn.org/stable/modules/preprocessing.html\n",
      "Please also refer to the documentation for alternative solver options:\n",
      "    https://scikit-learn.org/stable/modules/linear_model.html#logistic-regression\n",
      "  n_iter_i = _check_optimize_result(\n"
     ]
    }
   ],
   "source": [
    "from sklearn.model_selection import StratifiedKFold\n",
    "\n",
    "\n",
    "skf = StratifiedKFold(n_splits=5, random_state=None, shuffle=False)\n",
    "\n",
    "\n",
    "from lib.creditcard_fraud_dataset import get_X_from_df, get_Y_from_df\n",
    "\n",
    "df_results = []\n",
    "\n",
    "for train_index, val_index in tqdm(skf.split(get_X_from_df(df_trainval), get_Y_from_df(df_trainval))):\n",
    "    df_train = df_trainval.iloc[train_index]\n",
    "    df_val = df_trainval.iloc[val_index]\n",
    "\n",
    "    for method_name, method_dict in tqdm(methods.items(), leave=False):\n",
    "        clf = train_clf(\n",
    "            df_train,\n",
    "            **method_dict['train'](df_train)\n",
    "        )\n",
    "        eval_metrics = evaluate_clf(\n",
    "            clf,\n",
    "            df_val,\n",
    "            **method_dict['test'](df_val)\n",
    "        )\n",
    "        df_results.append({\n",
    "            'method': method_name,\n",
    "            **eval_metrics\n",
    "        })"
   ]
  },
  {
   "cell_type": "code",
   "execution_count": 10,
   "id": "9bd3939e",
   "metadata": {},
   "outputs": [],
   "source": [
    "import pandas as pd\n",
    "\n",
    "df_results = pd.DataFrame(df_results)"
   ]
  },
  {
   "cell_type": "code",
   "execution_count": 20,
   "id": "7c90acec",
   "metadata": {},
   "outputs": [],
   "source": [
    "df_results['recall_cs'] = df_results['tp_amount'] / (df_results['tp_amount'] + df_results['fn_amount'])\n",
    "df_results['precision_cs'] = df_results['tp_amount'] / (df_results['tp_amount'] + df_results['fp_amount'])\n",
    "df_results['f1_cs'] = 2 * df_results['precision_cs'] * df_results['recall_cs'] / (df_results['precision_cs'] + df_results['recall_cs'])"
   ]
  },
  {
   "cell_type": "code",
   "execution_count": 28,
   "id": "c31a2151",
   "metadata": {},
   "outputs": [
    {
     "data": {
      "text/html": [
       "<div>\n",
       "<style scoped>\n",
       "    .dataframe tbody tr th:only-of-type {\n",
       "        vertical-align: middle;\n",
       "    }\n",
       "\n",
       "    .dataframe tbody tr th {\n",
       "        vertical-align: top;\n",
       "    }\n",
       "\n",
       "    .dataframe thead th {\n",
       "        text-align: right;\n",
       "    }\n",
       "</style>\n",
       "<table border=\"1\" class=\"dataframe\">\n",
       "  <thead>\n",
       "    <tr style=\"text-align: right;\">\n",
       "      <th></th>\n",
       "      <th>precision</th>\n",
       "      <th>recall</th>\n",
       "      <th>ap</th>\n",
       "      <th>tp_amount</th>\n",
       "      <th>fp_amount</th>\n",
       "      <th>fn_amount</th>\n",
       "      <th>recall_amount</th>\n",
       "      <th>precision_amount</th>\n",
       "      <th>recall_cs</th>\n",
       "      <th>precision_cs</th>\n",
       "      <th>f1_cs</th>\n",
       "    </tr>\n",
       "    <tr>\n",
       "      <th>method</th>\n",
       "      <th></th>\n",
       "      <th></th>\n",
       "      <th></th>\n",
       "      <th></th>\n",
       "      <th></th>\n",
       "      <th></th>\n",
       "      <th></th>\n",
       "      <th></th>\n",
       "      <th></th>\n",
       "      <th></th>\n",
       "      <th></th>\n",
       "    </tr>\n",
       "  </thead>\n",
       "  <tbody>\n",
       "    <tr>\n",
       "      <th>Class Unbalanced, Sample Weighted</th>\n",
       "      <td>0.266104</td>\n",
       "      <td>0.845388</td>\n",
       "      <td>0.639488</td>\n",
       "      <td>4602.572</td>\n",
       "      <td>232.4</td>\n",
       "      <td>1171.708</td>\n",
       "      <td>0.792877</td>\n",
       "      <td>0.949840</td>\n",
       "      <td>0.792877</td>\n",
       "      <td>0.949840</td>\n",
       "      <td>0.863752</td>\n",
       "    </tr>\n",
       "    <tr>\n",
       "      <th>CS thresh, Class Balanced</th>\n",
       "      <td>0.288914</td>\n",
       "      <td>0.687429</td>\n",
       "      <td>0.745817</td>\n",
       "      <td>4331.288</td>\n",
       "      <td>166.0</td>\n",
       "      <td>1442.992</td>\n",
       "      <td>0.761995</td>\n",
       "      <td>0.961824</td>\n",
       "      <td>0.761995</td>\n",
       "      <td>0.961824</td>\n",
       "      <td>0.843481</td>\n",
       "    </tr>\n",
       "    <tr>\n",
       "      <th>CS thresh, Class Unbalanced</th>\n",
       "      <td>0.288914</td>\n",
       "      <td>0.687429</td>\n",
       "      <td>0.745817</td>\n",
       "      <td>4331.288</td>\n",
       "      <td>166.0</td>\n",
       "      <td>1442.992</td>\n",
       "      <td>0.761995</td>\n",
       "      <td>0.961824</td>\n",
       "      <td>0.761995</td>\n",
       "      <td>0.961824</td>\n",
       "      <td>0.843481</td>\n",
       "    </tr>\n",
       "    <tr>\n",
       "      <th>Cost-sensitive sampling</th>\n",
       "      <td>0.379399</td>\n",
       "      <td>0.845388</td>\n",
       "      <td>0.678133</td>\n",
       "      <td>4177.598</td>\n",
       "      <td>147.2</td>\n",
       "      <td>1596.682</td>\n",
       "      <td>0.739424</td>\n",
       "      <td>0.965602</td>\n",
       "      <td>0.739424</td>\n",
       "      <td>0.965602</td>\n",
       "      <td>0.834276</td>\n",
       "    </tr>\n",
       "    <tr>\n",
       "      <th>Class Balanced, Sample Unweighted</th>\n",
       "      <td>0.065880</td>\n",
       "      <td>0.914367</td>\n",
       "      <td>0.721101</td>\n",
       "      <td>4876.886</td>\n",
       "      <td>1278.8</td>\n",
       "      <td>897.394</td>\n",
       "      <td>0.864755</td>\n",
       "      <td>0.790601</td>\n",
       "      <td>0.864755</td>\n",
       "      <td>0.790601</td>\n",
       "      <td>0.821217</td>\n",
       "    </tr>\n",
       "    <tr>\n",
       "      <th>Subsampled negatives, Sample Unweighted</th>\n",
       "      <td>0.037531</td>\n",
       "      <td>0.898122</td>\n",
       "      <td>0.429783</td>\n",
       "      <td>4734.536</td>\n",
       "      <td>2328.0</td>\n",
       "      <td>1039.744</td>\n",
       "      <td>0.838415</td>\n",
       "      <td>0.672037</td>\n",
       "      <td>0.838415</td>\n",
       "      <td>0.672037</td>\n",
       "      <td>0.739977</td>\n",
       "    </tr>\n",
       "    <tr>\n",
       "      <th>Class Unbalanced, Sample Unweighted</th>\n",
       "      <td>0.871907</td>\n",
       "      <td>0.605959</td>\n",
       "      <td>0.745817</td>\n",
       "      <td>2501.660</td>\n",
       "      <td>9.2</td>\n",
       "      <td>3272.620</td>\n",
       "      <td>0.460141</td>\n",
       "      <td>0.996419</td>\n",
       "      <td>0.460141</td>\n",
       "      <td>0.996419</td>\n",
       "      <td>0.615133</td>\n",
       "    </tr>\n",
       "    <tr>\n",
       "      <th>Class Balanced, Sample Weighted</th>\n",
       "      <td>0.014334</td>\n",
       "      <td>0.934694</td>\n",
       "      <td>0.678705</td>\n",
       "      <td>5466.588</td>\n",
       "      <td>7135.2</td>\n",
       "      <td>307.692</td>\n",
       "      <td>0.948490</td>\n",
       "      <td>0.447500</td>\n",
       "      <td>0.948490</td>\n",
       "      <td>0.447500</td>\n",
       "      <td>0.597422</td>\n",
       "    </tr>\n",
       "    <tr>\n",
       "      <th>Subsampled negatives, Sample Weighted</th>\n",
       "      <td>0.011559</td>\n",
       "      <td>0.934694</td>\n",
       "      <td>0.347872</td>\n",
       "      <td>5502.934</td>\n",
       "      <td>8242.0</td>\n",
       "      <td>271.346</td>\n",
       "      <td>0.958811</td>\n",
       "      <td>0.405895</td>\n",
       "      <td>0.958811</td>\n",
       "      <td>0.405895</td>\n",
       "      <td>0.564314</td>\n",
       "    </tr>\n",
       "  </tbody>\n",
       "</table>\n",
       "</div>"
      ],
      "text/plain": [
       "                                         precision    recall        ap  \\\n",
       "method                                                                   \n",
       "Class Unbalanced, Sample Weighted         0.266104  0.845388  0.639488   \n",
       "CS thresh, Class Balanced                 0.288914  0.687429  0.745817   \n",
       "CS thresh, Class Unbalanced               0.288914  0.687429  0.745817   \n",
       "Cost-sensitive sampling                   0.379399  0.845388  0.678133   \n",
       "Class Balanced, Sample Unweighted         0.065880  0.914367  0.721101   \n",
       "Subsampled negatives, Sample Unweighted   0.037531  0.898122  0.429783   \n",
       "Class Unbalanced, Sample Unweighted       0.871907  0.605959  0.745817   \n",
       "Class Balanced, Sample Weighted           0.014334  0.934694  0.678705   \n",
       "Subsampled negatives, Sample Weighted     0.011559  0.934694  0.347872   \n",
       "\n",
       "                                         tp_amount  fp_amount  fn_amount  \\\n",
       "method                                                                     \n",
       "Class Unbalanced, Sample Weighted         4602.572      232.4   1171.708   \n",
       "CS thresh, Class Balanced                 4331.288      166.0   1442.992   \n",
       "CS thresh, Class Unbalanced               4331.288      166.0   1442.992   \n",
       "Cost-sensitive sampling                   4177.598      147.2   1596.682   \n",
       "Class Balanced, Sample Unweighted         4876.886     1278.8    897.394   \n",
       "Subsampled negatives, Sample Unweighted   4734.536     2328.0   1039.744   \n",
       "Class Unbalanced, Sample Unweighted       2501.660        9.2   3272.620   \n",
       "Class Balanced, Sample Weighted           5466.588     7135.2    307.692   \n",
       "Subsampled negatives, Sample Weighted     5502.934     8242.0    271.346   \n",
       "\n",
       "                                         recall_amount  precision_amount  \\\n",
       "method                                                                     \n",
       "Class Unbalanced, Sample Weighted             0.792877          0.949840   \n",
       "CS thresh, Class Balanced                     0.761995          0.961824   \n",
       "CS thresh, Class Unbalanced                   0.761995          0.961824   \n",
       "Cost-sensitive sampling                       0.739424          0.965602   \n",
       "Class Balanced, Sample Unweighted             0.864755          0.790601   \n",
       "Subsampled negatives, Sample Unweighted       0.838415          0.672037   \n",
       "Class Unbalanced, Sample Unweighted           0.460141          0.996419   \n",
       "Class Balanced, Sample Weighted               0.948490          0.447500   \n",
       "Subsampled negatives, Sample Weighted         0.958811          0.405895   \n",
       "\n",
       "                                         recall_cs  precision_cs     f1_cs  \n",
       "method                                                                      \n",
       "Class Unbalanced, Sample Weighted         0.792877      0.949840  0.863752  \n",
       "CS thresh, Class Balanced                 0.761995      0.961824  0.843481  \n",
       "CS thresh, Class Unbalanced               0.761995      0.961824  0.843481  \n",
       "Cost-sensitive sampling                   0.739424      0.965602  0.834276  \n",
       "Class Balanced, Sample Unweighted         0.864755      0.790601  0.821217  \n",
       "Subsampled negatives, Sample Unweighted   0.838415      0.672037  0.739977  \n",
       "Class Unbalanced, Sample Unweighted       0.460141      0.996419  0.615133  \n",
       "Class Balanced, Sample Weighted           0.948490      0.447500  0.597422  \n",
       "Subsampled negatives, Sample Weighted     0.958811      0.405895  0.564314  "
      ]
     },
     "execution_count": 28,
     "metadata": {},
     "output_type": "execute_result"
    }
   ],
   "source": [
    "gb = df_results.groupby('method')\n",
    "\n",
    "gb.agg('mean').sort_values(by='f1_cs', ascending=False)"
   ]
  },
  {
   "cell_type": "code",
   "execution_count": null,
   "id": "829a0d15",
   "metadata": {},
   "outputs": [],
   "source": []
  }
 ],
 "metadata": {
  "kernelspec": {
   "display_name": "Python 3 (ipykernel)",
   "language": "python",
   "name": "python3"
  },
  "language_info": {
   "codemirror_mode": {
    "name": "ipython",
    "version": 3
   },
   "file_extension": ".py",
   "mimetype": "text/x-python",
   "name": "python",
   "nbconvert_exporter": "python",
   "pygments_lexer": "ipython3",
   "version": "3.9.7"
  }
 },
 "nbformat": 4,
 "nbformat_minor": 5
}
