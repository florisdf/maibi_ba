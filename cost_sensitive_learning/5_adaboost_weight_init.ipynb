{
 "cells": [
  {
   "cell_type": "code",
   "execution_count": 1,
   "id": "a75c5243-82a1-4932-b224-44f4e7a17212",
   "metadata": {},
   "outputs": [],
   "source": [
    "import pandas as pd\n",
    "import seaborn as sns\n",
    "from sklearn.ensemble import AdaBoostClassifier\n",
    "\n",
    "from lib.creditcard_fraud_dataset import get_train_test_dfs, X_COLS\n",
    "from lib.cs_eval import evaluate_pred"
   ]
  },
  {
   "cell_type": "markdown",
   "id": "f29e9f26",
   "metadata": {},
   "source": [
    "# 5. AdaBoost with cost-sensitive weight initialization\n",
    "\n",
    "AdaBoost is an ensemble of *weak* classifiers. Each of these weak classifiers is trained on a weighted version of the original dataset, where samples that are poorly classified by the ensemble of the previous classifiers are weighted more than others. For the initial classifier, all samples are weighted equally.\n",
    "\n",
    "An easy way to make the ensemble cost-sensitive is to use the **misclassification costs as initial sample weights**."
   ]
  },
  {
   "cell_type": "code",
   "execution_count": 2,
   "id": "e8ad7df2",
   "metadata": {},
   "outputs": [],
   "source": [
    "df_train, df_test = get_train_test_dfs()"
   ]
  },
  {
   "cell_type": "markdown",
   "id": "d8511579",
   "metadata": {},
   "source": [
    "## 5.1 Train\n",
    "\n",
    "To train an AdaBoost classifier with SciKit-Learn, we can use the [`AdaBoostClassifier` class](https://scikit-learn.org/stable/modules/generated/sklearn.ensemble.AdaBoostClassifier.html). By default, this creates an ensemble of 50 decision tree classifiers (see [here](https://scikit-learn.org/stable/modules/generated/sklearn.tree.DecisionTreeClassifier.html#sklearn.tree.DecisionTreeClassifier)) of depth 1.\n",
    "\n",
    "We will train two AdaBoost classifiers: one *without* sample weighting, and one *with* sample weighting."
   ]
  },
  {
   "cell_type": "code",
   "execution_count": 3,
   "id": "d3e49f81",
   "metadata": {},
   "outputs": [
    {
     "data": {
      "text/plain": [
       "AdaBoostClassifier()"
      ]
     },
     "execution_count": 3,
     "metadata": {},
     "output_type": "execute_result"
    }
   ],
   "source": [
    "X_train = df_train[X_COLS]\n",
    "y_train = df_train['Class']\n",
    "\n",
    "clf_ada_unweighted = AdaBoostClassifier()\n",
    "clf_ada_unweighted.fit(X_train, y_train)\n",
    "\n",
    "clf_ada_weighted = AdaBoostClassifier()\n",
    "clf_ada_weighted.fit(X_train, y_train, sample_weight=df_train['C_misclf'])"
   ]
  },
  {
   "cell_type": "markdown",
   "id": "cf751309",
   "metadata": {},
   "source": [
    "## 5.2 Evaluate"
   ]
  },
  {
   "cell_type": "code",
   "execution_count": 4,
   "id": "640d0522-0a0b-4629-b32e-42a6ee7bfc1c",
   "metadata": {
    "tags": []
   },
   "outputs": [],
   "source": [
    "X_test = df_test[X_COLS]\n",
    "y_test = df_test['Class']\n",
    "\n",
    "# Predictions with and without weighting\n",
    "y_pred_unweighted = clf_ada_unweighted.predict(X_test)\n",
    "y_pred_weighted = clf_ada_weighted.predict(X_test)\n",
    "\n",
    "# Get the transaction amounts\n",
    "amounts = df_test['Amount']\n",
    "\n",
    "# Compute metrics for each classifier\n",
    "eval_metrics_unweighted = evaluate_pred(y_test, y_pred_unweighted, amounts)\n",
    "eval_metrics_weighted   = evaluate_pred(y_test, y_pred_weighted,   amounts)"
   ]
  },
  {
   "cell_type": "code",
   "execution_count": 5,
   "id": "f8664530",
   "metadata": {},
   "outputs": [],
   "source": [
    "df = pd.DataFrame([\n",
    "    {\n",
    "        'Method': 'AdaBoost Unweighted',\n",
    "        **eval_metrics_unweighted\n",
    "    },\n",
    "    {\n",
    "        'Method': 'AdaBoost, CS Weighted',\n",
    "        **eval_metrics_weighted\n",
    "    }\n",
    "])"
   ]
  },
  {
   "cell_type": "code",
   "execution_count": 6,
   "id": "ca9597e2",
   "metadata": {},
   "outputs": [
    {
     "data": {
      "text/html": [
       "<div>\n",
       "<style scoped>\n",
       "    .dataframe tbody tr th:only-of-type {\n",
       "        vertical-align: middle;\n",
       "    }\n",
       "\n",
       "    .dataframe tbody tr th {\n",
       "        vertical-align: top;\n",
       "    }\n",
       "\n",
       "    .dataframe thead th {\n",
       "        text-align: right;\n",
       "    }\n",
       "</style>\n",
       "<table border=\"1\" class=\"dataframe\">\n",
       "  <thead>\n",
       "    <tr style=\"text-align: right;\">\n",
       "      <th></th>\n",
       "      <th>Method</th>\n",
       "      <th>Cost Precision</th>\n",
       "      <th>Cost Recall</th>\n",
       "      <th>TP Amount</th>\n",
       "      <th>FP Amount</th>\n",
       "      <th>FN Amount</th>\n",
       "      <th>Net Recovered Amount</th>\n",
       "    </tr>\n",
       "  </thead>\n",
       "  <tbody>\n",
       "    <tr>\n",
       "      <th>0</th>\n",
       "      <td>AdaBoost Unweighted</td>\n",
       "      <td>0.996552</td>\n",
       "      <td>0.739843</td>\n",
       "      <td>23124.97</td>\n",
       "      <td>80.0</td>\n",
       "      <td>8131.60</td>\n",
       "      <td>14913.37</td>\n",
       "    </tr>\n",
       "    <tr>\n",
       "      <th>1</th>\n",
       "      <td>AdaBoost, CS Weighted</td>\n",
       "      <td>0.984734</td>\n",
       "      <td>0.829622</td>\n",
       "      <td>25931.15</td>\n",
       "      <td>402.0</td>\n",
       "      <td>5325.42</td>\n",
       "      <td>20203.73</td>\n",
       "    </tr>\n",
       "  </tbody>\n",
       "</table>\n",
       "</div>"
      ],
      "text/plain": [
       "                  Method  Cost Precision  Cost Recall  TP Amount  FP Amount  \\\n",
       "0    AdaBoost Unweighted        0.996552     0.739843   23124.97       80.0   \n",
       "1  AdaBoost, CS Weighted        0.984734     0.829622   25931.15      402.0   \n",
       "\n",
       "   FN Amount  Net Recovered Amount  \n",
       "0    8131.60              14913.37  \n",
       "1    5325.42              20203.73  "
      ]
     },
     "execution_count": 6,
     "metadata": {},
     "output_type": "execute_result"
    }
   ],
   "source": [
    "df"
   ]
  },
  {
   "cell_type": "code",
   "execution_count": 7,
   "id": "a18d52c8",
   "metadata": {},
   "outputs": [
    {
     "data": {
      "text/plain": [
       "<AxesSubplot:xlabel='Method', ylabel='Cost Recall'>"
      ]
     },
     "execution_count": 7,
     "metadata": {},
     "output_type": "execute_result"
    },
    {
     "data": {
      "image/png": "[encoded data removed]",
      "text/plain": [
       "<Figure size 640x480 with 1 Axes>"
      ]
     },
     "metadata": {},
     "output_type": "display_data"
    }
   ],
   "source": [
    "sns.barplot(data=df, x='Method', y='Cost Recall')"
   ]
  },
  {
   "cell_type": "code",
   "execution_count": 8,
   "id": "6e60fe07",
   "metadata": {},
   "outputs": [
    {
     "data": {
      "text/plain": [
       "<AxesSubplot:xlabel='Method', ylabel='Cost Precision'>"
      ]
     },
     "execution_count": 8,
     "metadata": {},
     "output_type": "execute_result"
    },
    {
     "data": {
      "image/png": "[encoded data removed]",
      "text/plain": [
       "<Figure size 640x480 with 1 Axes>"
      ]
     },
     "metadata": {},
     "output_type": "display_data"
    }
   ],
   "source": [
    "sns.barplot(data=df, x='Method', y='Cost Precision')"
   ]
  },
  {
   "cell_type": "code",
   "execution_count": null,
   "id": "ec12ab0c",
   "metadata": {},
   "outputs": [],
   "source": []
  }
 ],
 "metadata": {
  "kernelspec": {
   "display_name": "Python 3 (ipykernel)",
   "language": "python",
   "name": "python3"
  },
  "language_info": {
   "codemirror_mode": {
    "name": "ipython",
    "version": 3
   },
   "file_extension": ".py",
   "mimetype": "text/x-python",
   "name": "python",
   "nbconvert_exporter": "python",
   "pygments_lexer": "ipython3",
   "version": "3.10.6"
  }
 },
 "nbformat": 4,
 "nbformat_minor": 5
}
