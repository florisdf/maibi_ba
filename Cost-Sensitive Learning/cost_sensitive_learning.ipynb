{
 "cells": [
  {
   "cell_type": "markdown",
   "id": "67b4008e",
   "metadata": {},
   "source": [
    "Sources:\n",
    "- https://machinelearningmastery.com/cost-sensitive-learning-for-imbalanced-classification/\n",
    "- https://www.kaggle.com/code/janiobachmann/credit-fraud-dealing-with-imbalanced-datasets"
   ]
  },
  {
   "cell_type": "code",
   "execution_count": 1,
   "id": "ea71c96e",
   "metadata": {},
   "outputs": [],
   "source": [
    "import pandas as pd\n",
    "\n",
    "df = pd.read_csv('data/creditcard_fraud_dataset.csv')"
   ]
  },
  {
   "cell_type": "code",
   "execution_count": 2,
   "id": "d8c206cb",
   "metadata": {},
   "outputs": [],
   "source": [
    "import seaborn as sns\n",
    "import matplotlib.pyplot as plt"
   ]
  },
  {
   "cell_type": "code",
   "execution_count": 3,
   "id": "0abe8f98",
   "metadata": {},
   "outputs": [
    {
     "data": {
      "text/plain": [
       "Text(0.5, 1.0, 'Class Distributions \\n (0: No Fraud || 1: Fraud)')"
      ]
     },
     "execution_count": 3,
     "metadata": {},
     "output_type": "execute_result"
    },
    {
     "data": {
      "image/png": "[encoded data removed]",
      "text/plain": [
       "<Figure size 432x288 with 1 Axes>"
      ]
     },
     "metadata": {
      "needs_background": "light"
     },
     "output_type": "display_data"
    }
   ],
   "source": [
    "sns.countplot(x='Class', data=df)\n",
    "plt.title('Class Distributions \\n (0: No Fraud || 1: Fraud)', fontsize=14)"
   ]
  },
  {
   "cell_type": "markdown",
   "id": "4c969bb5",
   "metadata": {},
   "source": [
    "## Data preprocessing"
   ]
  },
  {
   "cell_type": "code",
   "execution_count": 4,
   "id": "0e485b92",
   "metadata": {},
   "outputs": [],
   "source": [
    "from sklearn.preprocessing import StandardScaler, RobustScaler\n",
    "\n",
    "# RobustScaler is less prone to outliers.\n",
    "\n",
    "std_scaler = StandardScaler()\n",
    "rob_scaler = RobustScaler()\n",
    "\n",
    "df['scaled_amount'] = rob_scaler.fit_transform(df['Amount'].values.reshape(-1,1))\n",
    "df['scaled_time'] = rob_scaler.fit_transform(df['Time'].values.reshape(-1,1))"
   ]
  },
  {
   "cell_type": "markdown",
   "id": "6e07d353",
   "metadata": {},
   "source": [
    "## Cost matrix\n",
    "\n",
    "Remember the **confusion matrix** of a binary classifier:\n",
    "\n",
    "|                    | Actual Negative | Actual Positive |\n",
    "|--------------------|-----------------|-----------------|\n",
    "| Predicted Negative | TN              | FN              |\n",
    "| Predicted Positive | FP              | TP              |\n",
    "\n",
    "\n",
    "In many applications, the cost of false positive predictions is not the same as the cost of false negative predictions. We can try to assign a cost to each cell of the confusion matrix. As such, we obtain the **cost matrix**:\n",
    "\n",
    "|                    | Actual Negative | Actual Positive |\n",
    "|--------------------|-----------------|-----------------|\n",
    "| Predicted Negative | $C_{TN}$        | $C_{FN}$        |\n",
    "| Predicted Positive | $C_{FP}$        | $C_{TP}$        |\n",
    "\n",
    "Often, $C_{TN} = C_{TP} = 0$, so this reduces to:\n",
    "\n",
    "|                    | Actual Negative | Actual Positive |\n",
    "|--------------------|-----------------|-----------------|\n",
    "| Predicted Negative | $0$             | $C_{FN}$        |\n",
    "| Predicted Positive | $C_{FP}$        | $0$             |\n",
    "\n",
    "We can define the total cost of a classifier using this framework as the **cost-weighted sum of the False Negatives and False Positives**:\n",
    "\n",
    "$$\n",
    "\\text{Total Cost} = C_{FN} \\cdot \\text{FN} + C_{FP} \\cdot \\text{FP}\n",
    "$$\n",
    "\n",
    "This is the value that we seek to minimize in cost-sensitive learning."
   ]
  },
  {
   "cell_type": "code",
   "execution_count": 5,
   "id": "0850a278",
   "metadata": {},
   "outputs": [],
   "source": [
    "C_FP = 5\n",
    "df['C_FP'] = C_FP\n",
    "df['C_FN'] = df['Amount']"
   ]
  },
  {
   "cell_type": "code",
   "execution_count": 6,
   "id": "e9f40bbf",
   "metadata": {},
   "outputs": [],
   "source": [
    "from sklearn.model_selection import train_test_split\n",
    "\n",
    "X = df[[*[f'V{i}' for i in range(1, 29)], 'scaled_amount', 'scaled_time']]\n",
    "y = df['Class']\n",
    "\n",
    "X_train, X_test, Y_train, Y_test = train_test_split(X, y, test_size=0.5,\n",
    "                                                    random_state=42)\n",
    "\n",
    "df_train = df.loc[X_train.index]\n",
    "df_test = df.loc[X_test.index]"
   ]
  },
  {
   "cell_type": "code",
   "execution_count": 7,
   "id": "56f062f8",
   "metadata": {},
   "outputs": [],
   "source": [
    "import numpy as np\n",
    "\n",
    "one_hot_classes = np.zeros((len(Y_train), 2))\n",
    "one_hot_classes[np.arange(len(Y_train)), Y_train.values] = 1\n",
    "\n",
    "costs = df_train[['C_FP', 'C_FN']].values\n",
    "sample_weight = np.multiply(costs, one_hot_classes).sum(axis=1)"
   ]
  },
  {
   "cell_type": "code",
   "execution_count": 8,
   "id": "a33c1f17",
   "metadata": {},
   "outputs": [
    {
     "name": "stderr",
     "output_type": "stream",
     "text": [
      "100%|██████████████████████████████████████████████████████████████████████████████████████████████████████████████████████████████████████████████████████████████████████████████████████████████████| 4/4 [00:13<00:00,  3.48s/it]\n"
     ]
    }
   ],
   "source": [
    "from sklearn.linear_model import LogisticRegression\n",
    "from itertools import product\n",
    "from tqdm import tqdm\n",
    "\n",
    "MAX_ITER = 200\n",
    "RANDOM_STATE = 42\n",
    "\n",
    "clfs = {}\n",
    "\n",
    "for cw, sw in tqdm(list(product(['balanced', None],\n",
    "                                [sample_weight, None]))):\n",
    "    name = (\n",
    "        f\"Class {'un' if cw is None else ''}balanced, \"\n",
    "        f\"Sample {'un' if sw is None else ''}weighted\"\n",
    "    )\n",
    "    clfs[name] = LogisticRegression(\n",
    "        class_weight=cw,\n",
    "        max_iter=MAX_ITER,\n",
    "        random_state=RANDOM_STATE,\n",
    "    ).fit(\n",
    "        X_train,\n",
    "        Y_train,\n",
    "        sample_weight=sw\n",
    "    )"
   ]
  },
  {
   "cell_type": "markdown",
   "id": "99e5497f",
   "metadata": {},
   "source": [
    "# Evaluation\n",
    "\n",
    "We compute the percentage of the sum of the amounts of all fraudulent transactions that the model saved by correctly detecting fraud."
   ]
  },
  {
   "cell_type": "code",
   "execution_count": 9,
   "id": "ec7953f9",
   "metadata": {},
   "outputs": [],
   "source": [
    "def eval_fraud_perc(amounts, y_true, y_pred):\n",
    "    total_fraud = (amounts * y_true).sum()\n",
    "    total_tp_fraud = (amounts * y_true * y_pred).sum()\n",
    "    return total_tp_fraud, total_fraud, total_tp_fraud / total_fraud"
   ]
  },
  {
   "cell_type": "code",
   "execution_count": 10,
   "id": "9e4adc06",
   "metadata": {
    "scrolled": true
   },
   "outputs": [],
   "source": [
    "from sklearn.metrics import precision_score, recall_score\n",
    "\n",
    "\n",
    "def evaluate_y_pred(y_pred):\n",
    "    y_true = df_test['Class']\n",
    "    amounts = df_test['Amount']\n",
    "    total_tp_fraud, total_fraud, tot_fraud_perc = eval_fraud_perc(amounts, y_true, y_pred)\n",
    "    tps = (y_true * y_pred).sum()\n",
    "    fps = y_pred.sum() - tps\n",
    "\n",
    "    p = precision_score(y_true, y_pred)\n",
    "    r = recall_score(y_true, y_pred)\n",
    "\n",
    "    fp_loss = C_FP*fps\n",
    "    net_loss = fp_loss + total_fraud - total_tp_fraud\n",
    "\n",
    "    print('-'*100)\n",
    "    print(f'Precision {p*100:.2f}%')\n",
    "    print(f'Recall {r*100:.2f}%')\n",
    "    print()\n",
    "    print(f'€{total_tp_fraud:,.2f} of €{total_fraud:,.2f} fraudulent transactions detected ({tot_fraud_perc*100:.2f}%)')\n",
    "    print(f'€{fp_loss:,.2f} cost due to {fps:,} transactions erroneously marked as fraudulent')\n",
    "    print(f'€{net_loss:,.2f} net loss')\n",
    "    print('-'*100)\n",
    "    print()\n",
    "\n",
    "\n",
    "def evaluate_clf_preds(clf_preds):\n",
    "    for name, y_pred in clf_preds.items():\n",
    "        print('-'*100)\n",
    "        print(f'** {name.title()} **')\n",
    "        evaluate_y_pred(y_pred)"
   ]
  },
  {
   "cell_type": "code",
   "execution_count": 11,
   "id": "4b149209",
   "metadata": {},
   "outputs": [],
   "source": [
    "clf_preds = {\n",
    "    name: clf.predict(\n",
    "        X_test\n",
    "    )\n",
    "    for name, clf in clfs.items()\n",
    "}"
   ]
  },
  {
   "cell_type": "code",
   "execution_count": 12,
   "id": "839c5695",
   "metadata": {},
   "outputs": [
    {
     "name": "stdout",
     "output_type": "stream",
     "text": [
      "----------------------------------------------------------------------------------------------------\n",
      "** Class Balanced, Sample Weighted **\n",
      "----------------------------------------------------------------------------------------------------\n",
      "Precision 1.43%\n",
      "Recall 92.68%\n",
      "\n",
      "€30,249.12 of €31,256.57 fraudulent transactions detected (96.78%)\n",
      "€78,730.00 cost due to 15,746 transactions erroneously marked as fraudulent\n",
      "€79,737.45 net loss\n",
      "----------------------------------------------------------------------------------------------------\n",
      "\n",
      "----------------------------------------------------------------------------------------------------\n",
      "** Class Balanced, Sample Unweighted **\n",
      "----------------------------------------------------------------------------------------------------\n",
      "Precision 6.42%\n",
      "Recall 88.21%\n",
      "\n",
      "€27,675.81 of €31,256.57 fraudulent transactions detected (88.54%)\n",
      "€15,820.00 cost due to 3,164 transactions erroneously marked as fraudulent\n",
      "€19,400.76 net loss\n",
      "----------------------------------------------------------------------------------------------------\n",
      "\n",
      "----------------------------------------------------------------------------------------------------\n",
      "** Class Unbalanced, Sample Weighted **\n",
      "----------------------------------------------------------------------------------------------------\n",
      "Precision 47.13%\n",
      "Recall 80.08%\n",
      "\n",
      "€24,107.71 of €31,256.57 fraudulent transactions detected (77.13%)\n",
      "€1,105.00 cost due to 221 transactions erroneously marked as fraudulent\n",
      "€8,253.86 net loss\n",
      "----------------------------------------------------------------------------------------------------\n",
      "\n",
      "----------------------------------------------------------------------------------------------------\n",
      "** Class Unbalanced, Sample Unweighted **\n",
      "----------------------------------------------------------------------------------------------------\n",
      "Precision 89.29%\n",
      "Recall 60.98%\n",
      "\n",
      "€16,075.45 of €31,256.57 fraudulent transactions detected (51.43%)\n",
      "€90.00 cost due to 18 transactions erroneously marked as fraudulent\n",
      "€15,271.12 net loss\n",
      "----------------------------------------------------------------------------------------------------\n",
      "\n"
     ]
    }
   ],
   "source": [
    "evaluate_clf_preds(clf_preds)"
   ]
  },
  {
   "cell_type": "markdown",
   "id": "7b726249",
   "metadata": {},
   "source": [
    "# Balance dataset by subsampling"
   ]
  },
  {
   "cell_type": "code",
   "execution_count": 13,
   "id": "894b73b9",
   "metadata": {},
   "outputs": [],
   "source": [
    "neg_mask = Y_train == 0\n",
    "pos_mask = Y_train == 1\n",
    "\n",
    "n_pos = pos_mask.sum()\n",
    "neg_idxs = df_train[neg_mask].sample(n=n_pos, random_state=RANDOM_STATE).index\n",
    "pos_idxs = df_train[pos_mask].index"
   ]
  },
  {
   "cell_type": "code",
   "execution_count": 14,
   "id": "e8877d17",
   "metadata": {},
   "outputs": [],
   "source": [
    "X_train_sub = pd.concat([X_train.loc[neg_idxs],\n",
    "                         X_train.loc[pos_idxs]])\n",
    "Y_train_sub = pd.concat([Y_train.loc[neg_idxs],\n",
    "                         Y_train.loc[pos_idxs]])\n",
    "df_train_sub = pd.concat([df_train.loc[neg_idxs],\n",
    "                          df_train.loc[pos_idxs]])"
   ]
  },
  {
   "cell_type": "code",
   "execution_count": 15,
   "id": "35d0d680",
   "metadata": {},
   "outputs": [],
   "source": [
    "one_hot_classes_sub = np.zeros((len(Y_train_sub), 2))\n",
    "one_hot_classes_sub[\n",
    "    np.arange(len(Y_train_sub)),\n",
    "    Y_train_sub.values\n",
    "] = 1\n",
    "costs_sub = df_train_sub[['C_FP', 'C_FN']].values\n",
    "sample_weight_sub = np.multiply(costs_sub, one_hot_classes_sub).sum(axis=1)"
   ]
  },
  {
   "cell_type": "code",
   "execution_count": 16,
   "id": "a45c1dd4",
   "metadata": {},
   "outputs": [
    {
     "name": "stderr",
     "output_type": "stream",
     "text": [
      "100%|██████████████████████████████████████████████████████████████████████████████████████████████████████████████████████████████████████████████████████████████████████████████████████████████████| 2/2 [00:00<00:00, 15.19it/s]\n"
     ]
    }
   ],
   "source": [
    "clfs_sub = {}\n",
    "\n",
    "for sw in tqdm([sample_weight_sub, None]):\n",
    "    name = (\n",
    "        f\"Subsampled, \"\n",
    "        f\"Sample {'un' if sw is None else ''}weighted\"\n",
    "    )\n",
    "    clfs_sub[name] = LogisticRegression(\n",
    "        max_iter=MAX_ITER,\n",
    "        random_state=RANDOM_STATE,\n",
    "    ).fit(\n",
    "        X_train_sub,\n",
    "        Y_train_sub,\n",
    "        sample_weight=sw\n",
    "    )"
   ]
  },
  {
   "cell_type": "code",
   "execution_count": 17,
   "id": "56d13195",
   "metadata": {},
   "outputs": [],
   "source": [
    "clf_preds_sub = {\n",
    "    name: clf.predict(\n",
    "        X_test\n",
    "    )\n",
    "    for name, clf in clfs_sub.items()\n",
    "}"
   ]
  },
  {
   "cell_type": "code",
   "execution_count": 18,
   "id": "bfff654c",
   "metadata": {},
   "outputs": [
    {
     "name": "stdout",
     "output_type": "stream",
     "text": [
      "----------------------------------------------------------------------------------------------------\n",
      "** Subsampled, Sample Weighted **\n",
      "----------------------------------------------------------------------------------------------------\n",
      "Precision 1.18%\n",
      "Recall 92.68%\n",
      "\n",
      "€29,945.13 of €31,256.57 fraudulent transactions detected (95.80%)\n",
      "€95,275.00 cost due to 19,055 transactions erroneously marked as fraudulent\n",
      "€96,586.44 net loss\n",
      "----------------------------------------------------------------------------------------------------\n",
      "\n",
      "----------------------------------------------------------------------------------------------------\n",
      "** Subsampled, Sample Unweighted **\n",
      "----------------------------------------------------------------------------------------------------\n",
      "Precision 4.18%\n",
      "Recall 90.24%\n",
      "\n",
      "€28,685.72 of €31,256.57 fraudulent transactions detected (91.78%)\n",
      "€25,440.00 cost due to 5,088 transactions erroneously marked as fraudulent\n",
      "€28,010.85 net loss\n",
      "----------------------------------------------------------------------------------------------------\n",
      "\n"
     ]
    }
   ],
   "source": [
    "evaluate_clf_preds(clf_preds_sub)"
   ]
  },
  {
   "cell_type": "markdown",
   "id": "c81fa501",
   "metadata": {},
   "source": [
    "# Using cost-sensitive threshold\n",
    "\n",
    "Only classify $P_{+}$ as positive if\n",
    "\n",
    "$$\n",
    "P_{+} > \\frac{C_{FP}}{C_{FP} + C_{FN}}\n",
    "$$\n",
    "\n",
    "Test out with balanced and unbalanced classes."
   ]
  },
  {
   "cell_type": "code",
   "execution_count": null,
   "id": "2abbcd2f",
   "metadata": {},
   "outputs": [],
   "source": []
  },
  {
   "cell_type": "markdown",
   "id": "2afd9b32",
   "metadata": {},
   "source": [
    "# Using cost-sensitive sampling\n",
    "\n",
    "Resample data such that the positive-negative ratio is equal to:\n",
    "\n",
    "$$\n",
    "r_{cs} = \\frac{|N^+|}{|N^-|}\\cdot\\frac{C_{FN}}{C_{FP}},\n",
    "$$\n",
    "\n",
    "with $|N^+|$ and $|N^-|$ the original number of positive, resp. negative, classes."
   ]
  },
  {
   "cell_type": "markdown",
   "id": "014b3591",
   "metadata": {},
   "source": [
    "# Oversampling with SMOTE"
   ]
  },
  {
   "cell_type": "code",
   "execution_count": null,
   "id": "5e901d92",
   "metadata": {},
   "outputs": [],
   "source": []
  }
 ],
 "metadata": {
  "kernelspec": {
   "display_name": "Python 3 (ipykernel)",
   "language": "python",
   "name": "python3"
  },
  "language_info": {
   "codemirror_mode": {
    "name": "ipython",
    "version": 3
   },
   "file_extension": ".py",
   "mimetype": "text/x-python",
   "name": "python",
   "nbconvert_exporter": "python",
   "pygments_lexer": "ipython3",
   "version": "3.9.7"
  }
 },
 "nbformat": 4,
 "nbformat_minor": 5
}
