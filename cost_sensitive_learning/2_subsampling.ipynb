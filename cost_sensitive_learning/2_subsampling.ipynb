{
 "cells": [
  {
   "cell_type": "markdown",
   "id": "8ea8c332",
   "metadata": {},
   "source": [
    "# Subsampling\n",
    "\n",
    "Another problem is that there are much more negatives than positives in the dataset (i.e. more non-fradulent than fraudulent transactions). By **using less negative samples**, we can balance the dataset again."
   ]
  },
  {
   "cell_type": "markdown",
   "id": "28f988e1",
   "metadata": {},
   "source": [
    "## Train\n",
    "\n",
    "> **Note**: you can download the dataset [here](https://www.kaggle.com/datasets/mlg-ulb/creditcardfraud). Create a new folder called `data` in the directory of this notebook and move the downloaded csv file into that folder. Next, rename the csv file to `creditcard_fraud_dataset.csv`."
   ]
  },
  {
   "cell_type": "code",
   "execution_count": 1,
   "id": "0f366b87",
   "metadata": {},
   "outputs": [],
   "source": [
    "from lib.creditcard_fraud_dataset import get_train_test_dfs\n",
    "\n",
    "df_train, df_test = get_train_test_dfs()"
   ]
  },
  {
   "cell_type": "markdown",
   "id": "752e6f0f",
   "metadata": {},
   "source": [
    "We will use **the same number of negatives and positives**. With the argument `n_neg`, we can set the number of negatives that will be chosen randomly for training."
   ]
  },
  {
   "cell_type": "code",
   "execution_count": 2,
   "id": "57b3d6b0",
   "metadata": {},
   "outputs": [],
   "source": [
    "# Since the positives have class 1, we can count\n",
    "# the number of positives by summing the \"Class\" column\n",
    "n_pos = df_train['Class'].sum()"
   ]
  },
  {
   "cell_type": "code",
   "execution_count": 3,
   "id": "9b58f568",
   "metadata": {},
   "outputs": [],
   "source": [
    "from lib.cs_train import train_clf\n",
    "\n",
    "\n",
    "clf_subsamp = train_clf(\n",
    "    df_train,\n",
    "    n_neg=n_pos\n",
    ")\n",
    "\n",
    "clf_no_subsamp = train_clf(\n",
    "    df_train,\n",
    "    n_neg=-1\n",
    ")"
   ]
  },
  {
   "cell_type": "markdown",
   "id": "6d54edaf",
   "metadata": {},
   "source": [
    "## Evaluate"
   ]
  },
  {
   "cell_type": "code",
   "execution_count": 4,
   "id": "d7782203",
   "metadata": {},
   "outputs": [],
   "source": [
    "from lib.cs_eval import evaluate_clf\n",
    "\n",
    "eval_metrics_subsamp = evaluate_clf(clf_subsamp, df_test)\n",
    "eval_metrics_no_subsamp = evaluate_clf(clf_no_subsamp, df_test)"
   ]
  },
  {
   "cell_type": "code",
   "execution_count": 5,
   "id": "d8c6f05b",
   "metadata": {},
   "outputs": [],
   "source": [
    "import pandas as pd\n",
    "\n",
    "df = pd.DataFrame([\n",
    "    {\n",
    "        'method': 'Subsampled',\n",
    "        **eval_metrics_subsamp\n",
    "    },\n",
    "    {\n",
    "        'method': 'Not Subsampled',\n",
    "        **eval_metrics_no_subsamp\n",
    "    }\n",
    "])"
   ]
  },
  {
   "cell_type": "code",
   "execution_count": 6,
   "id": "b0e7bf19",
   "metadata": {},
   "outputs": [
    {
     "data": {
      "text/html": [
       "<div>\n",
       "<style scoped>\n",
       "    .dataframe tbody tr th:only-of-type {\n",
       "        vertical-align: middle;\n",
       "    }\n",
       "\n",
       "    .dataframe tbody tr th {\n",
       "        vertical-align: top;\n",
       "    }\n",
       "\n",
       "    .dataframe thead th {\n",
       "        text-align: right;\n",
       "    }\n",
       "</style>\n",
       "<table border=\"1\" class=\"dataframe\">\n",
       "  <thead>\n",
       "    <tr style=\"text-align: right;\">\n",
       "      <th></th>\n",
       "      <th>method</th>\n",
       "      <th>cost_precision</th>\n",
       "      <th>cost_recall</th>\n",
       "      <th>tp_amount</th>\n",
       "      <th>fp_amount</th>\n",
       "      <th>fn_amount</th>\n",
       "      <th>net</th>\n",
       "    </tr>\n",
       "  </thead>\n",
       "  <tbody>\n",
       "    <tr>\n",
       "      <th>0</th>\n",
       "      <td>Subsampled</td>\n",
       "      <td>0.738148</td>\n",
       "      <td>0.917750</td>\n",
       "      <td>28685.72</td>\n",
       "      <td>10176.0</td>\n",
       "      <td>2570.85</td>\n",
       "      <td>15938.87</td>\n",
       "    </tr>\n",
       "    <tr>\n",
       "      <th>1</th>\n",
       "      <td>Not Subsampled</td>\n",
       "      <td>0.997766</td>\n",
       "      <td>0.514306</td>\n",
       "      <td>16075.45</td>\n",
       "      <td>36.0</td>\n",
       "      <td>15181.12</td>\n",
       "      <td>858.33</td>\n",
       "    </tr>\n",
       "  </tbody>\n",
       "</table>\n",
       "</div>"
      ],
      "text/plain": [
       "           method  cost_precision  cost_recall  tp_amount  fp_amount  \\\n",
       "0      Subsampled        0.738148     0.917750   28685.72    10176.0   \n",
       "1  Not Subsampled        0.997766     0.514306   16075.45       36.0   \n",
       "\n",
       "   fn_amount       net  \n",
       "0    2570.85  15938.87  \n",
       "1   15181.12    858.33  "
      ]
     },
     "execution_count": 6,
     "metadata": {},
     "output_type": "execute_result"
    }
   ],
   "source": [
    "df"
   ]
  },
  {
   "cell_type": "code",
   "execution_count": 7,
   "id": "163f9ac0",
   "metadata": {},
   "outputs": [
    {
     "data": {
      "text/plain": [
       "Text(0.5, 1.0, 'Cost Recall')"
      ]
     },
     "execution_count": 7,
     "metadata": {},
     "output_type": "execute_result"
    },
    {
     "data": {
      "image/png": "[encoded data removed]",
      "text/plain": [
       "<Figure size 432x288 with 1 Axes>"
      ]
     },
     "metadata": {
      "needs_background": "light"
     },
     "output_type": "display_data"
    }
   ],
   "source": [
    "import seaborn as sns\n",
    "import matplotlib.pyplot as plt\n",
    "\n",
    "sns.barplot(data=df, x='method', y='cost_recall')\n",
    "plt.title('Cost Recall')"
   ]
  },
  {
   "cell_type": "code",
   "execution_count": 8,
   "id": "00f82ce3",
   "metadata": {},
   "outputs": [
    {
     "data": {
      "text/plain": [
       "Text(0.5, 1.0, 'Cost Precision')"
      ]
     },
     "execution_count": 8,
     "metadata": {},
     "output_type": "execute_result"
    },
    {
     "data": {
      "image/png": "[encoded data removed]",
      "text/plain": [
       "<Figure size 432x288 with 1 Axes>"
      ]
     },
     "metadata": {
      "needs_background": "light"
     },
     "output_type": "display_data"
    }
   ],
   "source": [
    "sns.barplot(data=df, x='method', y='cost_precision')\n",
    "plt.title('Cost Precision')"
   ]
  },
  {
   "cell_type": "code",
   "execution_count": null,
   "id": "bde74028",
   "metadata": {},
   "outputs": [],
   "source": []
  }
 ],
 "metadata": {
  "kernelspec": {
   "display_name": "Python 3 (ipykernel)",
   "language": "python",
   "name": "python3"
  },
  "language_info": {
   "codemirror_mode": {
    "name": "ipython",
    "version": 3
   },
   "file_extension": ".py",
   "mimetype": "text/x-python",
   "name": "python",
   "nbconvert_exporter": "python",
   "pygments_lexer": "ipython3",
   "version": "3.9.7"
  }
 },
 "nbformat": 4,
 "nbformat_minor": 5
}
