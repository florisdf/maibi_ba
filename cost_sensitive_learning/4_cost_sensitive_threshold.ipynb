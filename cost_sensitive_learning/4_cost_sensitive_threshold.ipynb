{
 "cells": [
  {
   "cell_type": "markdown",
   "id": "49a4ae38",
   "metadata": {},
   "source": [
    "# Cost-sensitive threshold\n",
    "\n",
    "Instead of modifying the training procedure to make it cost-sensitive, we can also make the test-time procedure. More specifically, we can **modify the threshold** for a prediction to be classified as positive.\n",
    "\n",
    "We will classify a positive class probability $P_{+}$ as positive if and only if\n",
    "\n",
    "$$\n",
    "P_{+} > \\frac{C_{FP}}{C_{FP} + C_{FN}}\n",
    "$$\n",
    "\n",
    "As you can see, the higher the false negative cost, the *easier* we will classify a sample as positive."
   ]
  },
  {
   "cell_type": "markdown",
   "id": "e0c19e05",
   "metadata": {},
   "source": [
    "## Train\n",
    "\n",
    "> **Note**: you can download the dataset [here](https://www.kaggle.com/datasets/mlg-ulb/creditcardfraud). Create a new folder called `data` in the directory of this notebook and move the downloaded csv file into that folder. Next, rename the csv file to `creditcard_fraud_dataset.csv`."
   ]
  },
  {
   "cell_type": "code",
   "execution_count": 1,
   "id": "addcbe62",
   "metadata": {},
   "outputs": [],
   "source": [
    "from lib.creditcard_fraud_dataset import get_train_test_dfs\n",
    "\n",
    "df_train, df_test = get_train_test_dfs()"
   ]
  },
  {
   "cell_type": "code",
   "execution_count": 2,
   "id": "c5db3683",
   "metadata": {},
   "outputs": [],
   "source": [
    "def get_cs_threshs(df):\n",
    "    return df['C_FP'] / (df['C_FP'] + df['C_FN'])"
   ]
  },
  {
   "cell_type": "code",
   "execution_count": 3,
   "id": "45fa76c8",
   "metadata": {},
   "outputs": [],
   "source": [
    "from lib.cs_train import train_clf\n",
    "\n",
    "\n",
    "clf = train_clf(\n",
    "    df_train,\n",
    ")"
   ]
  },
  {
   "cell_type": "markdown",
   "id": "dcd794ba",
   "metadata": {},
   "source": [
    "## Evaluate"
   ]
  },
  {
   "cell_type": "code",
   "execution_count": 4,
   "id": "43ab005e",
   "metadata": {},
   "outputs": [],
   "source": [
    "from lib.cs_eval import evaluate_clf\n",
    "\n",
    "\n",
    "cs_thresh = get_cs_threshs(df_test)\n",
    "\n",
    "eval_metrics_cs_thresh = evaluate_clf(clf, df_test,\n",
    "                                      thresh=cs_thresh)\n",
    "eval_metrics_reg_thresh = evaluate_clf(clf, df_test,\n",
    "                                       thresh=0.5)"
   ]
  },
  {
   "cell_type": "code",
   "execution_count": 5,
   "id": "cf6a5731",
   "metadata": {},
   "outputs": [],
   "source": [
    "import pandas as pd\n",
    "\n",
    "df = pd.DataFrame([\n",
    "    {\n",
    "        'method': 'Cost-sensitive threshold',\n",
    "        **eval_metrics_cs_thresh\n",
    "    },\n",
    "    {\n",
    "        'method': 'Regular threshold (0.5)',\n",
    "        **eval_metrics_reg_thresh\n",
    "    }\n",
    "])"
   ]
  },
  {
   "cell_type": "code",
   "execution_count": 6,
   "id": "5b1e95b3",
   "metadata": {},
   "outputs": [
    {
     "data": {
      "text/html": [
       "<div>\n",
       "<style scoped>\n",
       "    .dataframe tbody tr th:only-of-type {\n",
       "        vertical-align: middle;\n",
       "    }\n",
       "\n",
       "    .dataframe tbody tr th {\n",
       "        vertical-align: top;\n",
       "    }\n",
       "\n",
       "    .dataframe thead th {\n",
       "        text-align: right;\n",
       "    }\n",
       "</style>\n",
       "<table border=\"1\" class=\"dataframe\">\n",
       "  <thead>\n",
       "    <tr style=\"text-align: right;\">\n",
       "      <th></th>\n",
       "      <th>method</th>\n",
       "      <th>cost_precision</th>\n",
       "      <th>cost_recall</th>\n",
       "      <th>tp_amount</th>\n",
       "      <th>fp_amount</th>\n",
       "      <th>fn_amount</th>\n",
       "      <th>net</th>\n",
       "    </tr>\n",
       "  </thead>\n",
       "  <tbody>\n",
       "    <tr>\n",
       "      <th>0</th>\n",
       "      <td>Cost-sensitive threshold</td>\n",
       "      <td>0.972386</td>\n",
       "      <td>0.858473</td>\n",
       "      <td>26832.93</td>\n",
       "      <td>762.0</td>\n",
       "      <td>4423.64</td>\n",
       "      <td>21647.29</td>\n",
       "    </tr>\n",
       "    <tr>\n",
       "      <th>1</th>\n",
       "      <td>Regular threshold (0.5)</td>\n",
       "      <td>0.997766</td>\n",
       "      <td>0.514306</td>\n",
       "      <td>16075.45</td>\n",
       "      <td>36.0</td>\n",
       "      <td>15181.12</td>\n",
       "      <td>858.33</td>\n",
       "    </tr>\n",
       "  </tbody>\n",
       "</table>\n",
       "</div>"
      ],
      "text/plain": [
       "                     method  cost_precision  cost_recall  tp_amount  \\\n",
       "0  Cost-sensitive threshold        0.972386     0.858473   26832.93   \n",
       "1   Regular threshold (0.5)        0.997766     0.514306   16075.45   \n",
       "\n",
       "   fp_amount  fn_amount       net  \n",
       "0      762.0    4423.64  21647.29  \n",
       "1       36.0   15181.12    858.33  "
      ]
     },
     "execution_count": 6,
     "metadata": {},
     "output_type": "execute_result"
    }
   ],
   "source": [
    "df"
   ]
  },
  {
   "cell_type": "code",
   "execution_count": 7,
   "id": "7d06e03f",
   "metadata": {},
   "outputs": [
    {
     "data": {
      "text/plain": [
       "Text(0.5, 1.0, 'Cost Recall')"
      ]
     },
     "execution_count": 7,
     "metadata": {},
     "output_type": "execute_result"
    },
    {
     "data": {
      "image/png": "[encoded data removed]",
      "text/plain": [
       "<Figure size 432x288 with 1 Axes>"
      ]
     },
     "metadata": {
      "needs_background": "light"
     },
     "output_type": "display_data"
    }
   ],
   "source": [
    "import seaborn as sns\n",
    "import matplotlib.pyplot as plt\n",
    "\n",
    "sns.barplot(data=df, x='method', y='cost_recall')\n",
    "plt.title('Cost Recall')"
   ]
  },
  {
   "cell_type": "code",
   "execution_count": 8,
   "id": "7ed2fc43",
   "metadata": {},
   "outputs": [
    {
     "data": {
      "text/plain": [
       "Text(0.5, 1.0, 'Cost Precision')"
      ]
     },
     "execution_count": 8,
     "metadata": {},
     "output_type": "execute_result"
    },
    {
     "data": {
      "image/png": "[encoded data removed]",
      "text/plain": [
       "<Figure size 432x288 with 1 Axes>"
      ]
     },
     "metadata": {
      "needs_background": "light"
     },
     "output_type": "display_data"
    }
   ],
   "source": [
    "sns.barplot(data=df, x='method', y='cost_precision')\n",
    "plt.title('Cost Precision')"
   ]
  },
  {
   "cell_type": "code",
   "execution_count": null,
   "id": "22b1257d",
   "metadata": {},
   "outputs": [],
   "source": []
  }
 ],
 "metadata": {
  "kernelspec": {
   "display_name": "Python 3 (ipykernel)",
   "language": "python",
   "name": "python3"
  },
  "language_info": {
   "codemirror_mode": {
    "name": "ipython",
    "version": 3
   },
   "file_extension": ".py",
   "mimetype": "text/x-python",
   "name": "python",
   "nbconvert_exporter": "python",
   "pygments_lexer": "ipython3",
   "version": "3.9.7"
  }
 },
 "nbformat": 4,
 "nbformat_minor": 5
}
