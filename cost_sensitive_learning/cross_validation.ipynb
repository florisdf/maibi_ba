{
 "cells": [
  {
   "cell_type": "code",
   "execution_count": 1,
   "id": "e9f40bbf",
   "metadata": {},
   "outputs": [],
   "source": [
    "from itertools import product\n",
    "import matplotlib.pyplot as plt\n",
    "import seaborn as sns\n",
    "from tqdm.notebook import tqdm\n",
    "\n",
    "from lib.creditcard_fraud_dataset import get_train_test_dfs\n",
    "from lib.cs_train import train_clf\n",
    "from lib.cs_eval import evaluate_clf"
   ]
  },
  {
   "cell_type": "code",
   "execution_count": 2,
   "id": "0abe8f98",
   "metadata": {},
   "outputs": [],
   "source": [
    "df_trainval, df_test = get_train_test_dfs()"
   ]
  },
  {
   "cell_type": "code",
   "execution_count": 3,
   "id": "def3f5e0",
   "metadata": {},
   "outputs": [],
   "source": [
    "methods = {}"
   ]
  },
  {
   "cell_type": "markdown",
   "id": "eb15fa77",
   "metadata": {},
   "source": [
    "## Baseline"
   ]
  },
  {
   "cell_type": "code",
   "execution_count": 4,
   "id": "a6678c4d",
   "metadata": {},
   "outputs": [],
   "source": [
    "methods.update({\n",
    "    'Baseline': {\n",
    "        'train': lambda df_train: dict(),\n",
    "        'test': lambda df_test: dict()\n",
    "    },\n",
    "    'Baseline (class balanced)': {\n",
    "        'train': lambda df_train: dict(\n",
    "            class_weight='balanced',\n",
    "        ),\n",
    "        'test': lambda df_test: dict()\n",
    "    },\n",
    "})"
   ]
  },
  {
   "cell_type": "markdown",
   "id": "179c9bce",
   "metadata": {},
   "source": [
    "## Sample weighting"
   ]
  },
  {
   "cell_type": "code",
   "execution_count": 5,
   "id": "a33c1f17",
   "metadata": {},
   "outputs": [],
   "source": [
    "methods.update({\n",
    "    'Sample Weighted': {\n",
    "        'train': lambda df_train: dict(\n",
    "            sample_weight=df_train['C_misclf'],\n",
    "        ),\n",
    "        'test': lambda df_test: dict()\n",
    "    },\n",
    "    'Sample Weighted (class balanced)': {\n",
    "        'train': lambda df_train: dict(\n",
    "            class_weight='balanced',\n",
    "            sample_weight=df_train['C_misclf'],\n",
    "        ),\n",
    "        'test': lambda df_test: dict()\n",
    "    },\n",
    "})"
   ]
  },
  {
   "cell_type": "markdown",
   "id": "7b726249",
   "metadata": {},
   "source": [
    "## Subsampling"
   ]
  },
  {
   "cell_type": "code",
   "execution_count": 6,
   "id": "768cef49",
   "metadata": {},
   "outputs": [],
   "source": [
    "methods.update({\n",
    "    'Subsampled': {\n",
    "        'train': lambda df_train: dict(\n",
    "            n_neg=df_train['Class'].sum(),\n",
    "        ),\n",
    "        'test': lambda df_test: dict()\n",
    "    }\n",
    "})"
   ]
  },
  {
   "cell_type": "markdown",
   "id": "2afd9b32",
   "metadata": {},
   "source": [
    "## Cost-sensitive sampling"
   ]
  },
  {
   "cell_type": "code",
   "execution_count": 7,
   "id": "f347647e",
   "metadata": {},
   "outputs": [],
   "source": [
    "def get_cost_sensitive_sampling_ratios(df_train):\n",
    "    n_pos = df_train['Class'].sum()\n",
    "    n_neg = len(df_train) - n_pos\n",
    "\n",
    "    return (df_train['C_FN'] / df_train['C_FP']) * (n_pos / n_neg)\n",
    "\n",
    "\n",
    "methods.update({\n",
    "    'Cost-sensitive sampling': {\n",
    "        'train': lambda df_train: dict(\n",
    "            n_neg=int(df_train['Class'].sum() / get_cost_sensitive_sampling_ratios(df_train).mean())\n",
    "        ),\n",
    "        'test': lambda df_test: dict(),\n",
    "    }\n",
    "})"
   ]
  },
  {
   "cell_type": "markdown",
   "id": "c81fa501",
   "metadata": {},
   "source": [
    "## Cost-sensitive threshold"
   ]
  },
  {
   "cell_type": "code",
   "execution_count": 8,
   "id": "f75ccd31",
   "metadata": {},
   "outputs": [],
   "source": [
    "def get_cs_threshs(df):\n",
    "    return df['C_FP'] / (df['C_FP'] + df['C_FN'])\n",
    "\n",
    "\n",
    "methods.update({\n",
    "    \"CS thresh\": {\n",
    "        'train': lambda df_train: dict(),\n",
    "        'test': lambda df_test: dict(thresh=get_cs_threshs(df_test)),\n",
    "    },\n",
    "    \"CS thresh (class balanced)\": {\n",
    "        'train': lambda df_train: dict(class_weight='balanced'),\n",
    "        'test': lambda df_test: dict(thresh=get_cs_threshs(df_test)),\n",
    "    }\n",
    "})"
   ]
  },
  {
   "cell_type": "markdown",
   "id": "3f55c885",
   "metadata": {},
   "source": [
    "## AdaBoost with cost-sensitive weight initialization"
   ]
  },
  {
   "cell_type": "code",
   "execution_count": 9,
   "id": "cbad99a5",
   "metadata": {},
   "outputs": [],
   "source": [
    "from sklearn.ensemble import AdaBoostClassifier\n",
    "\n",
    "\n",
    "methods.update({\n",
    "    \"AdaBoost CS weight\": {\n",
    "        'train': lambda df_train: dict(\n",
    "            Classifier=AdaBoostClassifier,\n",
    "            sample_weight=df_train['C_misclf']\n",
    "        ),\n",
    "        'test': lambda df_test: dict(),\n",
    "    },\n",
    "    \"AdaBoost baseline\": {\n",
    "        'train': lambda df_train: dict(\n",
    "            Classifier=AdaBoostClassifier,\n",
    "        ),\n",
    "        'test': lambda df_test: dict(),\n",
    "    }\n",
    "})"
   ]
  },
  {
   "cell_type": "markdown",
   "id": "99e5497f",
   "metadata": {},
   "source": [
    "# Cross-validation"
   ]
  },
  {
   "cell_type": "code",
   "execution_count": 10,
   "id": "cb302b7b",
   "metadata": {
    "scrolled": true
   },
   "outputs": [
    {
     "data": {
      "application/vnd.jupyter.widget-view+json": {
       "model_id": "af673899dff14a98984ffb9d4d2cdd12",
       "version_major": 2,
       "version_minor": 0
      },
      "text/plain": [
       "  0%|          | 0/5 [00:00<?, ?it/s]"
      ]
     },
     "metadata": {},
     "output_type": "display_data"
    },
    {
     "data": {
      "application/vnd.jupyter.widget-view+json": {
       "model_id": "",
       "version_major": 2,
       "version_minor": 0
      },
      "text/plain": [
       "  0%|          | 0/10 [00:00<?, ?it/s]"
      ]
     },
     "metadata": {},
     "output_type": "display_data"
    },
    {
     "data": {
      "application/vnd.jupyter.widget-view+json": {
       "model_id": "",
       "version_major": 2,
       "version_minor": 0
      },
      "text/plain": [
       "  0%|          | 0/10 [00:00<?, ?it/s]"
      ]
     },
     "metadata": {},
     "output_type": "display_data"
    },
    {
     "data": {
      "application/vnd.jupyter.widget-view+json": {
       "model_id": "",
       "version_major": 2,
       "version_minor": 0
      },
      "text/plain": [
       "  0%|          | 0/10 [00:00<?, ?it/s]"
      ]
     },
     "metadata": {},
     "output_type": "display_data"
    },
    {
     "data": {
      "application/vnd.jupyter.widget-view+json": {
       "model_id": "",
       "version_major": 2,
       "version_minor": 0
      },
      "text/plain": [
       "  0%|          | 0/10 [00:00<?, ?it/s]"
      ]
     },
     "metadata": {},
     "output_type": "display_data"
    },
    {
     "name": "stderr",
     "output_type": "stream",
     "text": [
      "/home/fdf/miniconda3/envs/sentometrics/lib/python3.9/site-packages/sklearn/linear_model/_logistic.py:814: ConvergenceWarning: lbfgs failed to converge (status=1):\n",
      "STOP: TOTAL NO. of ITERATIONS REACHED LIMIT.\n",
      "\n",
      "Increase the number of iterations (max_iter) or scale the data as shown in:\n",
      "    https://scikit-learn.org/stable/modules/preprocessing.html\n",
      "Please also refer to the documentation for alternative solver options:\n",
      "    https://scikit-learn.org/stable/modules/linear_model.html#logistic-regression\n",
      "  n_iter_i = _check_optimize_result(\n"
     ]
    },
    {
     "data": {
      "application/vnd.jupyter.widget-view+json": {
       "model_id": "",
       "version_major": 2,
       "version_minor": 0
      },
      "text/plain": [
       "  0%|          | 0/10 [00:00<?, ?it/s]"
      ]
     },
     "metadata": {},
     "output_type": "display_data"
    }
   ],
   "source": [
    "from sklearn.model_selection import StratifiedKFold\n",
    "from lib.creditcard_fraud_dataset import get_X_from_df, get_Y_from_df\n",
    "\n",
    "n_splits = 5\n",
    "skf = StratifiedKFold(n_splits=n_splits, random_state=None,\n",
    "                      shuffle=False)\n",
    "\n",
    "df_results = []\n",
    "\n",
    "for train_index, val_index in tqdm(skf.split(get_X_from_df(df_trainval),\n",
    "                                             get_Y_from_df(df_trainval)),\n",
    "                                   total=n_splits):\n",
    "    df_train = df_trainval.iloc[train_index]\n",
    "    df_val = df_trainval.iloc[val_index]\n",
    "\n",
    "    for method_name, method_dict in tqdm(methods.items(), leave=False):\n",
    "        clf = train_clf(\n",
    "            df_train,\n",
    "            **method_dict['train'](df_train)\n",
    "        )\n",
    "        eval_metrics = evaluate_clf(\n",
    "            clf,\n",
    "            df_val,\n",
    "            **method_dict['test'](df_val)\n",
    "        )\n",
    "        df_results.append({\n",
    "            'method': method_name,\n",
    "            **eval_metrics\n",
    "        })"
   ]
  },
  {
   "cell_type": "code",
   "execution_count": 11,
   "id": "9bd3939e",
   "metadata": {},
   "outputs": [],
   "source": [
    "import pandas as pd\n",
    "\n",
    "# When you ran the code yourself, uncomment the next line...\n",
    "# df_results = pd.DataFrame(df_results)\n",
    "\n",
    "# ...and remove the following one\n",
    "df_result = pd.read_pickle('results.pkl')"
   ]
  },
  {
   "cell_type": "code",
   "execution_count": 12,
   "id": "7c90acec",
   "metadata": {},
   "outputs": [],
   "source": [
    "df_results['cost_f1'] = (\n",
    "    2 * df_results['cost_precision'] * df_results['cost_recall']\n",
    "    / (df_results['cost_precision'] + df_results['cost_recall'])\n",
    ")"
   ]
  },
  {
   "cell_type": "code",
   "execution_count": 13,
   "id": "c31a2151",
   "metadata": {},
   "outputs": [
    {
     "data": {
      "text/html": [
       "<div>\n",
       "<style scoped>\n",
       "    .dataframe tbody tr th:only-of-type {\n",
       "        vertical-align: middle;\n",
       "    }\n",
       "\n",
       "    .dataframe tbody tr th {\n",
       "        vertical-align: top;\n",
       "    }\n",
       "\n",
       "    .dataframe thead th {\n",
       "        text-align: right;\n",
       "    }\n",
       "</style>\n",
       "<table border=\"1\" class=\"dataframe\">\n",
       "  <thead>\n",
       "    <tr style=\"text-align: right;\">\n",
       "      <th></th>\n",
       "      <th>cost_precision</th>\n",
       "      <th>cost_recall</th>\n",
       "      <th>tp_amount</th>\n",
       "      <th>fp_amount</th>\n",
       "      <th>fn_amount</th>\n",
       "      <th>net</th>\n",
       "      <th>cost_f1</th>\n",
       "    </tr>\n",
       "    <tr>\n",
       "      <th>method</th>\n",
       "      <th></th>\n",
       "      <th></th>\n",
       "      <th></th>\n",
       "      <th></th>\n",
       "      <th></th>\n",
       "      <th></th>\n",
       "      <th></th>\n",
       "    </tr>\n",
       "  </thead>\n",
       "  <tbody>\n",
       "    <tr>\n",
       "      <th>Sample Weighted</th>\n",
       "      <td>0.949840</td>\n",
       "      <td>0.792877</td>\n",
       "      <td>4602.572</td>\n",
       "      <td>232.4</td>\n",
       "      <td>1171.708</td>\n",
       "      <td>3198.464</td>\n",
       "      <td>0.863752</td>\n",
       "    </tr>\n",
       "    <tr>\n",
       "      <th>AdaBoost CS weight</th>\n",
       "      <td>0.985046</td>\n",
       "      <td>0.756829</td>\n",
       "      <td>4316.120</td>\n",
       "      <td>64.8</td>\n",
       "      <td>1458.160</td>\n",
       "      <td>2793.160</td>\n",
       "      <td>0.852575</td>\n",
       "    </tr>\n",
       "    <tr>\n",
       "      <th>CS thresh</th>\n",
       "      <td>0.961824</td>\n",
       "      <td>0.761995</td>\n",
       "      <td>4331.288</td>\n",
       "      <td>166.0</td>\n",
       "      <td>1442.992</td>\n",
       "      <td>2722.296</td>\n",
       "      <td>0.843481</td>\n",
       "    </tr>\n",
       "    <tr>\n",
       "      <th>Cost-sensitive sampling</th>\n",
       "      <td>0.965602</td>\n",
       "      <td>0.739424</td>\n",
       "      <td>4177.598</td>\n",
       "      <td>147.2</td>\n",
       "      <td>1596.682</td>\n",
       "      <td>2433.716</td>\n",
       "      <td>0.834276</td>\n",
       "    </tr>\n",
       "    <tr>\n",
       "      <th>Baseline (class balanced)</th>\n",
       "      <td>0.790545</td>\n",
       "      <td>0.864755</td>\n",
       "      <td>4876.886</td>\n",
       "      <td>1279.2</td>\n",
       "      <td>897.394</td>\n",
       "      <td>2700.292</td>\n",
       "      <td>0.821186</td>\n",
       "    </tr>\n",
       "    <tr>\n",
       "      <th>AdaBoost baseline</th>\n",
       "      <td>0.995302</td>\n",
       "      <td>0.626485</td>\n",
       "      <td>3545.582</td>\n",
       "      <td>16.8</td>\n",
       "      <td>2228.698</td>\n",
       "      <td>1300.084</td>\n",
       "      <td>0.764525</td>\n",
       "    </tr>\n",
       "    <tr>\n",
       "      <th>Subsampled</th>\n",
       "      <td>0.672037</td>\n",
       "      <td>0.838415</td>\n",
       "      <td>4734.536</td>\n",
       "      <td>2328.0</td>\n",
       "      <td>1039.744</td>\n",
       "      <td>1366.792</td>\n",
       "      <td>0.739977</td>\n",
       "    </tr>\n",
       "    <tr>\n",
       "      <th>Baseline</th>\n",
       "      <td>0.996419</td>\n",
       "      <td>0.460141</td>\n",
       "      <td>2501.660</td>\n",
       "      <td>9.2</td>\n",
       "      <td>3272.620</td>\n",
       "      <td>-780.160</td>\n",
       "      <td>0.615133</td>\n",
       "    </tr>\n",
       "    <tr>\n",
       "      <th>Sample Weighted (class balanced)</th>\n",
       "      <td>0.447209</td>\n",
       "      <td>0.950304</td>\n",
       "      <td>5475.594</td>\n",
       "      <td>7148.8</td>\n",
       "      <td>298.686</td>\n",
       "      <td>-1971.892</td>\n",
       "      <td>0.597756</td>\n",
       "    </tr>\n",
       "    <tr>\n",
       "      <th>CS thresh (class balanced)</th>\n",
       "      <td>0.287251</td>\n",
       "      <td>0.984924</td>\n",
       "      <td>5674.518</td>\n",
       "      <td>14339.6</td>\n",
       "      <td>99.762</td>\n",
       "      <td>-8764.844</td>\n",
       "      <td>0.441279</td>\n",
       "    </tr>\n",
       "  </tbody>\n",
       "</table>\n",
       "</div>"
      ],
      "text/plain": [
       "                                  cost_precision  cost_recall  tp_amount  \\\n",
       "method                                                                     \n",
       "Sample Weighted                         0.949840     0.792877   4602.572   \n",
       "AdaBoost CS weight                      0.985046     0.756829   4316.120   \n",
       "CS thresh                               0.961824     0.761995   4331.288   \n",
       "Cost-sensitive sampling                 0.965602     0.739424   4177.598   \n",
       "Baseline (class balanced)               0.790545     0.864755   4876.886   \n",
       "AdaBoost baseline                       0.995302     0.626485   3545.582   \n",
       "Subsampled                              0.672037     0.838415   4734.536   \n",
       "Baseline                                0.996419     0.460141   2501.660   \n",
       "Sample Weighted (class balanced)        0.447209     0.950304   5475.594   \n",
       "CS thresh (class balanced)              0.287251     0.984924   5674.518   \n",
       "\n",
       "                                  fp_amount  fn_amount       net   cost_f1  \n",
       "method                                                                      \n",
       "Sample Weighted                       232.4   1171.708  3198.464  0.863752  \n",
       "AdaBoost CS weight                     64.8   1458.160  2793.160  0.852575  \n",
       "CS thresh                             166.0   1442.992  2722.296  0.843481  \n",
       "Cost-sensitive sampling               147.2   1596.682  2433.716  0.834276  \n",
       "Baseline (class balanced)            1279.2    897.394  2700.292  0.821186  \n",
       "AdaBoost baseline                      16.8   2228.698  1300.084  0.764525  \n",
       "Subsampled                           2328.0   1039.744  1366.792  0.739977  \n",
       "Baseline                                9.2   3272.620  -780.160  0.615133  \n",
       "Sample Weighted (class balanced)     7148.8    298.686 -1971.892  0.597756  \n",
       "CS thresh (class balanced)          14339.6     99.762 -8764.844  0.441279  "
      ]
     },
     "execution_count": 13,
     "metadata": {},
     "output_type": "execute_result"
    }
   ],
   "source": [
    "gb = df_results.groupby('method')\n",
    "\n",
    "gb.agg('mean').sort_values(by='cost_f1', ascending=False)"
   ]
  },
  {
   "cell_type": "code",
   "execution_count": null,
   "id": "8c3902e4",
   "metadata": {},
   "outputs": [],
   "source": []
  }
 ],
 "metadata": {
  "kernelspec": {
   "display_name": "Python 3 (ipykernel)",
   "language": "python",
   "name": "python3"
  },
  "language_info": {
   "codemirror_mode": {
    "name": "ipython",
    "version": 3
   },
   "file_extension": ".py",
   "mimetype": "text/x-python",
   "name": "python",
   "nbconvert_exporter": "python",
   "pygments_lexer": "ipython3",
   "version": "3.9.7"
  }
 },
 "nbformat": 4,
 "nbformat_minor": 5
}
