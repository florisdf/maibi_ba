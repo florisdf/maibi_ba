{
 "cells": [
  {
   "cell_type": "code",
   "execution_count": 2,
   "id": "0434e428-41a6-4753-8c2e-d3c9f8349e01",
   "metadata": {},
   "outputs": [],
   "source": [
    "import numpy as np\n",
    "import pandas as pd\n",
    "import seaborn as sns\n",
    "from sklearn.linear_model import LogisticRegression\n",
    "\n",
    "from lib.creditcard_fraud_dataset import get_train_test_dfs, X_COLS\n",
    "from lib.cs_eval import evaluate_pred"
   ]
  },
  {
   "cell_type": "markdown",
   "id": "45df3476",
   "metadata": {},
   "source": [
    "# 2. Subsampling\n",
    "\n",
    "Another problem is that there are much more negatives than positives in the dataset (i.e. more non-fradulent than fraudulent transactions). By **using less negative samples**, we can balance the dataset again."
   ]
  },
  {
   "cell_type": "markdown",
   "id": "e4a65197",
   "metadata": {},
   "source": [
    "## 2.1 Train"
   ]
  },
  {
   "cell_type": "markdown",
   "id": "c05628ba-c817-42be-9762-2a5edcc53c20",
   "metadata": {},
   "source": [
    "### 2.1.1 Inspect dataset"
   ]
  },
  {
   "cell_type": "code",
   "execution_count": 3,
   "id": "1cae24cc",
   "metadata": {},
   "outputs": [],
   "source": [
    "df_train, df_test = get_train_test_dfs()"
   ]
  },
  {
   "cell_type": "code",
   "execution_count": 4,
   "id": "8d2c8b08",
   "metadata": {},
   "outputs": [
    {
     "data": {
      "text/plain": [
       "<AxesSubplot:xlabel='Class', ylabel='count'>"
      ]
     },
     "execution_count": 4,
     "metadata": {},
     "output_type": "execute_result"
    },
    {
     "data": {
      "image/png": "[encoded data removed]",
      "text/plain": [
       "<Figure size 640x480 with 1 Axes>"
      ]
     },
     "metadata": {},
     "output_type": "display_data"
    }
   ],
   "source": [
    "sns.countplot(x='Class', data=df_train)"
   ]
  },
  {
   "cell_type": "markdown",
   "id": "a22a3664",
   "metadata": {},
   "source": [
    "Indeed, you can see in the bar chart above that the number of fraudulent transactions is much lower than the number of non-fraudulent transactions."
   ]
  },
  {
   "cell_type": "markdown",
   "id": "4b49d566-59af-4337-8eb1-de736514bf43",
   "metadata": {},
   "source": [
    "### 2.1.2 Run training *without* balancing\n",
    "\n",
    "First, we'll run a training with the original (unbalanced) dataset."
   ]
  },
  {
   "cell_type": "code",
   "execution_count": 5,
   "id": "04112027-1ad4-4c04-ae81-5fdfc77afc27",
   "metadata": {
    "tags": []
   },
   "outputs": [],
   "source": [
    "X_train = df_train[X_COLS]\n",
    "y_train = df_train['Class']"
   ]
  },
  {
   "cell_type": "code",
   "execution_count": 7,
   "id": "1ea4577c-0e9e-4eea-9032-aedc08f372aa",
   "metadata": {
    "tags": []
   },
   "outputs": [
    {
     "data": {
      "text/plain": [
       "LogisticRegression(max_iter=500)"
      ]
     },
     "execution_count": 7,
     "metadata": {},
     "output_type": "execute_result"
    }
   ],
   "source": [
    "# Create a logistic regression classifier\n",
    "clf_unbalanced = LogisticRegression(max_iter=500)\n",
    "\n",
    "# Train it on X_train and y_train\n",
    "clf_unbalanced.fit(X_train, y_train)"
   ]
  },
  {
   "cell_type": "markdown",
   "id": "5b505a7b-530f-4d24-a49b-cf4d0a97473a",
   "metadata": {},
   "source": [
    "### 2.1.3 Run training *with* balancing\n",
    "\n",
    "Next, we will balance the dataset by using **the same number of negatives and positives**. More specifically, we will **subsample the number of negatives** until it is equal to the number of positives.\n",
    "\n",
    "To start, let's first compute the number of fraudulent transactions."
   ]
  },
  {
   "cell_type": "code",
   "execution_count": 8,
   "id": "f51fcb71-8d83-47ab-8435-27ac7a63035a",
   "metadata": {
    "tags": []
   },
   "outputs": [],
   "source": [
    "# Since the fraudulent transactions have class 1, we can count\n",
    "# them by summing the \"Class\" column\n",
    "num_fraud = df_train['Class'].sum()"
   ]
  },
  {
   "cell_type": "markdown",
   "id": "7d99757d-4881-42a6-8e16-11f5b2abf19e",
   "metadata": {},
   "source": [
    "To balance the dataset, we  will take the following steps:\n",
    "\n",
    "1. Store all *fraudulent* transactions in the variable `X_fraud`\n",
    "2. Store all *non-fraudulent* transactions in the variable `X_no_fraud`\n",
    "3. *Subsample* `X_no_fraud` so that it has the same amount of rows as `X_fraud`\n",
    "4. Combine `X_fraud` and the subsampled `X_no_fraud` into the variable `X_balanced`\n",
    "\n",
    "Remember that `X_train` is a pandas DataFrame. On any DataFrame, you can call the method [`sample()`](https://pandas.pydata.org/docs/reference/api/pandas.DataFrame.sample.html) to select a random set of rows in the DataFrame."
   ]
  },
  {
   "cell_type": "code",
   "execution_count": 9,
   "id": "7037b369-e2f9-43f4-a793-9ae6cba3dc10",
   "metadata": {
    "tags": []
   },
   "outputs": [],
   "source": [
    "# Create boolean mask to select all fraudulent rows\n",
    "is_fraud = df_train['Class'] == 1\n",
    "\n",
    "# Select all fraudulent rows\n",
    "X_fraud = X_train[is_fraud]"
   ]
  },
  {
   "cell_type": "code",
   "execution_count": 10,
   "id": "ce7b5a9e-9172-4f73-835a-dfcc797f23c2",
   "metadata": {
    "tags": []
   },
   "outputs": [],
   "source": [
    "# Create boolean mask to select all non-fraudulent rows\n",
    "no_fraud = df_train['Class'] == 0\n",
    "\n",
    "# Select all non-fraudulent rows\n",
    "X_no_fraud = X_train[no_fraud]\n",
    "\n",
    "# Subsample to get the same number non-fraudulent as fraudulent\n",
    "X_no_fraud = X_no_fraud.sample(n=num_fraud)"
   ]
  },
  {
   "cell_type": "code",
   "execution_count": 11,
   "id": "94a32b3f-cdcf-48d0-b151-6f18d4b3e7d6",
   "metadata": {
    "tags": []
   },
   "outputs": [],
   "source": [
    "# Concatenate X_fraud and X_no_fraud\n",
    "X_balanced = pd.concat([X_fraud, X_no_fraud])\n",
    "\n",
    "# Create y_balanced by concatenating array of ones and zeros\n",
    "y_balanced = np.concatenate([np.ones(len(X_fraud)),\n",
    "                             np.zeros(len(X_no_fraud))])"
   ]
  },
  {
   "cell_type": "code",
   "execution_count": 12,
   "id": "f9bd3c83-1440-4635-a1a2-72f01dd82664",
   "metadata": {
    "tags": []
   },
   "outputs": [
    {
     "data": {
      "text/plain": [
       "LogisticRegression(max_iter=500)"
      ]
     },
     "execution_count": 12,
     "metadata": {},
     "output_type": "execute_result"
    }
   ],
   "source": [
    "# Train the classifier\n",
    "clf_balanced = LogisticRegression(max_iter=500)\n",
    "clf_balanced.fit(X_balanced, y_balanced)"
   ]
  },
  {
   "cell_type": "markdown",
   "id": "b0effd76",
   "metadata": {},
   "source": [
    "## 2.2 Evaluate"
   ]
  },
  {
   "cell_type": "code",
   "execution_count": 13,
   "id": "09630cb9-ca50-440c-973b-3b8334a52128",
   "metadata": {
    "tags": []
   },
   "outputs": [],
   "source": [
    "X_test = df_test[X_COLS]\n",
    "y_test = df_test['Class']\n",
    "\n",
    "# Compute predictions of both classifiers\n",
    "y_pred_unbalanced = clf_unbalanced.predict(X_test)\n",
    "y_pred_balanced = clf_balanced.predict(X_test)\n",
    "\n",
    "# Get the transaction amounts\n",
    "amounts = df_test['Amount']\n",
    "\n",
    "# Compute metrics for each classifier\n",
    "eval_metrics_unbalanced = evaluate_pred(y_test, y_pred_unbalanced, amounts)\n",
    "eval_metrics_balanced   = evaluate_pred(y_test, y_pred_balanced,   amounts)"
   ]
  },
  {
   "cell_type": "code",
   "execution_count": 14,
   "id": "7d6566a6",
   "metadata": {},
   "outputs": [],
   "source": [
    "df = pd.DataFrame([\n",
    "    {\n",
    "        'Method': 'Unbalanced',\n",
    "        **eval_metrics_unbalanced\n",
    "    },\n",
    "    {\n",
    "        'Method': 'Balanced',\n",
    "        **eval_metrics_balanced\n",
    "    },\n",
    "])"
   ]
  },
  {
   "cell_type": "code",
   "execution_count": 15,
   "id": "9788e2bf",
   "metadata": {},
   "outputs": [
    {
     "data": {
      "text/html": [
       "<div>\n",
       "<style scoped>\n",
       "    .dataframe tbody tr th:only-of-type {\n",
       "        vertical-align: middle;\n",
       "    }\n",
       "\n",
       "    .dataframe tbody tr th {\n",
       "        vertical-align: top;\n",
       "    }\n",
       "\n",
       "    .dataframe thead th {\n",
       "        text-align: right;\n",
       "    }\n",
       "</style>\n",
       "<table border=\"1\" class=\"dataframe\">\n",
       "  <thead>\n",
       "    <tr style=\"text-align: right;\">\n",
       "      <th></th>\n",
       "      <th>Method</th>\n",
       "      <th>Cost Precision</th>\n",
       "      <th>Cost Recall</th>\n",
       "      <th>TP Amount</th>\n",
       "      <th>FP Amount</th>\n",
       "      <th>FN Amount</th>\n",
       "      <th>Net Recovered Amount</th>\n",
       "    </tr>\n",
       "  </thead>\n",
       "  <tbody>\n",
       "    <tr>\n",
       "      <th>0</th>\n",
       "      <td>Unbalanced</td>\n",
       "      <td>0.997766</td>\n",
       "      <td>0.514306</td>\n",
       "      <td>16075.45</td>\n",
       "      <td>36.0</td>\n",
       "      <td>15181.12</td>\n",
       "      <td>858.33</td>\n",
       "    </tr>\n",
       "    <tr>\n",
       "      <th>1</th>\n",
       "      <td>Balanced</td>\n",
       "      <td>0.747885</td>\n",
       "      <td>0.890032</td>\n",
       "      <td>27819.35</td>\n",
       "      <td>9378.0</td>\n",
       "      <td>3437.22</td>\n",
       "      <td>15004.13</td>\n",
       "    </tr>\n",
       "  </tbody>\n",
       "</table>\n",
       "</div>"
      ],
      "text/plain": [
       "       Method  Cost Precision  Cost Recall  TP Amount  FP Amount  FN Amount  \\\n",
       "0  Unbalanced        0.997766     0.514306   16075.45       36.0   15181.12   \n",
       "1    Balanced        0.747885     0.890032   27819.35     9378.0    3437.22   \n",
       "\n",
       "   Net Recovered Amount  \n",
       "0                858.33  \n",
       "1              15004.13  "
      ]
     },
     "execution_count": 15,
     "metadata": {},
     "output_type": "execute_result"
    }
   ],
   "source": [
    "df"
   ]
  },
  {
   "cell_type": "code",
   "execution_count": 16,
   "id": "aed25d80",
   "metadata": {},
   "outputs": [
    {
     "data": {
      "text/plain": [
       "<AxesSubplot:xlabel='Method', ylabel='Cost Recall'>"
      ]
     },
     "execution_count": 16,
     "metadata": {},
     "output_type": "execute_result"
    },
    {
     "data": {
      "image/png": "[encoded data removed]",
      "text/plain": [
       "<Figure size 640x480 with 1 Axes>"
      ]
     },
     "metadata": {},
     "output_type": "display_data"
    }
   ],
   "source": [
    "sns.barplot(data=df, x='Method', y='Cost Recall')"
   ]
  },
  {
   "cell_type": "code",
   "execution_count": 17,
   "id": "1f6612da",
   "metadata": {},
   "outputs": [
    {
     "data": {
      "text/plain": [
       "<AxesSubplot:xlabel='Method', ylabel='Cost Precision'>"
      ]
     },
     "execution_count": 17,
     "metadata": {},
     "output_type": "execute_result"
    },
    {
     "data": {
      "image/png": "[encoded data removed]",
      "text/plain": [
       "<Figure size 640x480 with 1 Axes>"
      ]
     },
     "metadata": {},
     "output_type": "display_data"
    }
   ],
   "source": [
    "sns.barplot(data=df, x='Method', y='Cost Precision')"
   ]
  },
  {
   "cell_type": "code",
   "execution_count": null,
   "id": "d5be356e-fb21-4126-aeec-ccc587103493",
   "metadata": {},
   "outputs": [],
   "source": []
  }
 ],
 "metadata": {
  "kernelspec": {
   "display_name": "Python 3 (ipykernel)",
   "language": "python",
   "name": "python3"
  },
  "language_info": {
   "codemirror_mode": {
    "name": "ipython",
    "version": 3
   },
   "file_extension": ".py",
   "mimetype": "text/x-python",
   "name": "python",
   "nbconvert_exporter": "python",
   "pygments_lexer": "ipython3",
   "version": "3.10.6"
  }
 },
 "nbformat": 4,
 "nbformat_minor": 5
}
