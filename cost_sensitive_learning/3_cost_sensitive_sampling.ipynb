{
 "cells": [
  {
   "cell_type": "markdown",
   "id": "baa1c123",
   "metadata": {},
   "source": [
    "# Cost-sensitive sampling\n",
    "\n",
    "In the previous notebook, we just wanted to get the same number of positives and negatives. However, we could also choose the number of positives and negatives **that takes the costs into account**.\n",
    "\n",
    "We will resample data such that the positive-negative ratio is equal to:\n",
    "\n",
    "$$\n",
    "r_{cs} = \\frac{|N^+|}{|N^-|}\\cdot\\frac{C_{FN}}{C_{FP}},\n",
    "$$\n",
    "\n",
    "with $|N^+|$ and $|N^-|$ the original number of positive, resp. negative, classes and $C_{FN}$, $C_{FP}$ the cost of false negative and false positive, respectively.\n",
    "\n",
    "Note that the costs for a false negative and false positive classification vary for each transaction, so each transaction yields a different ratio. To obtain a global ratio, we will compute the **average all record-specific ratios**."
   ]
  },
  {
   "cell_type": "code",
   "execution_count": 1,
   "id": "6f036569",
   "metadata": {},
   "outputs": [],
   "source": [
    "def get_cost_sensitive_sampling_ratios(df_train):\n",
    "    \"\"\"\n",
    "    Return the cost-sensitive sampling ratio of each record.\n",
    "    \n",
    "    Args:\n",
    "        df_train: The training dataframe. It should contain the columns\n",
    "            \"Class\", \"C_FN\" and \"C_FP\" with the class, false negative cost\n",
    "            and false positive cost, respectively.\n",
    "    \"\"\"\n",
    "    n_pos = df_train['Class'].sum()\n",
    "    n_neg = len(df_train) - n_pos\n",
    "\n",
    "    return (df_train['C_FN'] / df_train['C_FP']) * (n_pos / n_neg)"
   ]
  },
  {
   "cell_type": "markdown",
   "id": "cf450fdd",
   "metadata": {},
   "source": [
    "## Train\n",
    "\n",
    "> **Note**: you can download the dataset [here](https://www.kaggle.com/datasets/mlg-ulb/creditcardfraud). Create a new folder called `data` in the directory of this notebook and move the downloaded csv file into that folder. Next, rename the csv file to `creditcard_fraud_dataset.csv`."
   ]
  },
  {
   "cell_type": "code",
   "execution_count": 2,
   "id": "3b75c787",
   "metadata": {},
   "outputs": [],
   "source": [
    "from lib.creditcard_fraud_dataset import get_train_test_dfs\n",
    "\n",
    "df_train, df_test = get_train_test_dfs()"
   ]
  },
  {
   "cell_type": "code",
   "execution_count": 3,
   "id": "75f82e76",
   "metadata": {},
   "outputs": [],
   "source": [
    "record_spec_r_cs = get_cost_sensitive_sampling_ratios(df_train)\n",
    "global_r_cs = record_spec_r_cs.mean()\n",
    "\n",
    "n_pos = df_train['Class'].sum()\n",
    "n_neg = int(n_pos / global_r_cs)"
   ]
  },
  {
   "cell_type": "code",
   "execution_count": 4,
   "id": "2fdf1bf1",
   "metadata": {},
   "outputs": [],
   "source": [
    "from lib.cs_train import train_clf\n",
    "\n",
    "\n",
    "clf_subsamp = train_clf(\n",
    "    df_train,\n",
    "    n_neg=n_neg\n",
    ")\n",
    "\n",
    "clf_no_subsamp = train_clf(\n",
    "    df_train,\n",
    "    n_neg=-1\n",
    ")"
   ]
  },
  {
   "cell_type": "markdown",
   "id": "fc217302",
   "metadata": {},
   "source": [
    "## Evaluate"
   ]
  },
  {
   "cell_type": "code",
   "execution_count": 5,
   "id": "1edfc265",
   "metadata": {},
   "outputs": [],
   "source": [
    "from lib.cs_eval import evaluate_clf\n",
    "\n",
    "eval_metrics_subsamp = evaluate_clf(clf_subsamp, df_test)\n",
    "eval_metrics_no_subsamp = evaluate_clf(clf_no_subsamp, df_test)"
   ]
  },
  {
   "cell_type": "code",
   "execution_count": 6,
   "id": "a77f87a8",
   "metadata": {},
   "outputs": [],
   "source": [
    "import pandas as pd\n",
    "\n",
    "df = pd.DataFrame([\n",
    "    {\n",
    "        'method': 'Subsampled',\n",
    "        **eval_metrics_subsamp\n",
    "    },\n",
    "    {\n",
    "        'method': 'Not Subsampled',\n",
    "        **eval_metrics_no_subsamp\n",
    "    }\n",
    "])"
   ]
  },
  {
   "cell_type": "code",
   "execution_count": 7,
   "id": "262a8ce5",
   "metadata": {},
   "outputs": [
    {
     "data": {
      "text/html": [
       "<div>\n",
       "<style scoped>\n",
       "    .dataframe tbody tr th:only-of-type {\n",
       "        vertical-align: middle;\n",
       "    }\n",
       "\n",
       "    .dataframe tbody tr th {\n",
       "        vertical-align: top;\n",
       "    }\n",
       "\n",
       "    .dataframe thead th {\n",
       "        text-align: right;\n",
       "    }\n",
       "</style>\n",
       "<table border=\"1\" class=\"dataframe\">\n",
       "  <thead>\n",
       "    <tr style=\"text-align: right;\">\n",
       "      <th></th>\n",
       "      <th>method</th>\n",
       "      <th>cost_precision</th>\n",
       "      <th>cost_recall</th>\n",
       "      <th>tp_amount</th>\n",
       "      <th>fp_amount</th>\n",
       "      <th>fn_amount</th>\n",
       "      <th>net</th>\n",
       "    </tr>\n",
       "  </thead>\n",
       "  <tbody>\n",
       "    <tr>\n",
       "      <th>0</th>\n",
       "      <td>Subsampled</td>\n",
       "      <td>0.959584</td>\n",
       "      <td>0.800632</td>\n",
       "      <td>25025.00</td>\n",
       "      <td>1054.0</td>\n",
       "      <td>6231.57</td>\n",
       "      <td>17739.43</td>\n",
       "    </tr>\n",
       "    <tr>\n",
       "      <th>1</th>\n",
       "      <td>Not Subsampled</td>\n",
       "      <td>0.997766</td>\n",
       "      <td>0.514306</td>\n",
       "      <td>16075.45</td>\n",
       "      <td>36.0</td>\n",
       "      <td>15181.12</td>\n",
       "      <td>858.33</td>\n",
       "    </tr>\n",
       "  </tbody>\n",
       "</table>\n",
       "</div>"
      ],
      "text/plain": [
       "           method  cost_precision  cost_recall  tp_amount  fp_amount  \\\n",
       "0      Subsampled        0.959584     0.800632   25025.00     1054.0   \n",
       "1  Not Subsampled        0.997766     0.514306   16075.45       36.0   \n",
       "\n",
       "   fn_amount       net  \n",
       "0    6231.57  17739.43  \n",
       "1   15181.12    858.33  "
      ]
     },
     "execution_count": 7,
     "metadata": {},
     "output_type": "execute_result"
    }
   ],
   "source": [
    "df"
   ]
  },
  {
   "cell_type": "code",
   "execution_count": 8,
   "id": "d3b860fa",
   "metadata": {},
   "outputs": [
    {
     "data": {
      "text/plain": [
       "Text(0.5, 1.0, 'Cost Recall')"
      ]
     },
     "execution_count": 8,
     "metadata": {},
     "output_type": "execute_result"
    },
    {
     "data": {
      "image/png": "[encoded data removed]",
      "text/plain": [
       "<Figure size 432x288 with 1 Axes>"
      ]
     },
     "metadata": {
      "needs_background": "light"
     },
     "output_type": "display_data"
    }
   ],
   "source": [
    "import seaborn as sns\n",
    "import matplotlib.pyplot as plt\n",
    "\n",
    "sns.barplot(data=df, x='method', y='cost_recall')\n",
    "plt.title('Cost Recall')"
   ]
  },
  {
   "cell_type": "code",
   "execution_count": 9,
   "id": "42de15be",
   "metadata": {},
   "outputs": [
    {
     "data": {
      "text/plain": [
       "Text(0.5, 1.0, 'Cost Precision')"
      ]
     },
     "execution_count": 9,
     "metadata": {},
     "output_type": "execute_result"
    },
    {
     "data": {
      "image/png": "[encoded data removed]",
      "text/plain": [
       "<Figure size 432x288 with 1 Axes>"
      ]
     },
     "metadata": {
      "needs_background": "light"
     },
     "output_type": "display_data"
    }
   ],
   "source": [
    "sns.barplot(data=df, x='method', y='cost_precision')\n",
    "plt.title('Cost Precision')"
   ]
  },
  {
   "cell_type": "code",
   "execution_count": null,
   "id": "02f21918",
   "metadata": {},
   "outputs": [],
   "source": []
  }
 ],
 "metadata": {
  "kernelspec": {
   "display_name": "Python 3 (ipykernel)",
   "language": "python",
   "name": "python3"
  },
  "language_info": {
   "codemirror_mode": {
    "name": "ipython",
    "version": 3
   },
   "file_extension": ".py",
   "mimetype": "text/x-python",
   "name": "python",
   "nbconvert_exporter": "python",
   "pygments_lexer": "ipython3",
   "version": "3.9.7"
  }
 },
 "nbformat": 4,
 "nbformat_minor": 5
}
