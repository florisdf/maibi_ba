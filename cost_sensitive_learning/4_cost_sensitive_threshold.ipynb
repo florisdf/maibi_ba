{
 "cells": [
  {
   "cell_type": "code",
   "execution_count": 1,
   "id": "c2f5f2fa-2ded-49aa-99bc-35f39a73bfb4",
   "metadata": {
    "tags": []
   },
   "outputs": [],
   "source": [
    "import pandas as pd\n",
    "import seaborn as sns\n",
    "from sklearn.linear_model import LogisticRegression\n",
    "\n",
    "from lib.creditcard_fraud_dataset import get_train_test_dfs, X_COLS\n",
    "from lib.cs_eval import evaluate_pred"
   ]
  },
  {
   "cell_type": "markdown",
   "id": "49a4ae38",
   "metadata": {},
   "source": [
    "# 4. Cost-sensitive threshold\n",
    "\n",
    "Instead of modifying the training procedure to make it cost-sensitive, we can also make the test-time procedure cost-sensitive. More specifically, we can **modify the threshold** for a prediction to be classified as positive.\n",
    "\n",
    "We will classify a positive class probability $P_{+}$ as positive if and only if\n",
    "\n",
    "$$\n",
    "P_{+} > \\frac{C_{FP}}{C_{FP} + C_{FN}}\n",
    "$$\n",
    "\n",
    "As you can see, the higher the false negative cost, the *easier* we will classify a sample as positive."
   ]
  },
  {
   "cell_type": "markdown",
   "id": "e0c19e05",
   "metadata": {},
   "source": [
    "## 4.1 Train\n",
    "\n",
    "For this cost-sensitive method, we only need to train a *single classifier*."
   ]
  },
  {
   "cell_type": "code",
   "execution_count": 2,
   "id": "5a151ede-d83b-4091-a308-6607081260f0",
   "metadata": {},
   "outputs": [
    {
     "data": {
      "text/plain": [
       "LogisticRegression(max_iter=500)"
      ]
     },
     "execution_count": 2,
     "metadata": {},
     "output_type": "execute_result"
    }
   ],
   "source": [
    "df_train, df_test = get_train_test_dfs()\n",
    "\n",
    "X_train = df_train[X_COLS]\n",
    "y_train = df_train['Class']\n",
    "\n",
    "clf = LogisticRegression(max_iter=500)\n",
    "clf.fit(X_train, y_train)"
   ]
  },
  {
   "cell_type": "markdown",
   "id": "dcd794ba",
   "metadata": {},
   "source": [
    "## 4.2 Evaluate"
   ]
  },
  {
   "cell_type": "markdown",
   "id": "c2cbd5af-2b6f-43e2-bb20-0884349b81b5",
   "metadata": {},
   "source": [
    "### 4.2.1 Obtaining probability estimates\n",
    "\n",
    "To apply the cost-sensitive threhold, we need to manually set our decision threshold. We can use the output of [`predict_proba()`](https://scikit-learn.org/stable/modules/generated/sklearn.linear_model.LogisticRegression.html#sklearn.linear_model.LogisticRegression.predict_proba) for this. That method returns the *probability estimate of each class*, instead of the classification result itself."
   ]
  },
  {
   "cell_type": "code",
   "execution_count": 3,
   "id": "ff077c21-f6b1-47ca-8c8c-447763a27f37",
   "metadata": {
    "tags": []
   },
   "outputs": [],
   "source": [
    "X_test = df_test[X_COLS]\n",
    "y_test = df_test['Class']\n",
    "\n",
    "# Get probability estimates\n",
    "y_proba = clf.predict_proba(X_test)"
   ]
  },
  {
   "cell_type": "code",
   "execution_count": 4,
   "id": "02bacc09-a453-4168-ada9-205aed360e44",
   "metadata": {
    "tags": []
   },
   "outputs": [
    {
     "data": {
      "text/plain": [
       "array([[1.81823471e-08, 9.99999982e-01],\n",
       "       [9.99898645e-01, 1.01354967e-04],\n",
       "       [9.99953980e-01, 4.60197335e-05],\n",
       "       ...,\n",
       "       [9.99575336e-01, 4.24663517e-04],\n",
       "       [9.99863230e-01, 1.36769760e-04],\n",
       "       [9.99999908e-01, 9.16497049e-08]])"
      ]
     },
     "execution_count": 4,
     "metadata": {},
     "output_type": "execute_result"
    }
   ],
   "source": [
    "y_proba"
   ]
  },
  {
   "cell_type": "markdown",
   "id": "50b72495-ee33-4bcf-b5fa-b5ec4a4bba78",
   "metadata": {},
   "source": [
    "As you can see above, `y_proba` is a numpy array with *two columns*: one column for each class. We threshold on the probability of being fraudulent, so we are only interested in column `1` (rightmost column). We can select that column as follows:"
   ]
  },
  {
   "cell_type": "code",
   "execution_count": 5,
   "id": "e39d0cd7-ede2-44d9-87c2-e8edf64bfcba",
   "metadata": {
    "tags": []
   },
   "outputs": [
    {
     "data": {
      "text/plain": [
       "array([9.99999982e-01, 1.01354967e-04, 4.60197335e-05, ...,\n",
       "       4.24663517e-04, 1.36769760e-04, 9.16497049e-08])"
      ]
     },
     "execution_count": 5,
     "metadata": {},
     "output_type": "execute_result"
    }
   ],
   "source": [
    "y_proba[:, 1]"
   ]
  },
  {
   "cell_type": "markdown",
   "id": "164517f8-362b-44bb-b828-140c5130c6b9",
   "metadata": {},
   "source": [
    "### 4.2.2 Apply thresholds\n",
    "\n",
    "Now, we will use two thresholds: the regular threshold of $0.5$ and the cost-sensitive threshold."
   ]
  },
  {
   "cell_type": "code",
   "execution_count": 6,
   "id": "43ab005e",
   "metadata": {},
   "outputs": [],
   "source": [
    "# Classification with regular threshold of 0.5\n",
    "y_pred_no_cs = y_proba[:, 1] > 0.5\n",
    "\n",
    "# Classification with cost-sensitive threshold\n",
    "cs_thresh = df_test['C_FP'] / (df_test['C_FP'] + df_test['C_FN'])\n",
    "y_pred_cs = y_proba[:, 1] > cs_thresh"
   ]
  },
  {
   "cell_type": "markdown",
   "id": "cb2dc12c-4be8-4539-bb5f-051b9c42e2a2",
   "metadata": {},
   "source": [
    "### 4.2.3 Compute evaluation metrics and visualize"
   ]
  },
  {
   "cell_type": "code",
   "execution_count": 7,
   "id": "1451e68a-199e-44ad-bcad-e8ce5a6a4362",
   "metadata": {
    "tags": []
   },
   "outputs": [],
   "source": [
    "# Get the transaction amounts\n",
    "amounts = df_test['Amount']\n",
    "\n",
    "# Compute metrics for each classifier\n",
    "eval_metrics_no_cs = evaluate_pred(y_test, y_pred_no_cs, amounts)\n",
    "eval_metrics_cs    = evaluate_pred(y_test, y_pred_cs,    amounts)"
   ]
  },
  {
   "cell_type": "code",
   "execution_count": 8,
   "id": "cf6a5731",
   "metadata": {},
   "outputs": [],
   "source": [
    "df = pd.DataFrame([\n",
    "    {\n",
    "        'Method': 'Regular threshold (0.5)',\n",
    "        **eval_metrics_no_cs\n",
    "    },\n",
    "    {\n",
    "        'Method': 'Cost-sensitive threshold',\n",
    "        **eval_metrics_cs\n",
    "    },\n",
    "])"
   ]
  },
  {
   "cell_type": "code",
   "execution_count": 9,
   "id": "5b1e95b3",
   "metadata": {},
   "outputs": [
    {
     "data": {
      "text/html": [
       "<div>\n",
       "<style scoped>\n",
       "    .dataframe tbody tr th:only-of-type {\n",
       "        vertical-align: middle;\n",
       "    }\n",
       "\n",
       "    .dataframe tbody tr th {\n",
       "        vertical-align: top;\n",
       "    }\n",
       "\n",
       "    .dataframe thead th {\n",
       "        text-align: right;\n",
       "    }\n",
       "</style>\n",
       "<table border=\"1\" class=\"dataframe\">\n",
       "  <thead>\n",
       "    <tr style=\"text-align: right;\">\n",
       "      <th></th>\n",
       "      <th>Method</th>\n",
       "      <th>Cost Precision</th>\n",
       "      <th>Cost Recall</th>\n",
       "      <th>TP Amount</th>\n",
       "      <th>FP Amount</th>\n",
       "      <th>FN Amount</th>\n",
       "      <th>Net Recovered Amount</th>\n",
       "    </tr>\n",
       "  </thead>\n",
       "  <tbody>\n",
       "    <tr>\n",
       "      <th>0</th>\n",
       "      <td>Regular threshold (0.5)</td>\n",
       "      <td>0.997766</td>\n",
       "      <td>0.514306</td>\n",
       "      <td>16075.45</td>\n",
       "      <td>36.0</td>\n",
       "      <td>15181.12</td>\n",
       "      <td>858.33</td>\n",
       "    </tr>\n",
       "    <tr>\n",
       "      <th>1</th>\n",
       "      <td>Cost-sensitive threshold</td>\n",
       "      <td>0.972386</td>\n",
       "      <td>0.858473</td>\n",
       "      <td>26832.93</td>\n",
       "      <td>762.0</td>\n",
       "      <td>4423.64</td>\n",
       "      <td>21647.29</td>\n",
       "    </tr>\n",
       "  </tbody>\n",
       "</table>\n",
       "</div>"
      ],
      "text/plain": [
       "                     Method  Cost Precision  Cost Recall  TP Amount  \\\n",
       "0   Regular threshold (0.5)        0.997766     0.514306   16075.45   \n",
       "1  Cost-sensitive threshold        0.972386     0.858473   26832.93   \n",
       "\n",
       "   FP Amount  FN Amount  Net Recovered Amount  \n",
       "0       36.0   15181.12                858.33  \n",
       "1      762.0    4423.64              21647.29  "
      ]
     },
     "execution_count": 9,
     "metadata": {},
     "output_type": "execute_result"
    }
   ],
   "source": [
    "df"
   ]
  },
  {
   "cell_type": "code",
   "execution_count": 10,
   "id": "7d06e03f",
   "metadata": {},
   "outputs": [
    {
     "data": {
      "text/plain": [
       "<AxesSubplot:xlabel='Method', ylabel='Cost Recall'>"
      ]
     },
     "execution_count": 10,
     "metadata": {},
     "output_type": "execute_result"
    },
    {
     "data": {
      "image/png": "[encoded data removed]",
      "text/plain": [
       "<Figure size 640x480 with 1 Axes>"
      ]
     },
     "metadata": {},
     "output_type": "display_data"
    }
   ],
   "source": [
    "sns.barplot(data=df, x='Method', y='Cost Recall')"
   ]
  },
  {
   "cell_type": "code",
   "execution_count": 11,
   "id": "7ed2fc43",
   "metadata": {},
   "outputs": [
    {
     "data": {
      "text/plain": [
       "<AxesSubplot:xlabel='Method', ylabel='Cost Precision'>"
      ]
     },
     "execution_count": 11,
     "metadata": {},
     "output_type": "execute_result"
    },
    {
     "data": {
      "image/png": "[encoded data removed]",
      "text/plain": [
       "<Figure size 640x480 with 1 Axes>"
      ]
     },
     "metadata": {},
     "output_type": "display_data"
    }
   ],
   "source": [
    "sns.barplot(data=df, x='Method', y='Cost Precision')"
   ]
  },
  {
   "cell_type": "code",
   "execution_count": null,
   "id": "22b1257d",
   "metadata": {},
   "outputs": [],
   "source": []
  }
 ],
 "metadata": {
  "kernelspec": {
   "display_name": "Python 3 (ipykernel)",
   "language": "python",
   "name": "python3"
  },
  "language_info": {
   "codemirror_mode": {
    "name": "ipython",
    "version": 3
   },
   "file_extension": ".py",
   "mimetype": "text/x-python",
   "name": "python",
   "nbconvert_exporter": "python",
   "pygments_lexer": "ipython3",
   "version": "3.10.6"
  }
 },
 "nbformat": 4,
 "nbformat_minor": 5
}
